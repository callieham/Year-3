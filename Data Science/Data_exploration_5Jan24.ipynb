{
  "cells": [
    {
      "cell_type": "markdown",
      "metadata": {
        "id": "AT4RPNvxq6lT"
      },
      "source": [
        "#### Prerequisites\n",
        "\n",
        "- Basic familiarity with [Pandas](https://pandas.pydata.org/pandas-docs/stable/user_guide/10min.html)\n",
        "- Basic familiarity with [Pyplot](https://matplotlib.org/stable/tutorials/introductory/pyplot.html)"
      ]
    },
    {
      "cell_type": "markdown",
      "metadata": {
        "id": "9jw9cDN9sBLw"
      },
      "source": [
        "## Outline\n",
        "\n",
        "- [Section 1](#section-1): Data Loading\n",
        "- [Section 2](#section-2): Data Cleaning\n",
        "- [Section 3](#section-3): More Data Cleaning\n",
        "- [Section 4](#section-4): Descriptive Statistics\n",
        "- [Section 5](#section-5): Visualization\n"
      ]
    },
    {
      "cell_type": "markdown",
      "metadata": {
        "id": "0A9XJRkh3avA"
      },
      "source": [
        "# Data exploration\n",
        "\n",
        "In this notebook, we will learn some basic python functions which are helpful to gain a first overview whenever you face an unknown data set.\n",
        "\n",
        "You will work with a data set that consists of climbing data of [Mount Rainier](https://goo.gl/maps/WyAMb5BRBrgRECNB9). Mount Rainier is a 4,392 meters high stratovolcano in Washington, USA, and is considered difficult to summit. You must download the data set from Blackboard.\n",
        "\n",
        "We start with importing the required packages: numpy, pandas, and matplotlib."
      ]
    },
    {
      "cell_type": "code",
      "execution_count": 3,
      "metadata": {
        "id": "GM-XTBpc3Udb"
      },
      "outputs": [],
      "source": [
        "import numpy\n",
        "import pandas as pd\n",
        "import matplotlib.pyplot as plt"
      ]
    },
    {
      "cell_type": "markdown",
      "metadata": {
        "id": "Uhykjyll2Z_X"
      },
      "source": [
        "<a name=\"section-1\"></a>\n",
        "## Section 1: Data Loading"
      ]
    },
    {
      "cell_type": "markdown",
      "metadata": {
        "id": "ruc-V3Fe5kkg"
      },
      "source": [
        "Now we load the data set into a pandas data frame, which is standard the representation of a matrix with row and column names in python.\n",
        "\n",
        "_When using Google Colab, you first need to upload the data set to your notebook. This can be done by `files.upload()` from Google Colab's own python package `google.colab`._"
      ]
    },
    {
      "cell_type": "code",
      "execution_count": null,
      "metadata": {
        "colab": {
          "base_uri": "https://localhost:8080/",
          "height": 73
        },
        "id": "ecRlQvpl4W0h",
        "outputId": "13d3fc08-f4aa-4553-dcc7-e74c7ec3a90a"
      },
      "outputs": [
        {
          "data": {
            "text/html": [
              "\n",
              "     <input type=\"file\" id=\"files-2b5a7dfe-af2b-4710-b504-c50f0aa6bc5c\" name=\"files[]\" multiple disabled\n",
              "        style=\"border:none\" />\n",
              "     <output id=\"result-2b5a7dfe-af2b-4710-b504-c50f0aa6bc5c\">\n",
              "      Upload widget is only available when the cell has been executed in the\n",
              "      current browser session. Please rerun this cell to enable.\n",
              "      </output>\n",
              "      <script>// Copyright 2017 Google LLC\n",
              "//\n",
              "// Licensed under the Apache License, Version 2.0 (the \"License\");\n",
              "// you may not use this file except in compliance with the License.\n",
              "// You may obtain a copy of the License at\n",
              "//\n",
              "//      http://www.apache.org/licenses/LICENSE-2.0\n",
              "//\n",
              "// Unless required by applicable law or agreed to in writing, software\n",
              "// distributed under the License is distributed on an \"AS IS\" BASIS,\n",
              "// WITHOUT WARRANTIES OR CONDITIONS OF ANY KIND, either express or implied.\n",
              "// See the License for the specific language governing permissions and\n",
              "// limitations under the License.\n",
              "\n",
              "/**\n",
              " * @fileoverview Helpers for google.colab Python module.\n",
              " */\n",
              "(function(scope) {\n",
              "function span(text, styleAttributes = {}) {\n",
              "  const element = document.createElement('span');\n",
              "  element.textContent = text;\n",
              "  for (const key of Object.keys(styleAttributes)) {\n",
              "    element.style[key] = styleAttributes[key];\n",
              "  }\n",
              "  return element;\n",
              "}\n",
              "\n",
              "// Max number of bytes which will be uploaded at a time.\n",
              "const MAX_PAYLOAD_SIZE = 100 * 1024;\n",
              "\n",
              "function _uploadFiles(inputId, outputId) {\n",
              "  const steps = uploadFilesStep(inputId, outputId);\n",
              "  const outputElement = document.getElementById(outputId);\n",
              "  // Cache steps on the outputElement to make it available for the next call\n",
              "  // to uploadFilesContinue from Python.\n",
              "  outputElement.steps = steps;\n",
              "\n",
              "  return _uploadFilesContinue(outputId);\n",
              "}\n",
              "\n",
              "// This is roughly an async generator (not supported in the browser yet),\n",
              "// where there are multiple asynchronous steps and the Python side is going\n",
              "// to poll for completion of each step.\n",
              "// This uses a Promise to block the python side on completion of each step,\n",
              "// then passes the result of the previous step as the input to the next step.\n",
              "function _uploadFilesContinue(outputId) {\n",
              "  const outputElement = document.getElementById(outputId);\n",
              "  const steps = outputElement.steps;\n",
              "\n",
              "  const next = steps.next(outputElement.lastPromiseValue);\n",
              "  return Promise.resolve(next.value.promise).then((value) => {\n",
              "    // Cache the last promise value to make it available to the next\n",
              "    // step of the generator.\n",
              "    outputElement.lastPromiseValue = value;\n",
              "    return next.value.response;\n",
              "  });\n",
              "}\n",
              "\n",
              "/**\n",
              " * Generator function which is called between each async step of the upload\n",
              " * process.\n",
              " * @param {string} inputId Element ID of the input file picker element.\n",
              " * @param {string} outputId Element ID of the output display.\n",
              " * @return {!Iterable<!Object>} Iterable of next steps.\n",
              " */\n",
              "function* uploadFilesStep(inputId, outputId) {\n",
              "  const inputElement = document.getElementById(inputId);\n",
              "  inputElement.disabled = false;\n",
              "\n",
              "  const outputElement = document.getElementById(outputId);\n",
              "  outputElement.innerHTML = '';\n",
              "\n",
              "  const pickedPromise = new Promise((resolve) => {\n",
              "    inputElement.addEventListener('change', (e) => {\n",
              "      resolve(e.target.files);\n",
              "    });\n",
              "  });\n",
              "\n",
              "  const cancel = document.createElement('button');\n",
              "  inputElement.parentElement.appendChild(cancel);\n",
              "  cancel.textContent = 'Cancel upload';\n",
              "  const cancelPromise = new Promise((resolve) => {\n",
              "    cancel.onclick = () => {\n",
              "      resolve(null);\n",
              "    };\n",
              "  });\n",
              "\n",
              "  // Wait for the user to pick the files.\n",
              "  const files = yield {\n",
              "    promise: Promise.race([pickedPromise, cancelPromise]),\n",
              "    response: {\n",
              "      action: 'starting',\n",
              "    }\n",
              "  };\n",
              "\n",
              "  cancel.remove();\n",
              "\n",
              "  // Disable the input element since further picks are not allowed.\n",
              "  inputElement.disabled = true;\n",
              "\n",
              "  if (!files) {\n",
              "    return {\n",
              "      response: {\n",
              "        action: 'complete',\n",
              "      }\n",
              "    };\n",
              "  }\n",
              "\n",
              "  for (const file of files) {\n",
              "    const li = document.createElement('li');\n",
              "    li.append(span(file.name, {fontWeight: 'bold'}));\n",
              "    li.append(span(\n",
              "        `(${file.type || 'n/a'}) - ${file.size} bytes, ` +\n",
              "        `last modified: ${\n",
              "            file.lastModifiedDate ? file.lastModifiedDate.toLocaleDateString() :\n",
              "                                    'n/a'} - `));\n",
              "    const percent = span('0% done');\n",
              "    li.appendChild(percent);\n",
              "\n",
              "    outputElement.appendChild(li);\n",
              "\n",
              "    const fileDataPromise = new Promise((resolve) => {\n",
              "      const reader = new FileReader();\n",
              "      reader.onload = (e) => {\n",
              "        resolve(e.target.result);\n",
              "      };\n",
              "      reader.readAsArrayBuffer(file);\n",
              "    });\n",
              "    // Wait for the data to be ready.\n",
              "    let fileData = yield {\n",
              "      promise: fileDataPromise,\n",
              "      response: {\n",
              "        action: 'continue',\n",
              "      }\n",
              "    };\n",
              "\n",
              "    // Use a chunked sending to avoid message size limits. See b/62115660.\n",
              "    let position = 0;\n",
              "    do {\n",
              "      const length = Math.min(fileData.byteLength - position, MAX_PAYLOAD_SIZE);\n",
              "      const chunk = new Uint8Array(fileData, position, length);\n",
              "      position += length;\n",
              "\n",
              "      const base64 = btoa(String.fromCharCode.apply(null, chunk));\n",
              "      yield {\n",
              "        response: {\n",
              "          action: 'append',\n",
              "          file: file.name,\n",
              "          data: base64,\n",
              "        },\n",
              "      };\n",
              "\n",
              "      let percentDone = fileData.byteLength === 0 ?\n",
              "          100 :\n",
              "          Math.round((position / fileData.byteLength) * 100);\n",
              "      percent.textContent = `${percentDone}% done`;\n",
              "\n",
              "    } while (position < fileData.byteLength);\n",
              "  }\n",
              "\n",
              "  // All done.\n",
              "  yield {\n",
              "    response: {\n",
              "      action: 'complete',\n",
              "    }\n",
              "  };\n",
              "}\n",
              "\n",
              "scope.google = scope.google || {};\n",
              "scope.google.colab = scope.google.colab || {};\n",
              "scope.google.colab._files = {\n",
              "  _uploadFiles,\n",
              "  _uploadFilesContinue,\n",
              "};\n",
              "})(self);\n",
              "</script> "
            ],
            "text/plain": [
              "<IPython.core.display.HTML object>"
            ]
          },
          "metadata": {},
          "output_type": "display_data"
        },
        {
          "name": "stdout",
          "output_type": "stream",
          "text": [
            "Saving climbing_statistics.csv to climbing_statistics.csv\n"
          ]
        }
      ],
      "source": [
        "# only use when running this notebook in Google Colab, ignore this cell when running this notebook on your own machine\n",
        "from google.colab import files\n",
        "\n",
        "climbing_data = files.upload()"
      ]
    },
    {
      "cell_type": "code",
      "execution_count": 5,
      "metadata": {
        "id": "hf54iWpN4XwT"
      },
      "outputs": [],
      "source": [
        "# load data as pandas data frames\n",
        "climbing = pd.read_csv('climbing_statistics(1).csv', parse_dates=['Date'])"
      ]
    },
    {
      "cell_type": "markdown",
      "metadata": {
        "id": "fY7XYLB-DoYG"
      },
      "source": [
        "It is important to inform the [**read_csv**](https://pandas.pydata.org/pandas-docs/version/0.20.1/generated/pandas.read_csv.html) function about the columns corresponding to dates through `parse_dates` argument, to avoid loading the date as a string instead of datetime object. This is necessary to enable sorting rows by date columns and other operations related to date and time.\n",
        "\n",
        "The first step should always be to see the first few rows of your data set. This can easily be done with `.head()` when the object preceding it is a pandas data frame.\n",
        "\n",
        "In the parentheses of `.head()`, you can specify how many rows you would like to see (default is 5), and the function `.tail()` lets you see the last few rows.\n",
        "\n",
        "We print here the first 10 rows."
      ]
    },
    {
      "cell_type": "code",
      "execution_count": 6,
      "metadata": {
        "colab": {
          "base_uri": "https://localhost:8080/",
          "height": 363
        },
        "id": "d7grMx4f4Xtn",
        "outputId": "e358af2b-a013-4a6f-b7bf-070efca37f38"
      },
      "outputs": [
        {
          "data": {
            "text/html": [
              "<div>\n",
              "<style scoped>\n",
              "    .dataframe tbody tr th:only-of-type {\n",
              "        vertical-align: middle;\n",
              "    }\n",
              "\n",
              "    .dataframe tbody tr th {\n",
              "        vertical-align: top;\n",
              "    }\n",
              "\n",
              "    .dataframe thead th {\n",
              "        text-align: right;\n",
              "    }\n",
              "</style>\n",
              "<table border=\"1\" class=\"dataframe\">\n",
              "  <thead>\n",
              "    <tr style=\"text-align: right;\">\n",
              "      <th></th>\n",
              "      <th>Date</th>\n",
              "      <th>Route</th>\n",
              "      <th>Attempted</th>\n",
              "      <th>Succeeded</th>\n",
              "      <th>Success Percentage</th>\n",
              "    </tr>\n",
              "  </thead>\n",
              "  <tbody>\n",
              "    <tr>\n",
              "      <th>0</th>\n",
              "      <td>2015-11-27</td>\n",
              "      <td>Disappointment Cleaver</td>\n",
              "      <td>2</td>\n",
              "      <td>0</td>\n",
              "      <td>0.0</td>\n",
              "    </tr>\n",
              "    <tr>\n",
              "      <th>1</th>\n",
              "      <td>2015-11-21</td>\n",
              "      <td>Disappointment Cleaver</td>\n",
              "      <td>3</td>\n",
              "      <td>0</td>\n",
              "      <td>0.0</td>\n",
              "    </tr>\n",
              "    <tr>\n",
              "      <th>2</th>\n",
              "      <td>2015-10-15</td>\n",
              "      <td>Disappointment Cleaver</td>\n",
              "      <td>2</td>\n",
              "      <td>0</td>\n",
              "      <td>0.0</td>\n",
              "    </tr>\n",
              "    <tr>\n",
              "      <th>3</th>\n",
              "      <td>2015-10-13</td>\n",
              "      <td>Little Tahoma</td>\n",
              "      <td>8</td>\n",
              "      <td>0</td>\n",
              "      <td>0.0</td>\n",
              "    </tr>\n",
              "    <tr>\n",
              "      <th>4</th>\n",
              "      <td>2015-10-09</td>\n",
              "      <td>Disappointment Cleaver</td>\n",
              "      <td>2</td>\n",
              "      <td>0</td>\n",
              "      <td>0.0</td>\n",
              "    </tr>\n",
              "    <tr>\n",
              "      <th>5</th>\n",
              "      <td>2015-10-03</td>\n",
              "      <td>Disappointment Cleaver</td>\n",
              "      <td>10</td>\n",
              "      <td>0</td>\n",
              "      <td>0.0</td>\n",
              "    </tr>\n",
              "    <tr>\n",
              "      <th>6</th>\n",
              "      <td>2015-10-03</td>\n",
              "      <td>Disappointment Cleaver</td>\n",
              "      <td>2</td>\n",
              "      <td>0</td>\n",
              "      <td>0.0</td>\n",
              "    </tr>\n",
              "    <tr>\n",
              "      <th>7</th>\n",
              "      <td>2015-10-02</td>\n",
              "      <td>Kautz Glacier</td>\n",
              "      <td>2</td>\n",
              "      <td>0</td>\n",
              "      <td>0.0</td>\n",
              "    </tr>\n",
              "    <tr>\n",
              "      <th>8</th>\n",
              "      <td>2015-10-02</td>\n",
              "      <td>Disappointment Cleaver</td>\n",
              "      <td>2</td>\n",
              "      <td>0</td>\n",
              "      <td>0.0</td>\n",
              "    </tr>\n",
              "    <tr>\n",
              "      <th>9</th>\n",
              "      <td>2015-09-30</td>\n",
              "      <td>Disappointment Cleaver</td>\n",
              "      <td>2</td>\n",
              "      <td>0</td>\n",
              "      <td>0.0</td>\n",
              "    </tr>\n",
              "  </tbody>\n",
              "</table>\n",
              "</div>"
            ],
            "text/plain": [
              "        Date                   Route  Attempted  Succeeded  Success Percentage\n",
              "0 2015-11-27  Disappointment Cleaver          2          0                 0.0\n",
              "1 2015-11-21  Disappointment Cleaver          3          0                 0.0\n",
              "2 2015-10-15  Disappointment Cleaver          2          0                 0.0\n",
              "3 2015-10-13           Little Tahoma          8          0                 0.0\n",
              "4 2015-10-09  Disappointment Cleaver          2          0                 0.0\n",
              "5 2015-10-03  Disappointment Cleaver         10          0                 0.0\n",
              "6 2015-10-03  Disappointment Cleaver          2          0                 0.0\n",
              "7 2015-10-02           Kautz Glacier          2          0                 0.0\n",
              "8 2015-10-02  Disappointment Cleaver          2          0                 0.0\n",
              "9 2015-09-30  Disappointment Cleaver          2          0                 0.0"
            ]
          },
          "execution_count": 6,
          "metadata": {},
          "output_type": "execute_result"
        }
      ],
      "source": [
        "climbing.head(10)"
      ]
    },
    {
      "cell_type": "markdown",
      "metadata": {
        "id": "A5U0bNx_D_Ag"
      },
      "source": [
        "To get an overview over the size of the data set, we look at the`.shape` attribute of the data frame."
      ]
    },
    {
      "cell_type": "code",
      "execution_count": 7,
      "metadata": {
        "colab": {
          "base_uri": "https://localhost:8080/"
        },
        "id": "txZYx7-7EGA-",
        "outputId": "cc3b81c4-a29c-4cb8-faa8-b79dca8a7d77"
      },
      "outputs": [
        {
          "data": {
            "text/plain": [
              "(4077, 5)"
            ]
          },
          "execution_count": 7,
          "metadata": {},
          "output_type": "execute_result"
        }
      ],
      "source": [
        "# get shape of data\n",
        "climbing.shape"
      ]
    },
    {
      "cell_type": "markdown",
      "metadata": {
        "id": "BZMOYgjEETLb"
      },
      "source": [
        "We see that the data set consists of 5 columns (features) and 4077 rows (data points)."
      ]
    },
    {
      "cell_type": "markdown",
      "metadata": {
        "id": "NRBWoXOK2SCT"
      },
      "source": [
        "<a name=\"section-2\"></a>\n",
        "\n",
        "## Section 2: Data Cleaning"
      ]
    },
    {
      "cell_type": "markdown",
      "metadata": {
        "id": "l0KG2w6R8nLd"
      },
      "source": [
        "However, in the rows with indices **5** and **6** (among others) something has gone wrong. The **Date** and **Route** taken to the summit are exactly the same, so why has this not been summarised in one single row? Such things are very common in real data sets and to deal with these inconsistencies is part of so called **data cleaning**.\n",
        "\n",
        "We will present two different methods for how this data set can be cleaned, i.e., made ready to be used by machine learning models."
      ]
    },
    {
      "cell_type": "markdown",
      "metadata": {
        "id": "KAllV8zz2FY3"
      },
      "source": [
        "### Method 1: Using higher-level Pandas operations"
      ]
    },
    {
      "cell_type": "code",
      "execution_count": 8,
      "metadata": {
        "id": "Izn5hBx0Q_vH"
      },
      "outputs": [],
      "source": [
        "# aggregating the rows when Date and Route are identical\n",
        "climbing_clean_0 = climbing.groupby(['Date', 'Route']).sum().sort_values(['Date', 'Route'], ascending=False).reset_index()\n",
        "# recalculate the success percentage\n",
        "climbing_clean_0['Success Percentage'] = climbing_clean_0['Succeeded'] / climbing_clean_0['Attempted']"
      ]
    },
    {
      "cell_type": "markdown",
      "metadata": {
        "id": "51ziOyy7xKvd"
      },
      "source": [
        "Now check the DataFrame after aggregating the rows by **Date** and **Route**"
      ]
    },
    {
      "cell_type": "code",
      "execution_count": 9,
      "metadata": {
        "colab": {
          "base_uri": "https://localhost:8080/",
          "height": 363
        },
        "id": "EHabFVgkxIEn",
        "outputId": "029f3341-c95b-4f6f-98a1-7a766dd76abe"
      },
      "outputs": [
        {
          "data": {
            "text/html": [
              "<div>\n",
              "<style scoped>\n",
              "    .dataframe tbody tr th:only-of-type {\n",
              "        vertical-align: middle;\n",
              "    }\n",
              "\n",
              "    .dataframe tbody tr th {\n",
              "        vertical-align: top;\n",
              "    }\n",
              "\n",
              "    .dataframe thead th {\n",
              "        text-align: right;\n",
              "    }\n",
              "</style>\n",
              "<table border=\"1\" class=\"dataframe\">\n",
              "  <thead>\n",
              "    <tr style=\"text-align: right;\">\n",
              "      <th></th>\n",
              "      <th>Date</th>\n",
              "      <th>Route</th>\n",
              "      <th>Attempted</th>\n",
              "      <th>Succeeded</th>\n",
              "      <th>Success Percentage</th>\n",
              "    </tr>\n",
              "  </thead>\n",
              "  <tbody>\n",
              "    <tr>\n",
              "      <th>0</th>\n",
              "      <td>2015-11-27</td>\n",
              "      <td>Disappointment Cleaver</td>\n",
              "      <td>2</td>\n",
              "      <td>0</td>\n",
              "      <td>0.000000</td>\n",
              "    </tr>\n",
              "    <tr>\n",
              "      <th>1</th>\n",
              "      <td>2015-11-21</td>\n",
              "      <td>Disappointment Cleaver</td>\n",
              "      <td>3</td>\n",
              "      <td>0</td>\n",
              "      <td>0.000000</td>\n",
              "    </tr>\n",
              "    <tr>\n",
              "      <th>2</th>\n",
              "      <td>2015-10-15</td>\n",
              "      <td>Disappointment Cleaver</td>\n",
              "      <td>2</td>\n",
              "      <td>0</td>\n",
              "      <td>0.000000</td>\n",
              "    </tr>\n",
              "    <tr>\n",
              "      <th>3</th>\n",
              "      <td>2015-10-13</td>\n",
              "      <td>Little Tahoma</td>\n",
              "      <td>8</td>\n",
              "      <td>0</td>\n",
              "      <td>0.000000</td>\n",
              "    </tr>\n",
              "    <tr>\n",
              "      <th>4</th>\n",
              "      <td>2015-10-09</td>\n",
              "      <td>Disappointment Cleaver</td>\n",
              "      <td>2</td>\n",
              "      <td>0</td>\n",
              "      <td>0.000000</td>\n",
              "    </tr>\n",
              "    <tr>\n",
              "      <th>5</th>\n",
              "      <td>2015-10-03</td>\n",
              "      <td>Disappointment Cleaver</td>\n",
              "      <td>12</td>\n",
              "      <td>0</td>\n",
              "      <td>0.000000</td>\n",
              "    </tr>\n",
              "    <tr>\n",
              "      <th>6</th>\n",
              "      <td>2015-10-02</td>\n",
              "      <td>Kautz Glacier</td>\n",
              "      <td>2</td>\n",
              "      <td>0</td>\n",
              "      <td>0.000000</td>\n",
              "    </tr>\n",
              "    <tr>\n",
              "      <th>7</th>\n",
              "      <td>2015-10-02</td>\n",
              "      <td>Disappointment Cleaver</td>\n",
              "      <td>2</td>\n",
              "      <td>0</td>\n",
              "      <td>0.000000</td>\n",
              "    </tr>\n",
              "    <tr>\n",
              "      <th>8</th>\n",
              "      <td>2015-09-30</td>\n",
              "      <td>Disappointment Cleaver</td>\n",
              "      <td>2</td>\n",
              "      <td>0</td>\n",
              "      <td>0.000000</td>\n",
              "    </tr>\n",
              "    <tr>\n",
              "      <th>9</th>\n",
              "      <td>2015-09-28</td>\n",
              "      <td>Disappointment Cleaver</td>\n",
              "      <td>12</td>\n",
              "      <td>4</td>\n",
              "      <td>0.333333</td>\n",
              "    </tr>\n",
              "  </tbody>\n",
              "</table>\n",
              "</div>"
            ],
            "text/plain": [
              "        Date                   Route  Attempted  Succeeded  Success Percentage\n",
              "0 2015-11-27  Disappointment Cleaver          2          0            0.000000\n",
              "1 2015-11-21  Disappointment Cleaver          3          0            0.000000\n",
              "2 2015-10-15  Disappointment Cleaver          2          0            0.000000\n",
              "3 2015-10-13           Little Tahoma          8          0            0.000000\n",
              "4 2015-10-09  Disappointment Cleaver          2          0            0.000000\n",
              "5 2015-10-03  Disappointment Cleaver         12          0            0.000000\n",
              "6 2015-10-02           Kautz Glacier          2          0            0.000000\n",
              "7 2015-10-02  Disappointment Cleaver          2          0            0.000000\n",
              "8 2015-09-30  Disappointment Cleaver          2          0            0.000000\n",
              "9 2015-09-28  Disappointment Cleaver         12          4            0.333333"
            ]
          },
          "execution_count": 9,
          "metadata": {},
          "output_type": "execute_result"
        }
      ],
      "source": [
        "climbing_clean_0.head(10)"
      ]
    },
    {
      "cell_type": "markdown",
      "metadata": {
        "id": "ncghyG8F4mAO"
      },
      "source": [
        "### Method 2: Looping over the rows"
      ]
    },
    {
      "cell_type": "code",
      "execution_count": 10,
      "metadata": {
        "id": "c_pN_ecH4Xqg"
      },
      "outputs": [],
      "source": [
        "# create a sorted copy from climbing dataframe, with indices 0, 1, ..., n-1\n",
        "climbing_clean_1 = climbing.sort_values(['Date', 'Route'], ascending=False, ignore_index=True)\n",
        "\n",
        "# aggregating the rows when Date and Route are identical\n",
        "for index, row in climbing_clean_1.iterrows():\n",
        "    # skip the first row\n",
        "    if index == 0:\n",
        "        continue\n",
        "\n",
        "    # check if Date and Route are identical with predecessor\n",
        "    if (climbing_clean_1.loc[index-1, 'Date'] == climbing_clean_1.loc[index, 'Date'] and \\\n",
        "        climbing_clean_1.loc[index-1, 'Route'] == climbing_clean_1.loc[index, 'Route']):\n",
        "\n",
        "        # aggregate Attempted and Succeeded\n",
        "        climbing_clean_1.loc[index, 'Attempted'] += climbing_clean_1.loc[index-1, 'Attempted']\n",
        "        climbing_clean_1.loc[index, 'Succeeded'] += climbing_clean_1.loc[index-1, 'Succeeded']\n",
        "\n",
        "    # recalculate the Success Percentage\n",
        "    climbing_clean_1.loc[index, 'Success Percentage'] = climbing_clean_1.loc[index, 'Succeeded'] / climbing_clean_1.loc[index, 'Attempted']"
      ]
    },
    {
      "cell_type": "code",
      "execution_count": 11,
      "metadata": {
        "colab": {
          "base_uri": "https://localhost:8080/",
          "height": 677
        },
        "id": "-TJFFIwS4XnZ",
        "outputId": "909efe12-4cfb-4038-9769-615d21b112eb"
      },
      "outputs": [
        {
          "data": {
            "text/html": [
              "<div>\n",
              "<style scoped>\n",
              "    .dataframe tbody tr th:only-of-type {\n",
              "        vertical-align: middle;\n",
              "    }\n",
              "\n",
              "    .dataframe tbody tr th {\n",
              "        vertical-align: top;\n",
              "    }\n",
              "\n",
              "    .dataframe thead th {\n",
              "        text-align: right;\n",
              "    }\n",
              "</style>\n",
              "<table border=\"1\" class=\"dataframe\">\n",
              "  <thead>\n",
              "    <tr style=\"text-align: right;\">\n",
              "      <th></th>\n",
              "      <th>Date</th>\n",
              "      <th>Route</th>\n",
              "      <th>Attempted</th>\n",
              "      <th>Succeeded</th>\n",
              "      <th>Success Percentage</th>\n",
              "    </tr>\n",
              "  </thead>\n",
              "  <tbody>\n",
              "    <tr>\n",
              "      <th>4057</th>\n",
              "      <td>2014-01-25</td>\n",
              "      <td>Ingraham Direct</td>\n",
              "      <td>10</td>\n",
              "      <td>2</td>\n",
              "      <td>0.200000</td>\n",
              "    </tr>\n",
              "    <tr>\n",
              "      <th>4058</th>\n",
              "      <td>2014-01-25</td>\n",
              "      <td>Gibralter Ledges</td>\n",
              "      <td>2</td>\n",
              "      <td>0</td>\n",
              "      <td>0.000000</td>\n",
              "    </tr>\n",
              "    <tr>\n",
              "      <th>4059</th>\n",
              "      <td>2014-01-25</td>\n",
              "      <td>Gibralter Ledges</td>\n",
              "      <td>4</td>\n",
              "      <td>0</td>\n",
              "      <td>0.000000</td>\n",
              "    </tr>\n",
              "    <tr>\n",
              "      <th>4060</th>\n",
              "      <td>2014-01-24</td>\n",
              "      <td>Ingraham Direct</td>\n",
              "      <td>2</td>\n",
              "      <td>0</td>\n",
              "      <td>0.000000</td>\n",
              "    </tr>\n",
              "    <tr>\n",
              "      <th>4061</th>\n",
              "      <td>2014-01-24</td>\n",
              "      <td>Gibralter Ledges</td>\n",
              "      <td>2</td>\n",
              "      <td>2</td>\n",
              "      <td>1.000000</td>\n",
              "    </tr>\n",
              "    <tr>\n",
              "      <th>4062</th>\n",
              "      <td>2014-01-24</td>\n",
              "      <td>Gibralter Ledges</td>\n",
              "      <td>3</td>\n",
              "      <td>2</td>\n",
              "      <td>0.666667</td>\n",
              "    </tr>\n",
              "    <tr>\n",
              "      <th>4063</th>\n",
              "      <td>2014-01-24</td>\n",
              "      <td>Gibralter Ledges</td>\n",
              "      <td>5</td>\n",
              "      <td>4</td>\n",
              "      <td>0.800000</td>\n",
              "    </tr>\n",
              "    <tr>\n",
              "      <th>4064</th>\n",
              "      <td>2014-01-24</td>\n",
              "      <td>Gibralter Ledges</td>\n",
              "      <td>7</td>\n",
              "      <td>6</td>\n",
              "      <td>0.857143</td>\n",
              "    </tr>\n",
              "    <tr>\n",
              "      <th>4065</th>\n",
              "      <td>2014-01-24</td>\n",
              "      <td>Gibralter Ledges</td>\n",
              "      <td>9</td>\n",
              "      <td>6</td>\n",
              "      <td>0.666667</td>\n",
              "    </tr>\n",
              "    <tr>\n",
              "      <th>4066</th>\n",
              "      <td>2014-01-23</td>\n",
              "      <td>Little Tahoma</td>\n",
              "      <td>2</td>\n",
              "      <td>0</td>\n",
              "      <td>0.000000</td>\n",
              "    </tr>\n",
              "    <tr>\n",
              "      <th>4067</th>\n",
              "      <td>2014-01-20</td>\n",
              "      <td>Fuhrer's Finger</td>\n",
              "      <td>2</td>\n",
              "      <td>0</td>\n",
              "      <td>0.000000</td>\n",
              "    </tr>\n",
              "    <tr>\n",
              "      <th>4068</th>\n",
              "      <td>2014-01-19</td>\n",
              "      <td>Gibralter Ledges</td>\n",
              "      <td>2</td>\n",
              "      <td>0</td>\n",
              "      <td>0.000000</td>\n",
              "    </tr>\n",
              "    <tr>\n",
              "      <th>4069</th>\n",
              "      <td>2014-01-18</td>\n",
              "      <td>Gibralter Ledges</td>\n",
              "      <td>2</td>\n",
              "      <td>0</td>\n",
              "      <td>0.000000</td>\n",
              "    </tr>\n",
              "    <tr>\n",
              "      <th>4070</th>\n",
              "      <td>2014-01-18</td>\n",
              "      <td>Gibralter Ledges</td>\n",
              "      <td>6</td>\n",
              "      <td>4</td>\n",
              "      <td>0.666667</td>\n",
              "    </tr>\n",
              "    <tr>\n",
              "      <th>4071</th>\n",
              "      <td>2014-01-18</td>\n",
              "      <td>Gibralter Ledges</td>\n",
              "      <td>8</td>\n",
              "      <td>4</td>\n",
              "      <td>0.500000</td>\n",
              "    </tr>\n",
              "    <tr>\n",
              "      <th>4072</th>\n",
              "      <td>2014-01-16</td>\n",
              "      <td>Little Tahoma</td>\n",
              "      <td>2</td>\n",
              "      <td>0</td>\n",
              "      <td>0.000000</td>\n",
              "    </tr>\n",
              "    <tr>\n",
              "      <th>4073</th>\n",
              "      <td>2014-01-06</td>\n",
              "      <td>Disappointment Cleaver</td>\n",
              "      <td>8</td>\n",
              "      <td>0</td>\n",
              "      <td>0.000000</td>\n",
              "    </tr>\n",
              "    <tr>\n",
              "      <th>4074</th>\n",
              "      <td>2014-01-06</td>\n",
              "      <td>Disappointment Cleaver</td>\n",
              "      <td>16</td>\n",
              "      <td>0</td>\n",
              "      <td>0.000000</td>\n",
              "    </tr>\n",
              "    <tr>\n",
              "      <th>4075</th>\n",
              "      <td>2014-01-05</td>\n",
              "      <td>Disappointment Cleaver</td>\n",
              "      <td>2</td>\n",
              "      <td>0</td>\n",
              "      <td>0.000000</td>\n",
              "    </tr>\n",
              "    <tr>\n",
              "      <th>4076</th>\n",
              "      <td>2014-01-04</td>\n",
              "      <td>Gibralter Ledges</td>\n",
              "      <td>3</td>\n",
              "      <td>2</td>\n",
              "      <td>0.666667</td>\n",
              "    </tr>\n",
              "  </tbody>\n",
              "</table>\n",
              "</div>"
            ],
            "text/plain": [
              "           Date                   Route  Attempted  Succeeded  \\\n",
              "4057 2014-01-25         Ingraham Direct         10          2   \n",
              "4058 2014-01-25        Gibralter Ledges          2          0   \n",
              "4059 2014-01-25        Gibralter Ledges          4          0   \n",
              "4060 2014-01-24         Ingraham Direct          2          0   \n",
              "4061 2014-01-24        Gibralter Ledges          2          2   \n",
              "4062 2014-01-24        Gibralter Ledges          3          2   \n",
              "4063 2014-01-24        Gibralter Ledges          5          4   \n",
              "4064 2014-01-24        Gibralter Ledges          7          6   \n",
              "4065 2014-01-24        Gibralter Ledges          9          6   \n",
              "4066 2014-01-23           Little Tahoma          2          0   \n",
              "4067 2014-01-20         Fuhrer's Finger          2          0   \n",
              "4068 2014-01-19        Gibralter Ledges          2          0   \n",
              "4069 2014-01-18        Gibralter Ledges          2          0   \n",
              "4070 2014-01-18        Gibralter Ledges          6          4   \n",
              "4071 2014-01-18        Gibralter Ledges          8          4   \n",
              "4072 2014-01-16           Little Tahoma          2          0   \n",
              "4073 2014-01-06  Disappointment Cleaver          8          0   \n",
              "4074 2014-01-06  Disappointment Cleaver         16          0   \n",
              "4075 2014-01-05  Disappointment Cleaver          2          0   \n",
              "4076 2014-01-04        Gibralter Ledges          3          2   \n",
              "\n",
              "      Success Percentage  \n",
              "4057            0.200000  \n",
              "4058            0.000000  \n",
              "4059            0.000000  \n",
              "4060            0.000000  \n",
              "4061            1.000000  \n",
              "4062            0.666667  \n",
              "4063            0.800000  \n",
              "4064            0.857143  \n",
              "4065            0.666667  \n",
              "4066            0.000000  \n",
              "4067            0.000000  \n",
              "4068            0.000000  \n",
              "4069            0.000000  \n",
              "4070            0.666667  \n",
              "4071            0.500000  \n",
              "4072            0.000000  \n",
              "4073            0.000000  \n",
              "4074            0.000000  \n",
              "4075            0.000000  \n",
              "4076            0.666667  "
            ]
          },
          "execution_count": 11,
          "metadata": {},
          "output_type": "execute_result"
        }
      ],
      "source": [
        "# check\n",
        "climbing_clean_1.tail(20)"
      ]
    },
    {
      "cell_type": "markdown",
      "metadata": {
        "id": "HrFDZePLBNlx"
      },
      "source": [
        "You can see that we were able to sum up the number of Attempted summits, but still have both rows in our data frame. Pandas has a one-line command to delete the first of these duplicates and only keep the last."
      ]
    },
    {
      "cell_type": "code",
      "execution_count": 12,
      "metadata": {
        "id": "ehT-sN1R4XkT"
      },
      "outputs": [],
      "source": [
        "climbing_clean_1 = climbing_clean_1.drop_duplicates(subset=['Date', 'Route'], keep='last')"
      ]
    },
    {
      "cell_type": "code",
      "execution_count": 13,
      "metadata": {
        "colab": {
          "base_uri": "https://localhost:8080/",
          "height": 363
        },
        "id": "_1IR91jF4XhQ",
        "outputId": "5d94eff2-1960-42eb-c499-13ab78555e6a"
      },
      "outputs": [
        {
          "data": {
            "text/html": [
              "<div>\n",
              "<style scoped>\n",
              "    .dataframe tbody tr th:only-of-type {\n",
              "        vertical-align: middle;\n",
              "    }\n",
              "\n",
              "    .dataframe tbody tr th {\n",
              "        vertical-align: top;\n",
              "    }\n",
              "\n",
              "    .dataframe thead th {\n",
              "        text-align: right;\n",
              "    }\n",
              "</style>\n",
              "<table border=\"1\" class=\"dataframe\">\n",
              "  <thead>\n",
              "    <tr style=\"text-align: right;\">\n",
              "      <th></th>\n",
              "      <th>Date</th>\n",
              "      <th>Route</th>\n",
              "      <th>Attempted</th>\n",
              "      <th>Succeeded</th>\n",
              "      <th>Success Percentage</th>\n",
              "    </tr>\n",
              "  </thead>\n",
              "  <tbody>\n",
              "    <tr>\n",
              "      <th>0</th>\n",
              "      <td>2015-11-27</td>\n",
              "      <td>Disappointment Cleaver</td>\n",
              "      <td>2</td>\n",
              "      <td>0</td>\n",
              "      <td>0.000000</td>\n",
              "    </tr>\n",
              "    <tr>\n",
              "      <th>1</th>\n",
              "      <td>2015-11-21</td>\n",
              "      <td>Disappointment Cleaver</td>\n",
              "      <td>3</td>\n",
              "      <td>0</td>\n",
              "      <td>0.000000</td>\n",
              "    </tr>\n",
              "    <tr>\n",
              "      <th>2</th>\n",
              "      <td>2015-10-15</td>\n",
              "      <td>Disappointment Cleaver</td>\n",
              "      <td>2</td>\n",
              "      <td>0</td>\n",
              "      <td>0.000000</td>\n",
              "    </tr>\n",
              "    <tr>\n",
              "      <th>3</th>\n",
              "      <td>2015-10-13</td>\n",
              "      <td>Little Tahoma</td>\n",
              "      <td>8</td>\n",
              "      <td>0</td>\n",
              "      <td>0.000000</td>\n",
              "    </tr>\n",
              "    <tr>\n",
              "      <th>4</th>\n",
              "      <td>2015-10-09</td>\n",
              "      <td>Disappointment Cleaver</td>\n",
              "      <td>2</td>\n",
              "      <td>0</td>\n",
              "      <td>0.000000</td>\n",
              "    </tr>\n",
              "    <tr>\n",
              "      <th>6</th>\n",
              "      <td>2015-10-03</td>\n",
              "      <td>Disappointment Cleaver</td>\n",
              "      <td>12</td>\n",
              "      <td>0</td>\n",
              "      <td>0.000000</td>\n",
              "    </tr>\n",
              "    <tr>\n",
              "      <th>7</th>\n",
              "      <td>2015-10-02</td>\n",
              "      <td>Kautz Glacier</td>\n",
              "      <td>2</td>\n",
              "      <td>0</td>\n",
              "      <td>0.000000</td>\n",
              "    </tr>\n",
              "    <tr>\n",
              "      <th>8</th>\n",
              "      <td>2015-10-02</td>\n",
              "      <td>Disappointment Cleaver</td>\n",
              "      <td>2</td>\n",
              "      <td>0</td>\n",
              "      <td>0.000000</td>\n",
              "    </tr>\n",
              "    <tr>\n",
              "      <th>9</th>\n",
              "      <td>2015-09-30</td>\n",
              "      <td>Disappointment Cleaver</td>\n",
              "      <td>2</td>\n",
              "      <td>0</td>\n",
              "      <td>0.000000</td>\n",
              "    </tr>\n",
              "    <tr>\n",
              "      <th>10</th>\n",
              "      <td>2015-09-28</td>\n",
              "      <td>Disappointment Cleaver</td>\n",
              "      <td>12</td>\n",
              "      <td>4</td>\n",
              "      <td>0.333333</td>\n",
              "    </tr>\n",
              "  </tbody>\n",
              "</table>\n",
              "</div>"
            ],
            "text/plain": [
              "         Date                   Route  Attempted  Succeeded  \\\n",
              "0  2015-11-27  Disappointment Cleaver          2          0   \n",
              "1  2015-11-21  Disappointment Cleaver          3          0   \n",
              "2  2015-10-15  Disappointment Cleaver          2          0   \n",
              "3  2015-10-13           Little Tahoma          8          0   \n",
              "4  2015-10-09  Disappointment Cleaver          2          0   \n",
              "6  2015-10-03  Disappointment Cleaver         12          0   \n",
              "7  2015-10-02           Kautz Glacier          2          0   \n",
              "8  2015-10-02  Disappointment Cleaver          2          0   \n",
              "9  2015-09-30  Disappointment Cleaver          2          0   \n",
              "10 2015-09-28  Disappointment Cleaver         12          4   \n",
              "\n",
              "    Success Percentage  \n",
              "0             0.000000  \n",
              "1             0.000000  \n",
              "2             0.000000  \n",
              "3             0.000000  \n",
              "4             0.000000  \n",
              "6             0.000000  \n",
              "7             0.000000  \n",
              "8             0.000000  \n",
              "9             0.000000  \n",
              "10            0.333333  "
            ]
          },
          "execution_count": 13,
          "metadata": {},
          "output_type": "execute_result"
        }
      ],
      "source": [
        "# check\n",
        "climbing_clean_1.head(10)"
      ]
    },
    {
      "cell_type": "markdown",
      "metadata": {
        "id": "OZubvEKlBuAu"
      },
      "source": [
        "Now we have the data frame that we wanted. The indices can simply be reset with `.reset_index()`."
      ]
    },
    {
      "cell_type": "code",
      "execution_count": 14,
      "metadata": {
        "id": "mzChXO68Br2T"
      },
      "outputs": [],
      "source": [
        "climbing_clean_1 = climbing_clean_1.reset_index(drop=True)  # with drop=True, drop the old index and create a new one"
      ]
    },
    {
      "cell_type": "code",
      "execution_count": 15,
      "metadata": {
        "colab": {
          "base_uri": "https://localhost:8080/",
          "height": 363
        },
        "id": "-53VVl6AB-em",
        "outputId": "e4b96b0e-87e3-4534-b7eb-af404ccc2b26"
      },
      "outputs": [
        {
          "data": {
            "text/html": [
              "<div>\n",
              "<style scoped>\n",
              "    .dataframe tbody tr th:only-of-type {\n",
              "        vertical-align: middle;\n",
              "    }\n",
              "\n",
              "    .dataframe tbody tr th {\n",
              "        vertical-align: top;\n",
              "    }\n",
              "\n",
              "    .dataframe thead th {\n",
              "        text-align: right;\n",
              "    }\n",
              "</style>\n",
              "<table border=\"1\" class=\"dataframe\">\n",
              "  <thead>\n",
              "    <tr style=\"text-align: right;\">\n",
              "      <th></th>\n",
              "      <th>Date</th>\n",
              "      <th>Route</th>\n",
              "      <th>Attempted</th>\n",
              "      <th>Succeeded</th>\n",
              "      <th>Success Percentage</th>\n",
              "    </tr>\n",
              "  </thead>\n",
              "  <tbody>\n",
              "    <tr>\n",
              "      <th>0</th>\n",
              "      <td>2015-11-27</td>\n",
              "      <td>Disappointment Cleaver</td>\n",
              "      <td>2</td>\n",
              "      <td>0</td>\n",
              "      <td>0.000000</td>\n",
              "    </tr>\n",
              "    <tr>\n",
              "      <th>1</th>\n",
              "      <td>2015-11-21</td>\n",
              "      <td>Disappointment Cleaver</td>\n",
              "      <td>3</td>\n",
              "      <td>0</td>\n",
              "      <td>0.000000</td>\n",
              "    </tr>\n",
              "    <tr>\n",
              "      <th>2</th>\n",
              "      <td>2015-10-15</td>\n",
              "      <td>Disappointment Cleaver</td>\n",
              "      <td>2</td>\n",
              "      <td>0</td>\n",
              "      <td>0.000000</td>\n",
              "    </tr>\n",
              "    <tr>\n",
              "      <th>3</th>\n",
              "      <td>2015-10-13</td>\n",
              "      <td>Little Tahoma</td>\n",
              "      <td>8</td>\n",
              "      <td>0</td>\n",
              "      <td>0.000000</td>\n",
              "    </tr>\n",
              "    <tr>\n",
              "      <th>4</th>\n",
              "      <td>2015-10-09</td>\n",
              "      <td>Disappointment Cleaver</td>\n",
              "      <td>2</td>\n",
              "      <td>0</td>\n",
              "      <td>0.000000</td>\n",
              "    </tr>\n",
              "    <tr>\n",
              "      <th>5</th>\n",
              "      <td>2015-10-03</td>\n",
              "      <td>Disappointment Cleaver</td>\n",
              "      <td>12</td>\n",
              "      <td>0</td>\n",
              "      <td>0.000000</td>\n",
              "    </tr>\n",
              "    <tr>\n",
              "      <th>6</th>\n",
              "      <td>2015-10-02</td>\n",
              "      <td>Kautz Glacier</td>\n",
              "      <td>2</td>\n",
              "      <td>0</td>\n",
              "      <td>0.000000</td>\n",
              "    </tr>\n",
              "    <tr>\n",
              "      <th>7</th>\n",
              "      <td>2015-10-02</td>\n",
              "      <td>Disappointment Cleaver</td>\n",
              "      <td>2</td>\n",
              "      <td>0</td>\n",
              "      <td>0.000000</td>\n",
              "    </tr>\n",
              "    <tr>\n",
              "      <th>8</th>\n",
              "      <td>2015-09-30</td>\n",
              "      <td>Disappointment Cleaver</td>\n",
              "      <td>2</td>\n",
              "      <td>0</td>\n",
              "      <td>0.000000</td>\n",
              "    </tr>\n",
              "    <tr>\n",
              "      <th>9</th>\n",
              "      <td>2015-09-28</td>\n",
              "      <td>Disappointment Cleaver</td>\n",
              "      <td>12</td>\n",
              "      <td>4</td>\n",
              "      <td>0.333333</td>\n",
              "    </tr>\n",
              "  </tbody>\n",
              "</table>\n",
              "</div>"
            ],
            "text/plain": [
              "        Date                   Route  Attempted  Succeeded  Success Percentage\n",
              "0 2015-11-27  Disappointment Cleaver          2          0            0.000000\n",
              "1 2015-11-21  Disappointment Cleaver          3          0            0.000000\n",
              "2 2015-10-15  Disappointment Cleaver          2          0            0.000000\n",
              "3 2015-10-13           Little Tahoma          8          0            0.000000\n",
              "4 2015-10-09  Disappointment Cleaver          2          0            0.000000\n",
              "5 2015-10-03  Disappointment Cleaver         12          0            0.000000\n",
              "6 2015-10-02           Kautz Glacier          2          0            0.000000\n",
              "7 2015-10-02  Disappointment Cleaver          2          0            0.000000\n",
              "8 2015-09-30  Disappointment Cleaver          2          0            0.000000\n",
              "9 2015-09-28  Disappointment Cleaver         12          4            0.333333"
            ]
          },
          "execution_count": 15,
          "metadata": {},
          "output_type": "execute_result"
        }
      ],
      "source": [
        "# check\n",
        "climbing_clean_1.head(10)"
      ]
    },
    {
      "cell_type": "markdown",
      "metadata": {
        "id": "yUBruaC1CvUG"
      },
      "source": [
        "Check if the results from Method 1 matches with results from Method 2"
      ]
    },
    {
      "cell_type": "code",
      "execution_count": 16,
      "metadata": {
        "colab": {
          "base_uri": "https://localhost:8080/",
          "height": 53
        },
        "id": "wVpjQErhCt_c",
        "outputId": "09aff71b-4ad4-4a11-dfba-54098a458a20"
      },
      "outputs": [
        {
          "data": {
            "text/html": [
              "<div>\n",
              "<style scoped>\n",
              "    .dataframe tbody tr th:only-of-type {\n",
              "        vertical-align: middle;\n",
              "    }\n",
              "\n",
              "    .dataframe tbody tr th {\n",
              "        vertical-align: top;\n",
              "    }\n",
              "\n",
              "    .dataframe thead tr th {\n",
              "        text-align: left;\n",
              "    }\n",
              "</style>\n",
              "<table border=\"1\" class=\"dataframe\">\n",
              "  <thead>\n",
              "  </thead>\n",
              "  <tbody>\n",
              "  </tbody>\n",
              "</table>\n",
              "</div>"
            ],
            "text/plain": [
              "Empty DataFrame\n",
              "Columns: []\n",
              "Index: []"
            ]
          },
          "execution_count": 16,
          "metadata": {},
          "output_type": "execute_result"
        }
      ],
      "source": [
        "# Any differences will be shown\n",
        "climbing_clean_0.compare(climbing_clean_1)\n"
      ]
    },
    {
      "cell_type": "markdown",
      "metadata": {
        "id": "FSGouCSGF07s"
      },
      "source": [
        "As expected, both methods lead to the same result, so we continue with one of the two (equivalent) cleaned data sets."
      ]
    },
    {
      "cell_type": "code",
      "execution_count": 17,
      "metadata": {
        "id": "676jgjI5GCH4"
      },
      "outputs": [],
      "source": [
        "# define cleaned data set to be used in the following\n",
        "climbing_clean = climbing_clean_0"
      ]
    },
    {
      "cell_type": "markdown",
      "metadata": {
        "id": "WR37McyPGpwI"
      },
      "source": [
        "We can see that the number of rows has decreased (by a factor of 4) after data cleaning."
      ]
    },
    {
      "cell_type": "code",
      "execution_count": 18,
      "metadata": {
        "colab": {
          "base_uri": "https://localhost:8080/"
        },
        "id": "2tYt4oiIGrM4",
        "outputId": "5708e4b9-b0fd-4d56-dc6f-ac07cbdedc7d"
      },
      "outputs": [
        {
          "data": {
            "text/plain": [
              "(1016, 5)"
            ]
          },
          "execution_count": 18,
          "metadata": {},
          "output_type": "execute_result"
        }
      ],
      "source": [
        "# get shape of data\n",
        "climbing_clean.shape"
      ]
    },
    {
      "cell_type": "markdown",
      "metadata": {
        "id": "0PbJXuCH5JyG"
      },
      "source": [
        "<a name=\"section-3\"></a>\n",
        "\n",
        "## Section 3: More Data Cleaning"
      ]
    },
    {
      "cell_type": "markdown",
      "metadata": {
        "id": "qqe-G9J5CL40"
      },
      "source": [
        "Next, we explore other inconsistencies in the data set manually. After having reviewed some random rows by hand, we find that on some dates there were more Succeeded summits than Attempted summits. This must be a mistake and we delete these rows."
      ]
    },
    {
      "cell_type": "code",
      "execution_count": 19,
      "metadata": {
        "id": "qtIUPLi0CAug"
      },
      "outputs": [],
      "source": [
        "# deleting rows, where number of successes is higher than number of attempts\n",
        "mistake_rows = climbing_clean[climbing_clean['Succeeded'] > climbing_clean['Attempted']]"
      ]
    },
    {
      "cell_type": "code",
      "execution_count": 20,
      "metadata": {
        "colab": {
          "base_uri": "https://localhost:8080/",
          "height": 143
        },
        "id": "TysUPLv5DCCw",
        "outputId": "0fd72967-ac8e-43fd-a3da-711ed9041d8f"
      },
      "outputs": [
        {
          "data": {
            "text/html": [
              "<div>\n",
              "<style scoped>\n",
              "    .dataframe tbody tr th:only-of-type {\n",
              "        vertical-align: middle;\n",
              "    }\n",
              "\n",
              "    .dataframe tbody tr th {\n",
              "        vertical-align: top;\n",
              "    }\n",
              "\n",
              "    .dataframe thead th {\n",
              "        text-align: right;\n",
              "    }\n",
              "</style>\n",
              "<table border=\"1\" class=\"dataframe\">\n",
              "  <thead>\n",
              "    <tr style=\"text-align: right;\">\n",
              "      <th></th>\n",
              "      <th>Date</th>\n",
              "      <th>Route</th>\n",
              "      <th>Attempted</th>\n",
              "      <th>Succeeded</th>\n",
              "      <th>Success Percentage</th>\n",
              "    </tr>\n",
              "  </thead>\n",
              "  <tbody>\n",
              "    <tr>\n",
              "      <th>113</th>\n",
              "      <td>2015-07-27</td>\n",
              "      <td>Emmons-Winthrop</td>\n",
              "      <td>20</td>\n",
              "      <td>21</td>\n",
              "      <td>1.050000</td>\n",
              "    </tr>\n",
              "    <tr>\n",
              "      <th>135</th>\n",
              "      <td>2015-07-20</td>\n",
              "      <td>Disappointment Cleaver</td>\n",
              "      <td>67</td>\n",
              "      <td>99</td>\n",
              "      <td>1.477612</td>\n",
              "    </tr>\n",
              "    <tr>\n",
              "      <th>674</th>\n",
              "      <td>2014-07-11</td>\n",
              "      <td>Kautz Glacier</td>\n",
              "      <td>13</td>\n",
              "      <td>14</td>\n",
              "      <td>1.076923</td>\n",
              "    </tr>\n",
              "  </tbody>\n",
              "</table>\n",
              "</div>"
            ],
            "text/plain": [
              "          Date                   Route  Attempted  Succeeded  \\\n",
              "113 2015-07-27         Emmons-Winthrop         20         21   \n",
              "135 2015-07-20  Disappointment Cleaver         67         99   \n",
              "674 2014-07-11           Kautz Glacier         13         14   \n",
              "\n",
              "     Success Percentage  \n",
              "113            1.050000  \n",
              "135            1.477612  \n",
              "674            1.076923  "
            ]
          },
          "execution_count": 20,
          "metadata": {},
          "output_type": "execute_result"
        }
      ],
      "source": [
        "# check\n",
        "mistake_rows"
      ]
    },
    {
      "cell_type": "code",
      "execution_count": 21,
      "metadata": {
        "id": "op4Tlg4oDGKa"
      },
      "outputs": [],
      "source": [
        "# delete these rows\n",
        "climbing_clean = climbing_clean.drop(index=mistake_rows.index)"
      ]
    },
    {
      "cell_type": "code",
      "execution_count": 22,
      "metadata": {
        "colab": {
          "base_uri": "https://localhost:8080/",
          "height": 53
        },
        "id": "eDDHA5L5vK7_",
        "outputId": "bbb0e83e-122d-4548-860c-c14425fea044"
      },
      "outputs": [
        {
          "data": {
            "text/html": [
              "<div>\n",
              "<style scoped>\n",
              "    .dataframe tbody tr th:only-of-type {\n",
              "        vertical-align: middle;\n",
              "    }\n",
              "\n",
              "    .dataframe tbody tr th {\n",
              "        vertical-align: top;\n",
              "    }\n",
              "\n",
              "    .dataframe thead th {\n",
              "        text-align: right;\n",
              "    }\n",
              "</style>\n",
              "<table border=\"1\" class=\"dataframe\">\n",
              "  <thead>\n",
              "    <tr style=\"text-align: right;\">\n",
              "      <th></th>\n",
              "      <th>Date</th>\n",
              "      <th>Route</th>\n",
              "      <th>Attempted</th>\n",
              "      <th>Succeeded</th>\n",
              "      <th>Success Percentage</th>\n",
              "    </tr>\n",
              "  </thead>\n",
              "  <tbody>\n",
              "  </tbody>\n",
              "</table>\n",
              "</div>"
            ],
            "text/plain": [
              "Empty DataFrame\n",
              "Columns: [Date, Route, Attempted, Succeeded, Success Percentage]\n",
              "Index: []"
            ]
          },
          "execution_count": 22,
          "metadata": {},
          "output_type": "execute_result"
        }
      ],
      "source": [
        "# deleted?\n",
        "climbing_clean[climbing_clean['Succeeded'] > climbing_clean['Attempted']]"
      ]
    },
    {
      "cell_type": "markdown",
      "metadata": {
        "id": "hoWIApghvfls"
      },
      "source": [
        "Success! All rows that had a higher number of successes than attempts are deleted."
      ]
    },
    {
      "cell_type": "code",
      "execution_count": 23,
      "metadata": {
        "id": "kayQKDzbvUFD"
      },
      "outputs": [],
      "source": [
        "# reset index again\n",
        "climbing_clean = climbing_clean.reset_index().drop(columns='index')\n"
      ]
    },
    {
      "cell_type": "code",
      "execution_count": 24,
      "metadata": {
        "colab": {
          "base_uri": "https://localhost:8080/",
          "height": 206
        },
        "id": "NnanWRz9vnuM",
        "outputId": "079c65db-3743-4f10-a971-6cf74f59a090"
      },
      "outputs": [
        {
          "data": {
            "text/html": [
              "<div>\n",
              "<style scoped>\n",
              "    .dataframe tbody tr th:only-of-type {\n",
              "        vertical-align: middle;\n",
              "    }\n",
              "\n",
              "    .dataframe tbody tr th {\n",
              "        vertical-align: top;\n",
              "    }\n",
              "\n",
              "    .dataframe thead th {\n",
              "        text-align: right;\n",
              "    }\n",
              "</style>\n",
              "<table border=\"1\" class=\"dataframe\">\n",
              "  <thead>\n",
              "    <tr style=\"text-align: right;\">\n",
              "      <th></th>\n",
              "      <th>Date</th>\n",
              "      <th>Route</th>\n",
              "      <th>Attempted</th>\n",
              "      <th>Succeeded</th>\n",
              "      <th>Success Percentage</th>\n",
              "    </tr>\n",
              "  </thead>\n",
              "  <tbody>\n",
              "    <tr>\n",
              "      <th>0</th>\n",
              "      <td>2015-11-27</td>\n",
              "      <td>Disappointment Cleaver</td>\n",
              "      <td>2</td>\n",
              "      <td>0</td>\n",
              "      <td>0.0</td>\n",
              "    </tr>\n",
              "    <tr>\n",
              "      <th>1</th>\n",
              "      <td>2015-11-21</td>\n",
              "      <td>Disappointment Cleaver</td>\n",
              "      <td>3</td>\n",
              "      <td>0</td>\n",
              "      <td>0.0</td>\n",
              "    </tr>\n",
              "    <tr>\n",
              "      <th>2</th>\n",
              "      <td>2015-10-15</td>\n",
              "      <td>Disappointment Cleaver</td>\n",
              "      <td>2</td>\n",
              "      <td>0</td>\n",
              "      <td>0.0</td>\n",
              "    </tr>\n",
              "    <tr>\n",
              "      <th>3</th>\n",
              "      <td>2015-10-13</td>\n",
              "      <td>Little Tahoma</td>\n",
              "      <td>8</td>\n",
              "      <td>0</td>\n",
              "      <td>0.0</td>\n",
              "    </tr>\n",
              "    <tr>\n",
              "      <th>4</th>\n",
              "      <td>2015-10-09</td>\n",
              "      <td>Disappointment Cleaver</td>\n",
              "      <td>2</td>\n",
              "      <td>0</td>\n",
              "      <td>0.0</td>\n",
              "    </tr>\n",
              "  </tbody>\n",
              "</table>\n",
              "</div>"
            ],
            "text/plain": [
              "        Date                   Route  Attempted  Succeeded  Success Percentage\n",
              "0 2015-11-27  Disappointment Cleaver          2          0                 0.0\n",
              "1 2015-11-21  Disappointment Cleaver          3          0                 0.0\n",
              "2 2015-10-15  Disappointment Cleaver          2          0                 0.0\n",
              "3 2015-10-13           Little Tahoma          8          0                 0.0\n",
              "4 2015-10-09  Disappointment Cleaver          2          0                 0.0"
            ]
          },
          "execution_count": 24,
          "metadata": {},
          "output_type": "execute_result"
        }
      ],
      "source": [
        "# check\n",
        "climbing_clean.head()"
      ]
    },
    {
      "cell_type": "code",
      "execution_count": 25,
      "metadata": {
        "colab": {
          "base_uri": "https://localhost:8080/"
        },
        "id": "RxcEA8qGGb6r",
        "outputId": "655b47f0-28f8-4f6e-e654-8e708ecc6615"
      },
      "outputs": [
        {
          "data": {
            "text/plain": [
              "(1013, 5)"
            ]
          },
          "execution_count": 25,
          "metadata": {},
          "output_type": "execute_result"
        }
      ],
      "source": [
        "# the size of the data set has decreased again\n",
        "climbing_clean.shape"
      ]
    },
    {
      "cell_type": "markdown",
      "metadata": {
        "id": "tqrbqVd97klE"
      },
      "source": [
        "<a name=\"section-4\"></a>\n",
        "\n",
        "## Section 4: Descriptive Statistics"
      ]
    },
    {
      "cell_type": "markdown",
      "metadata": {
        "id": "4BxjI0l2wlYp"
      },
      "source": [
        "It's always a good idea to compute some basic statistics of our data in the beginning. We start with simple means and standard deviations."
      ]
    },
    {
      "cell_type": "code",
      "execution_count": 26,
      "metadata": {
        "colab": {
          "base_uri": "https://localhost:8080/",
          "height": 300
        },
        "id": "bXtrtgvP7Uvh",
        "outputId": "f2dffa9e-2d33-44e3-98f4-7499b6c02279"
      },
      "outputs": [
        {
          "data": {
            "text/html": [
              "<div>\n",
              "<style scoped>\n",
              "    .dataframe tbody tr th:only-of-type {\n",
              "        vertical-align: middle;\n",
              "    }\n",
              "\n",
              "    .dataframe tbody tr th {\n",
              "        vertical-align: top;\n",
              "    }\n",
              "\n",
              "    .dataframe thead th {\n",
              "        text-align: right;\n",
              "    }\n",
              "</style>\n",
              "<table border=\"1\" class=\"dataframe\">\n",
              "  <thead>\n",
              "    <tr style=\"text-align: right;\">\n",
              "      <th></th>\n",
              "      <th>Date</th>\n",
              "      <th>Attempted</th>\n",
              "      <th>Succeeded</th>\n",
              "      <th>Success Percentage</th>\n",
              "    </tr>\n",
              "  </thead>\n",
              "  <tbody>\n",
              "    <tr>\n",
              "      <th>count</th>\n",
              "      <td>1016</td>\n",
              "      <td>1016.000000</td>\n",
              "      <td>1016.000000</td>\n",
              "      <td>1016.000000</td>\n",
              "    </tr>\n",
              "    <tr>\n",
              "      <th>mean</th>\n",
              "      <td>2014-12-09 06:17:00.472441088</td>\n",
              "      <td>20.623031</td>\n",
              "      <td>10.877953</td>\n",
              "      <td>0.397797</td>\n",
              "    </tr>\n",
              "    <tr>\n",
              "      <th>min</th>\n",
              "      <td>2014-01-04 00:00:00</td>\n",
              "      <td>1.000000</td>\n",
              "      <td>0.000000</td>\n",
              "      <td>0.000000</td>\n",
              "    </tr>\n",
              "    <tr>\n",
              "      <th>25%</th>\n",
              "      <td>2014-06-23 00:00:00</td>\n",
              "      <td>3.000000</td>\n",
              "      <td>0.000000</td>\n",
              "      <td>0.000000</td>\n",
              "    </tr>\n",
              "    <tr>\n",
              "      <th>50%</th>\n",
              "      <td>2014-09-06 00:00:00</td>\n",
              "      <td>8.000000</td>\n",
              "      <td>2.000000</td>\n",
              "      <td>0.372842</td>\n",
              "    </tr>\n",
              "    <tr>\n",
              "      <th>75%</th>\n",
              "      <td>2015-06-18 00:00:00</td>\n",
              "      <td>31.000000</td>\n",
              "      <td>16.000000</td>\n",
              "      <td>0.755215</td>\n",
              "    </tr>\n",
              "    <tr>\n",
              "      <th>max</th>\n",
              "      <td>2015-11-27 00:00:00</td>\n",
              "      <td>182.000000</td>\n",
              "      <td>99.000000</td>\n",
              "      <td>1.477612</td>\n",
              "    </tr>\n",
              "    <tr>\n",
              "      <th>std</th>\n",
              "      <td>NaN</td>\n",
              "      <td>26.616833</td>\n",
              "      <td>17.403438</td>\n",
              "      <td>0.394311</td>\n",
              "    </tr>\n",
              "  </tbody>\n",
              "</table>\n",
              "</div>"
            ],
            "text/plain": [
              "                                Date    Attempted    Succeeded  \\\n",
              "count                           1016  1016.000000  1016.000000   \n",
              "mean   2014-12-09 06:17:00.472441088    20.623031    10.877953   \n",
              "min              2014-01-04 00:00:00     1.000000     0.000000   \n",
              "25%              2014-06-23 00:00:00     3.000000     0.000000   \n",
              "50%              2014-09-06 00:00:00     8.000000     2.000000   \n",
              "75%              2015-06-18 00:00:00    31.000000    16.000000   \n",
              "max              2015-11-27 00:00:00   182.000000    99.000000   \n",
              "std                              NaN    26.616833    17.403438   \n",
              "\n",
              "       Success Percentage  \n",
              "count         1016.000000  \n",
              "mean             0.397797  \n",
              "min              0.000000  \n",
              "25%              0.000000  \n",
              "50%              0.372842  \n",
              "75%              0.755215  \n",
              "max              1.477612  \n",
              "std              0.394311  "
            ]
          },
          "execution_count": 26,
          "metadata": {},
          "output_type": "execute_result"
        }
      ],
      "source": [
        "climbing_clean_1.describe()"
      ]
    },
    {
      "cell_type": "markdown",
      "metadata": {
        "id": "lnajJJ4P7xUg"
      },
      "source": [
        "<a name=\"section-5\"></a>\n",
        "\n",
        "## Section 5: Visualization"
      ]
    },
    {
      "cell_type": "markdown",
      "metadata": {
        "id": "yKDouctAxxi_"
      },
      "source": [
        "We can also plot the attempts and successes over time. Our first column is already a date, but pandas has a special data type for dates, which it calls `datetime`.\n",
        "\n",
        "Let's first see in which format our column `Date` saved its values at."
      ]
    },
    {
      "cell_type": "code",
      "execution_count": 27,
      "metadata": {
        "colab": {
          "base_uri": "https://localhost:8080/"
        },
        "id": "JLO2a3ouw-p5",
        "outputId": "bf9a6063-848c-4e86-8284-1933202d5ebc"
      },
      "outputs": [
        {
          "data": {
            "text/plain": [
              "Date                  datetime64[ns]\n",
              "Route                         object\n",
              "Attempted                      int64\n",
              "Succeeded                      int64\n",
              "Success Percentage           float64\n",
              "dtype: object"
            ]
          },
          "execution_count": 27,
          "metadata": {},
          "output_type": "execute_result"
        }
      ],
      "source": [
        "# check data types\n",
        "climbing_clean.dtypes"
      ]
    },
    {
      "cell_type": "markdown",
      "metadata": {
        "id": "uexeSbj-y9Vg"
      },
      "source": [
        "This makes it now very easy to plot histograms over time."
      ]
    },
    {
      "cell_type": "code",
      "execution_count": 28,
      "metadata": {
        "colab": {
          "base_uri": "https://localhost:8080/",
          "height": 744
        },
        "id": "FGy2uN__y7zZ",
        "outputId": "6c2486ac-1c4c-4cb3-b6a7-6f4c2bae4a04"
      },
      "outputs": [
        {
          "data": {
            "image/png": "[encoded data removed]",
            "text/plain": [
              "<Figure size 1400x1000 with 1 Axes>"
            ]
          },
          "metadata": {},
          "output_type": "display_data"
        }
      ],
      "source": [
        "fig, ax = plt.subplots(figsize=(14,10))\n",
        "\n",
        "for col in ['Attempted', 'Succeeded']:\n",
        "    ax.bar(climbing_clean_1['Date'], climbing_clean_1[col], alpha=0.5, label=col)\n",
        "ax.legend(fontsize=14)\n",
        "\n",
        "# rotates and right aligns the x labels, and moves the bottom of the axes up to make room for them\n",
        "fig.autofmt_xdate();"
      ]
    },
    {
      "cell_type": "code",
      "execution_count": null,
      "metadata": {
        "id": "6ER2yVdMCPQQ"
      },
      "outputs": [],
      "source": []
    }
  ],
  "metadata": {
    "colab": {
      "provenance": []
    },
    "kernelspec": {
      "display_name": "Python 3",
      "name": "python3"
    },
    "language_info": {
      "codemirror_mode": {
        "name": "ipython",
        "version": 3
      },
      "file_extension": ".py",
      "mimetype": "text/x-python",
      "name": "python",
      "nbconvert_exporter": "python",
      "pygments_lexer": "ipython3",
      "version": "3.11.1"
    }
  },
  "nbformat": 4,
  "nbformat_minor": 0
}
