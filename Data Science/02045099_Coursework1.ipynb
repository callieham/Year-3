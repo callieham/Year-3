{
  "nbformat": 4,
  "nbformat_minor": 0,
  "metadata": {
    "colab": {
      "provenance": [],
      "toc_visible": true
    },
    "kernelspec": {
      "name": "python3",
      "display_name": "Python 3"
    },
    "language_info": {
      "name": "python"
    }
  },
  "cells": [
    {
      "cell_type": "markdown",
      "source": [
        "# Coursework 1 - Supervised learning\n",
        "\n",
        "**Replace CID in the file name with your CID**"
      ],
      "metadata": {
        "id": "Cb_IWF6UQRGk"
      }
    },
    {
      "cell_type": "markdown",
      "source": [
        "# Outline\n",
        "\n",
        "\n",
        "- [Task 1](#task-1): Regression <a name=\"index-task-1\"></a>\n",
        "  - [(1.1)](#task-11) Random Forest <a name=\"index-task-11\"></a>\n",
        "    - [(1.1.1)](#task-111) <a name=\"index-task-111\"></a>\n",
        "    - [(1.1.2)](#task-112) <a name=\"index-task-112\"></a>\n",
        "    - [(1.1.3)](#task-113) <a name=\"index-task-113\"></a>\n",
        "  - [(1.2)](#task-12) Multi-layer Perceptron <a name=\"index-task-12\"></a>\n",
        "    - [(1.2.1)](#task-121) <a name=\"index-task-121\"></a>\n",
        "    - [(1.2.2)](#task-122) <a name=\"index-task-122\"></a>\n",
        "    - [(1.2.3)](#task-123) <a name=\"index-task-123\"></a>\n",
        "- [Task 2](#task-2): Classification <a name=\"index-task-2\"></a>\n",
        "  - [(2.1)](#task-21) k-Nearest Neighbours <a name=\"index-task-21\"></a>\n",
        "    - [(2.1.1)](#task-211)  <a name=\"index-task-211\"></a>\n",
        "    - [(2.1.2)](#task-212) <a name=\"index-task-212\"></a>\n",
        "    - [(2.1.3)](#task-213) <a name=\"index-task-213\"></a>\n",
        "    - [(2.1.4)](#task-214) <a name=\"index-task-214\"></a>\n",
        "  - [(2.2)](#task-22) Logistic regression vs kernel logistic regression <a name=\"index-task-22\"></a>\n",
        "    - [(2.2.1)](#task-221) <a name=\"index-task-221\"></a>\n",
        "    - [(2.2.2)](#task-222) <a name=\"index-task-222\"></a>\n",
        "    - [(2.2.3)](#task-223) <a name=\"index-task-223\"></a>"
      ],
      "metadata": {
        "id": "yTeLZnrzE0Wy"
      }
    },
    {
      "cell_type": "markdown",
      "source": [
        "\n",
        "\n",
        "---\n",
        "\n"
      ],
      "metadata": {
        "id": "V4LmL6R9N1B-"
      }
    },
    {
      "cell_type": "markdown",
      "source": [
        "<a name=\"task-1\"></a>\n",
        "\n",
        "# (1) Task 1: Regression [(index)](#index-task-1)"
      ],
      "metadata": {
        "id": "0_QE32lOMff_"
      }
    },
    {
      "cell_type": "markdown",
      "source": [
        "<a name=\"task-11\"></a>\n",
        "\n",
        "## (1.1) Random Forest [(index)](#index-task-11)"
      ],
      "metadata": {
        "id": "DLl66QsJMfzc"
      }
    },
    {
      "cell_type": "markdown",
      "source": [
        "<a name=\"task-111\"></a>\n",
        "\n",
        "### (1.1.1) [(index)](#index-task-111)"
      ],
      "metadata": {
        "id": "T47skSuUMf8M"
      }
    },
    {
      "cell_type": "markdown",
      "source": [
        "<a name=\"task-112\"></a>\n",
        "\n",
        "### (1.1.2) [(index)](#index-task-112)"
      ],
      "metadata": {
        "id": "wx4c9z5pMgDR"
      }
    },
    {
      "cell_type": "markdown",
      "source": [
        "<a name=\"task-113\"></a>\n",
        "\n",
        "### (1.1.3) [(index)](#index-task-113)"
      ],
      "metadata": {
        "id": "lEwNJHHTMgNG"
      }
    },
    {
      "cell_type": "markdown",
      "source": [
        "\n",
        "\n",
        "---\n",
        "\n"
      ],
      "metadata": {
        "id": "GqN02H_YPwr0"
      }
    },
    {
      "cell_type": "markdown",
      "source": [
        "<a name=\"task-12\"></a>\n",
        "\n",
        "## (1.2) Multi-layer Perceptron [(index)](#index-task-12)"
      ],
      "metadata": {
        "id": "In8XkuW_MgVV"
      }
    },
    {
      "cell_type": "markdown",
      "source": [
        "<a name=\"task-121\"></a>\n",
        "\n",
        "### (1.2.1) [(index)](#index-task-121)"
      ],
      "metadata": {
        "id": "R1aYyFt7MgeQ"
      }
    },
    {
      "cell_type": "markdown",
      "source": [
        "<a name=\"task-122\"></a>\n",
        "\n",
        "### (1.2.2) [(index)](#index-task-122)"
      ],
      "metadata": {
        "id": "5j1--gzeMgk9"
      }
    },
    {
      "cell_type": "markdown",
      "source": [
        "<a name=\"task-123\"></a>\n",
        "\n",
        "### (1.2.3) [(index)](#index-task-123)"
      ],
      "metadata": {
        "id": "2MccP5-sMgqU"
      }
    },
    {
      "cell_type": "markdown",
      "source": [
        "\n",
        "\n",
        "---\n",
        "\n"
      ],
      "metadata": {
        "id": "vzPd5qZZPzpM"
      }
    },
    {
      "cell_type": "markdown",
      "source": [
        "<a name=\"task-2\"></a>\n",
        "\n",
        "# (2) Task 2: Classification [(index)](#index-task-2)"
      ],
      "metadata": {
        "id": "yJ1n70CNMguM"
      }
    },
    {
      "cell_type": "markdown",
      "source": [
        "<a name=\"task-21\"></a>\n",
        "\n",
        "## (2.1) k-Nearest Neighbours [(index)](#index-task-21)"
      ],
      "metadata": {
        "id": "snlMZuPqMgxd"
      }
    },
    {
      "cell_type": "markdown",
      "source": [
        "<a name=\"task-211\"></a>\n",
        "\n",
        "### (2.1.1) [(index)](#index-task-211)"
      ],
      "metadata": {
        "id": "qVwRifs5Mg0s"
      }
    },
    {
      "cell_type": "markdown",
      "source": [
        "<a name=\"task-212\"></a>\n",
        "\n",
        "### (2.1.2) [(index)](#index-task-212)"
      ],
      "metadata": {
        "id": "hrF3U23EMg3k"
      }
    },
    {
      "cell_type": "markdown",
      "source": [
        "<a name=\"task-213\"></a>\n",
        "\n",
        "### (2.1.3) [(index)](#index-task-213)"
      ],
      "metadata": {
        "id": "sIUs15tlMg9c"
      }
    },
    {
      "cell_type": "markdown",
      "source": [
        "<a name=\"task-214\"></a>\n",
        "\n",
        "### (2.1.4) [(index)](#index-task-214)"
      ],
      "metadata": {
        "id": "aQ3fJoMCPpgE"
      }
    },
    {
      "cell_type": "markdown",
      "source": [
        "\n",
        "\n",
        "---\n",
        "\n"
      ],
      "metadata": {
        "id": "X6Zz2bcMP6Wk"
      }
    },
    {
      "cell_type": "markdown",
      "source": [
        "<a name=\"task-22\"></a>\n",
        "\n",
        "## (2.2) Logistic regression vs kernel logistic regression [(index)](#index-task-22)"
      ],
      "metadata": {
        "id": "J0K6bbpHPUYE"
      }
    },
    {
      "cell_type": "markdown",
      "source": [
        "<a name=\"task-221\"></a>\n",
        "\n",
        "### (2.2.1) [(index)](#index-task-221)"
      ],
      "metadata": {
        "id": "4pVdpUHZP-oE"
      }
    },
    {
      "cell_type": "markdown",
      "source": [
        "<a name=\"task-222\"></a>\n",
        "\n",
        "### (2.2.2) [(index)](#index-task-222)"
      ],
      "metadata": {
        "id": "e_MkiUD4QB0k"
      }
    },
    {
      "cell_type": "markdown",
      "source": [
        "<a name=\"task-223\"></a>\n",
        "\n",
        "### (2.2.3) [(index)](#index-task-223)"
      ],
      "metadata": {
        "id": "DzUYT08xQDV9"
      }
    },
    {
      "cell_type": "code",
      "source": [],
      "metadata": {
        "id": "QrhLFEMnPTy9"
      },
      "execution_count": null,
      "outputs": []
    },
    {
      "cell_type": "code",
      "execution_count": null,
      "metadata": {
        "id": "SYSz-NFcEoFA"
      },
      "outputs": [],
      "source": []
    }
  ]
}