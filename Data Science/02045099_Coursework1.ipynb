{
  "cells": [
    {
      "cell_type": "markdown",
      "metadata": {
        "id": "Cb_IWF6UQRGk"
      },
      "source": [
        "# Coursework 1 - Supervised learning\n",
        "\n",
        "**Replace CID in the file name with your CID**"
      ]
    },
    {
      "cell_type": "markdown",
      "metadata": {
        "id": "yTeLZnrzE0Wy"
      },
      "source": [
        "# Outline\n",
        "\n",
        "\n",
        "- [Task 1](#task-1): Regression <a name=\"index-task-1\"></a>\n",
        "  - [(1.1)](#task-11) Random Forest <a name=\"index-task-11\"></a>\n",
        "    - [(1.1.1)](#task-111) <a name=\"index-task-111\"></a>\n",
        "    - [(1.1.2)](#task-112) <a name=\"index-task-112\"></a>\n",
        "    - [(1.1.3)](#task-113) <a name=\"index-task-113\"></a>\n",
        "  - [(1.2)](#task-12) Multi-layer Perceptron <a name=\"index-task-12\"></a>\n",
        "    - [(1.2.1)](#task-121) <a name=\"index-task-121\"></a>\n",
        "    - [(1.2.2)](#task-122) <a name=\"index-task-122\"></a>\n",
        "    - [(1.2.3)](#task-123) <a name=\"index-task-123\"></a>\n",
        "- [Task 2](#task-2): Classification <a name=\"index-task-2\"></a>\n",
        "  - [(2.1)](#task-21) k-Nearest Neighbours <a name=\"index-task-21\"></a>\n",
        "    - [(2.1.1)](#task-211)  <a name=\"index-task-211\"></a>\n",
        "    - [(2.1.2)](#task-212) <a name=\"index-task-212\"></a>\n",
        "    - [(2.1.3)](#task-213) <a name=\"index-task-213\"></a>\n",
        "    - [(2.1.4)](#task-214) <a name=\"index-task-214\"></a>\n",
        "  - [(2.2)](#task-22) Logistic regression vs kernel logistic regression <a name=\"index-task-22\"></a>\n",
        "    - [(2.2.1)](#task-221) <a name=\"index-task-221\"></a>\n",
        "    - [(2.2.2)](#task-222) <a name=\"index-task-222\"></a>\n",
        "    - [(2.2.3)](#task-223) <a name=\"index-task-223\"></a>"
      ]
    },
    {
      "cell_type": "markdown",
      "metadata": {
        "id": "V4LmL6R9N1B-"
      },
      "source": [
        "\n",
        "\n",
        "---\n",
        "\n"
      ]
    },
    {
      "cell_type": "markdown",
      "metadata": {
        "id": "0_QE32lOMff_"
      },
      "source": [
        "<a name=\"task-1\"></a>\n",
        "\n",
        "# (1) Task 1: Regression [(index)](#index-task-1)"
      ]
    },
    {
      "cell_type": "markdown",
      "metadata": {
        "id": "DLl66QsJMfzc"
      },
      "source": [
        "<a name=\"task-11\"></a>\n",
        "\n",
        "## (1.1) Random Forest [(index)](#index-task-11)"
      ]
    },
    {
      "cell_type": "code",
      "execution_count": 2,
      "metadata": {},
      "outputs": [],
      "source": [
        "# import packages\n",
        "import pandas as pd\n",
        "import numpy as np\n",
        "import matplotlib.pyplot as plt"
      ]
    },
    {
      "cell_type": "code",
      "execution_count": 3,
      "metadata": {},
      "outputs": [],
      "source": [
        "#load dataset\n",
        "data = pd.read_csv('nanoelectrodes_capacitance_samples.csv')\n",
        "\n",
        "X_train = data.drop(\"Capacitance ($\\mu F / cm^2$)\", axis = 'columns')\n",
        "y_train = data[\"Capacitance ($\\mu F / cm^2$)\"]\n",
        "\n",
        "test_data = pd.read_csv('nanoelectrodes_capacitance_test.csv')\n",
        "X_test = test_data.drop(\"Capacitance ($\\mu F / cm^2$)\", axis = 'columns')\n",
        "y_test = test_data[\"Capacitance ($\\mu F / cm^2$)\"]"
      ]
    },
    {
      "cell_type": "markdown",
      "metadata": {
        "id": "T47skSuUMf8M"
      },
      "source": [
        "<a name=\"task-111\"></a>\n",
        "\n",
        "### (1.1.1) [(index)](#index-task-111)"
      ]
    },
    {
      "cell_type": "code",
      "execution_count": 4,
      "metadata": {},
      "outputs": [],
      "source": [
        "def loss(y, y_pred):\n",
        "    return ((y - y_pred) ** 2).sum()"
      ]
    },
    {
      "cell_type": "code",
      "execution_count": 5,
      "metadata": {},
      "outputs": [],
      "source": [
        "def mse(y, y_pred):\n",
        "    return ((y - y_pred) ** 2).mean()"
      ]
    },
    {
      "cell_type": "code",
      "execution_count": 6,
      "metadata": {},
      "outputs": [],
      "source": [
        "def rsq(y, y_pred):\n",
        "    return 1 - (np.linalg.norm(y - y_pred) ** 2) / (np.linalg.norm(y - y.mean()) ** 2)"
      ]
    },
    {
      "cell_type": "code",
      "execution_count": 7,
      "metadata": {},
      "outputs": [],
      "source": [
        "def split_samples(X, y, column, value):\n",
        "    \"\"\"\n",
        "    Return the split of data whose column-th feature:\n",
        "        less than value, in case `column` is not categorical (i.e. numerical)\n",
        "\n",
        "    Arguments:\n",
        "        X: training features, of shape (N, p).\n",
        "        y: vector of training labels, of shape (N,).\n",
        "        column: the column of the feature for splitting.\n",
        "        value: splitting threshold  the samples\n",
        "    Returns:\n",
        "        tuple(np.array, np.array): tuple of the left split data (X_l, y_l).\n",
        "        tuple(np.array, np.array): tuple of the right split data (X_l, y_l)\n",
        "    \"\"\"\n",
        "\n",
        "    left_mask = (X[:, column] < value)\n",
        "\n",
        "    # Using the binary masks `left_mask`, we split X and y.\n",
        "    X_l, y_l = X[left_mask], y[left_mask] \n",
        "    X_r, y_r = X[~left_mask], y[~left_mask] \n",
        "\n",
        "    return (X_l, y_l), (X_r, y_r)"
      ]
    },
    {
      "cell_type": "code",
      "execution_count": 8,
      "metadata": {},
      "outputs": [],
      "source": [
        "def loss_split_value(X, y, column):\n",
        "    \"\"\"\n",
        "    Calculate the mse based on `column` with the split that minimizes the loss.\n",
        "    Arguments:\n",
        "        X: training features, of shape (N, p).\n",
        "        y: vector of training labels, of shape (N,).\n",
        "        column: the column of the feature for calculating. 0 <= column < D\n",
        "    Returns:\n",
        "        (float, float): the resulted mse and the corresponding value used in splitting.\n",
        "    \"\"\"\n",
        "\n",
        "    unique_vals = np.unique(X[:, column])\n",
        "\n",
        "    assert len(unique_vals) > 1, f\"There must be more than one distinct feature value. Given: {unique_vals}.\"\n",
        "\n",
        "    loss_val, threshold = np.inf, None\n",
        "\n",
        "    # split the values of i-th feature and calculate the cost\n",
        "    for value in unique_vals:\n",
        "        (X_l, y_l), (X_r, y_r) = split_samples(X, y, column, value) \n",
        "\n",
        "        # if one of the two sides is empty, skip this split.\n",
        "        if len(y_l) == 0 or len(y_r) == 0:\n",
        "            continue\n",
        "\n",
        "        new_loss = loss(y_l, y_l.mean()) + loss(y_r, y_r.mean()) \n",
        "        if new_loss < loss_val:\n",
        "              loss_val, threshold = new_loss, value\n",
        "\n",
        "    return loss_val, threshold"
      ]
    },
    {
      "cell_type": "code",
      "execution_count": 9,
      "metadata": {},
      "outputs": [],
      "source": [
        "def loss_split(X, y):\n",
        "    \"\"\"\n",
        "    Choose the best feature to split according to criterion.\n",
        "    Args:\n",
        "        X: training features, of shape (N, p).\n",
        "        y: vector of training labels, of shape (N,).\n",
        "    Returns:\n",
        "        (int, float): the best feature index and value used in splitting.\n",
        "        If the feature index is None, then no valid split for the current Node.\n",
        "    \"\"\"\n",
        "\n",
        "    # Initialize `split_column` to None, so if None returned this means there is no valid split at the current node.\n",
        "    min_loss = np.inf\n",
        "    split_column = None\n",
        "    split_val = np.nan\n",
        "    m, n = X.shape\n",
        "\n",
        "    for col in range(n):\n",
        "        # skip column if samples are not seperable by that column.\n",
        "        if len(np.unique(X[:, col])) < 2:\n",
        "            continue\n",
        "        loss, current_split_val = loss_split_value(X, y, col)  \n",
        "\n",
        "        # To scan for the best split corresponding the minimum mse_index\n",
        "        if loss < min_loss: \n",
        "            # Keep track with:\n",
        "\n",
        "            # 1. the current minimum mse value,\n",
        "            min_loss = loss\n",
        "\n",
        "            # 2. corresponding column,\n",
        "            split_column = col\n",
        "\n",
        "            # 3. corresponding split threshold.\n",
        "            split_val = current_split_val \n",
        "\n",
        "    return split_column, split_val"
      ]
    },
    {
      "cell_type": "code",
      "execution_count": 10,
      "metadata": {},
      "outputs": [
        {
          "data": {
            "text/plain": [
              "(5, 2.5)"
            ]
          },
          "execution_count": 10,
          "metadata": {},
          "output_type": "execute_result"
        }
      ],
      "source": [
        "loss_split(X_train.to_numpy(), y_train.to_numpy())"
      ]
    },
    {
      "cell_type": "code",
      "execution_count": 11,
      "metadata": {},
      "outputs": [],
      "source": [
        "def build_tree(X, y, feature_names, depth,  max_depth=10, min_samples_leaf=10):\n",
        "    \"\"\"Build the decision tree according to the data.\n",
        "    Args:\n",
        "        X: (np.array) training features, of shape (N, p).\n",
        "        y: (np.array) vector of training labels, of shape (N,).\n",
        "        feature_names (list): record the name of features in X in the original dataset.\n",
        "        depth (int): current depth for this node.\n",
        "    Returns:\n",
        "        (dict): a dict denoting the decision tree (binary-tree). Each node has seven attributes:\n",
        "          1. 'feature_name': The column name of the split.\n",
        "          2. 'feature_index': The column index of the split.\n",
        "          3. 'value': The value used for the split.\n",
        "          4. 'mean_value': For leaf nodes, this stores the dominant label. Otherwise, it is None.\n",
        "          5. 'left': The left sub-tree with the same structure.\n",
        "          6. 'right' The right sub-tree with the same structure.\n",
        "    \"\"\"\n",
        "    # include a clause for the cases where (i) no feature, (ii) depth exceed, or (iii) X is too small\n",
        "    if len(np.unique(y))==1 or depth>=max_depth or len(X)<=min_samples_leaf:\n",
        "        return {'mean_value': np.mean(y)}\n",
        "\n",
        "    split_index, split_val = loss_split(X, y)\n",
        "\n",
        "    # If no valid split at this node, use mean.\n",
        "    if split_index is None:\n",
        "        return {'mean_value': np.mean(y)}\n",
        "\n",
        "    # Split samples (X, y) given column and split-value.\n",
        "    (X_l, y_l), (X_r, y_r) = split_samples(X, y, split_index, split_val) \n",
        "    return {\n",
        "        'feature_name': feature_names[split_index],\n",
        "        'feature_index': split_index,\n",
        "        'value': split_val,\n",
        "        'mean_value': None,\n",
        "        'left': build_tree(X_l, y_l, feature_names, depth + 1, max_depth, min_samples_leaf),\n",
        "        'right': build_tree(X_r, y_r, feature_names, depth + 1, max_depth, min_samples_leaf)\n",
        "    }"
      ]
    },
    {
      "cell_type": "code",
      "execution_count": 12,
      "metadata": {},
      "outputs": [],
      "source": [
        "def train(X, y):\n",
        "    \"\"\"\n",
        "    Build the decision tree according to the training data.\n",
        "    Args:\n",
        "        X: (pd.Dataframe) training features, of shape (N, p). Each X[i] is a training sample.\n",
        "        y: (pd.Series) vector of training labels, of shape (N,). y[i] is the label for X[i], and each y[i] is\n",
        "        an integer in the range 0 <= y[i] <= C. Here C = 1.\n",
        "    \"\"\"\n",
        "    feature_names = X.columns.tolist()\n",
        "    X = X.to_numpy()\n",
        "    y = y.to_numpy()\n",
        "    return build_tree(X, y, feature_names, depth=1)"
      ]
    },
    {
      "cell_type": "code",
      "execution_count": 13,
      "metadata": {},
      "outputs": [],
      "source": [
        "tree = train(X_train, y_train)"
      ]
    },
    {
      "cell_type": "code",
      "execution_count": 14,
      "metadata": {},
      "outputs": [],
      "source": [
        "def find(tree, x):\n",
        "    \"\"\"\n",
        "    Find the branch of a single sample with the fitted decision tree.\n",
        "    Args:\n",
        "        x: ((pd.Dataframe) a single sample features, of shape (D,).\n",
        "    Returns:\n",
        "        (int): predicted testing sample label.\n",
        "    \"\"\"\n",
        "    \n",
        "    if tree['mean_value'] is not None:\n",
        "        return tree['mean_value']\n",
        "\n",
        "    if x[tree['feature_index']] < tree['value']: \n",
        "        # go to left branch\n",
        "        return find(tree['left'], x)  \n",
        "    else:\n",
        "        # go to right branch\n",
        "        return find(tree['right'], x)  "
      ]
    },
    {
      "cell_type": "code",
      "execution_count": 15,
      "metadata": {},
      "outputs": [],
      "source": [
        "def predict(tree, X):\n",
        "    \"\"\"\n",
        "    Predict regression results for X.\n",
        "    Args:\n",
        "        X: (pd.Dataframe) testing sample features, of shape (N, p).\n",
        "    Returns:\n",
        "        (np.array): predicted testing sample labels, of shape (N,).\n",
        "    \"\"\"\n",
        "    if len(X.shape) == 1:\n",
        "        return find(tree, X)\n",
        "    else:\n",
        "        return np.array([find(tree, x) for x in X])"
      ]
    },
    {
      "cell_type": "code",
      "execution_count": 16,
      "metadata": {},
      "outputs": [],
      "source": [
        "def tree_results(tree, X, y):\n",
        "    \"\"\"\n",
        "    Return the R^2 and MSE score of the tree on the data.\n",
        "    Args:\n",
        "        tree: (dict) the decision tree.\n",
        "        X: (pd.Dataframe) testing sample features, of shape (N, p).\n",
        "        y: (pd.Series) vector of testing labels, of shape (N,).\n",
        "    Returns:\n",
        "        (float): R^2 score of the tree on the data.\n",
        "        (float): MSE score of the tree on the data.\n",
        "    \"\"\"\n",
        "    y_pred = predict(tree, X.to_numpy())\n",
        "    return mse(y, y_pred), rsq(y, y_pred)"
      ]
    },
    {
      "cell_type": "code",
      "execution_count": 79,
      "metadata": {},
      "outputs": [
        {
          "name": "stdout",
          "output_type": "stream",
          "text": [
            "(1654.4051506951573, 0.7503640060081045)\n",
            "(3369.5671069811706, 0.4896216113769649)\n"
          ]
        }
      ],
      "source": [
        "tree_train_results = tree_results(tree, X_train, y_train)\n",
        "tree_test_results = tree_results(tree, X_test, y_test)\n",
        "print(tree_train_results)\n",
        "print(tree_test_results)"
      ]
    },
    {
      "cell_type": "markdown",
      "metadata": {
        "id": "wx4c9z5pMgDR"
      },
      "source": [
        "<a name=\"task-112\"></a>\n",
        "\n",
        "### (1.1.2) [(index)](#index-task-112)"
      ]
    },
    {
      "cell_type": "code",
      "execution_count": 24,
      "metadata": {},
      "outputs": [],
      "source": [
        "def loss_split_rf(n_features, X, y):\n",
        "    \"\"\"\n",
        "    Choose the best feature to split according to criterion.\n",
        "    Args:\n",
        "        n_features: number of sampled features.\n",
        "        X: training features, of shape (N, p).\n",
        "        y: vector of training labels, of shape (N,).\n",
        "    Returns:\n",
        "        (float, int, float): the minimized loss value.\n",
        "    \"\"\"\n",
        "    # The added sampling step.\n",
        "    columns = np.random.choice(list(range(12)), n_features, replace=False)\n",
        "\n",
        "\n",
        "    min_loss_val, split_column, split_val = np.inf, 0, 0\n",
        "\n",
        "    # Only scan through the sampled columns in `columns_dict`.\n",
        "    for column in columns:\n",
        "        # skip column if samples are not seperable by that column.\n",
        "        if len(np.unique(X[:, column])) < 2:\n",
        "            continue\n",
        "\n",
        "        # search for the best splitting value for the given column.\n",
        "        loss_val, val = loss_split_value(X, y, column)\n",
        "        if loss_val < min_loss_val:\n",
        "            min_loss_val, split_column, split_val = loss_val, column, val\n",
        "\n",
        "    return min_loss_val, split_column, split_val"
      ]
    },
    {
      "cell_type": "code",
      "execution_count": 25,
      "metadata": {},
      "outputs": [],
      "source": [
        "def build_tree_rf(n_features, X, y, feature_names, depth,  max_depth=10, min_samples_leaf=10):\n",
        "    \"\"\"Build the decision tree according to the data.\n",
        "    Args:\n",
        "        X: (np.array) training features, of shape (N, p).\n",
        "        y: (np.array) vector of training labels, of shape (N,).\n",
        "        feature_names (list): record the name of features in X in the original dataset.\n",
        "        depth (int): current depth for this node.\n",
        "    Returns:\n",
        "        (dict): a dict denoting the decision tree (binary-tree). Each node has seven attributes:\n",
        "          1. 'feature_name': The column name of the split.\n",
        "          2. 'feature_index': The column index of the split.\n",
        "          3. 'value': The value used for the split.\n",
        "          4. 'categorical': indicator for categorical/numerical variables.\n",
        "          5. 'majority_label': For leaf nodes, this stores the dominant label. Otherwise, it is None.\n",
        "          6. 'left': The left sub-tree with the same structure.\n",
        "          7. 'right' The right sub-tree with the same structure.\n",
        "    \"\"\"\n",
        "    # include a clause for the cases where (i) all lables are the same, (ii) depth exceed (iii) X is too small\n",
        "    if len(np.unique(y)) == 1 or depth>=max_depth or len(X)<=min_samples_leaf:\n",
        "        return {'mean_value': np.mean(y)}\n",
        "\n",
        "    else:\n",
        "        loss, split_column, split_val = loss_split_rf(n_features, X, y)\n",
        "\n",
        "        # If loss is infinity, it means that samples are not seperable by the sampled features.\n",
        "        if loss == np.inf:\n",
        "            return {'mean_value': np.mean(y)}\n",
        "        (X_l, y_l), (X_r, y_r) = split_samples(X, y, split_column, split_val)\n",
        "        return {\n",
        "            'feature_name': feature_names[split_column],\n",
        "            'feature_index': split_column,\n",
        "            'value': split_val,\n",
        "            'mean_value': None,\n",
        "            'left': build_tree_rf(n_features, X_l, y_l, feature_names, depth + 1, max_depth, min_samples_leaf),\n",
        "            'right': build_tree_rf(n_features, X_r, y_r, feature_names, depth + 1, max_depth, min_samples_leaf)\n",
        "        }"
      ]
    },
    {
      "cell_type": "code",
      "execution_count": 26,
      "metadata": {},
      "outputs": [],
      "source": [
        "def train_rf(B, n_features, X, y):\n",
        "    \"\"\"\n",
        "    Build the decision tree according to the training data.\n",
        "    Args:\n",
        "        B: number of decision trees.\n",
        "        X: (pd.Dataframe) training features, of shape (N, p). Each X[i] is a training sample.\n",
        "        y: (pd.Series) vector of training labels, of shape (N,). y[i] is the label for X[i], and each y[i] is\n",
        "        an integer in the range 0 <= y[i] <= C. Here C = 1.\n",
        "    \"\"\"\n",
        "    feature_names = X.columns.tolist()\n",
        "    X = X.to_numpy()\n",
        "    y = y.to_numpy()\n",
        "    N = X.shape[0]\n",
        "    training_indices = np.arange(N)\n",
        "    trees = []\n",
        "\n",
        "    for _ in range(B):\n",
        "        # Sample the training_indices (with replacement)\n",
        "        sample = np.random.choice(training_indices, N, replace=True) \n",
        "\n",
        "        X_sample = X[sample, :]\n",
        "        y_sample = y[sample]\n",
        "        tree = build_tree_rf(n_features, X_sample, y_sample, feature_names, depth=1)\n",
        "        trees.append(tree)\n",
        "\n",
        "    return trees"
      ]
    },
    {
      "cell_type": "code",
      "execution_count": 27,
      "metadata": {},
      "outputs": [],
      "source": [
        "def predict_rf(rf, X):\n",
        "    \"\"\"\n",
        "    Predict classification results for X.\n",
        "    Args:\n",
        "        rf: A trained random forest through train_rf function.\n",
        "        X: (pd.Dataframe) testing sample features, of shape (N, p).\n",
        "    Returns:\n",
        "        (np.array): predicted testing sample labels, of shape (N,).\n",
        "    \"\"\"\n",
        "\n",
        "    if len(X.shape) == 1:\n",
        "        # if we have one sample\n",
        "        return np.mean([find(tree, X) for tree in rf])\n",
        "    else:\n",
        "        # if we have multiple samples\n",
        "        return np.array([np.mean([find(tree, x) for tree in rf]) for x in X])"
      ]
    },
    {
      "cell_type": "code",
      "execution_count": 28,
      "metadata": {},
      "outputs": [],
      "source": [
        "def rf_results(rf, X, y):\n",
        "    \"\"\"\n",
        "    Return the R^2 and MSE score of the random forest on the data.\n",
        "    Args:\n",
        "        rf: (list) the random forest.\n",
        "        X: (pd.Dataframe) testing sample features, of shape (N, p).\n",
        "        y: (pd.Series) vector of testing labels, of shape (N,).\n",
        "    Returns:\n",
        "        (float): R^2 score of the rf on the data.\n",
        "        (float): MSE score of the rf on the data.\n",
        "    \"\"\"\n",
        "    y_pred = predict_rf(rf, X)\n",
        "    return mse(y, y_pred), rsq(y, y_pred)"
      ]
    },
    {
      "cell_type": "code",
      "execution_count": 29,
      "metadata": {},
      "outputs": [],
      "source": [
        "n_features = int(X_train.shape[1]/3)"
      ]
    },
    {
      "cell_type": "code",
      "execution_count": 30,
      "metadata": {},
      "outputs": [],
      "source": [
        "B = 30 # this will change later after optimisation\n",
        "# fit the random forest with training data\n",
        "rf = train_rf(B, n_features, X_train, y_train)"
      ]
    },
    {
      "cell_type": "code",
      "execution_count": 31,
      "metadata": {},
      "outputs": [
        {
          "name": "stdout",
          "output_type": "stream",
          "text": [
            "(1159.4248392463594, 0.8250524231730405)\n",
            "(2908.899460524957, 0.5593975807001372)\n"
          ]
        }
      ],
      "source": [
        "print(rf_results(rf, X_train.to_numpy(), y_train.to_numpy()))\n",
        "print(rf_results(rf, X_test.to_numpy(), y_test.to_numpy()))"
      ]
    },
    {
      "cell_type": "code",
      "execution_count": 43,
      "metadata": {},
      "outputs": [],
      "source": [
        "def n_fold_cross_validation(X, y, B, n_features, n_folds=5):\n",
        "\n",
        "  N = X.shape[0]\n",
        "  fold_size = N // n_folds\n",
        "  scores = []\n",
        "\n",
        "  for i in range(n_folds):\n",
        "    test_indices = list(range(i * fold_size, (i + 1) * fold_size))\n",
        "    train_indices = list(set(range(N)) - set(test_indices))\n",
        "    X_train, X_test = X.iloc[train_indices], X.iloc[test_indices]\n",
        "    y_train, y_test = y.iloc[train_indices], y.iloc[test_indices]\n",
        "  \n",
        "  rf = train_rf(B, n_features, X_train, y_train)\n",
        "\n",
        "  scores.append(mse(predict_rf(rf, X_test.to_numpy()), y_test.to_numpy()))\n",
        "\n",
        "  # Return the average score\n",
        "  return np.mean(scores) "
      ]
    },
    {
      "cell_type": "code",
      "execution_count": 44,
      "metadata": {},
      "outputs": [],
      "source": [
        "from tqdm.notebook import tqdm"
      ]
    },
    {
      "cell_type": "code",
      "execution_count": 72,
      "metadata": {},
      "outputs": [],
      "source": [
        "def choose_best_B(X_train, y_train, n_folds, B_max):\n",
        "  wide_B_range = [1] + list(np.arange(10, B_max, 10))\n",
        "  B_scores_wide = np.zeros((len(wide_B_range)))\n",
        "  \n",
        "  for i, B in enumerate(wide_B_range):\n",
        "    B_scores_wide[i] = n_fold_cross_validation(X_train, y_train, B, 12, n_folds)\n",
        "    print(f'Loss@B={B}: {B_scores_wide[i]:.3f}')\n",
        "\n",
        "  best_B_index_wide = np.argmin(B_scores_wide)\n",
        "\n",
        "  B_range = np.arange(wide_B_range[best_B_index_wide] - 10, wide_B_range[best_B_index_wide] + 10)\n",
        "  B_scores = np.zeros((len(B_range)))\n",
        "\n",
        "  for i, B in enumerate(B_range):\n",
        "    B_scores[i] = n_fold_cross_validation(X_train, y_train, B, 12, n_folds)\n",
        "    print(f'Loss@B={B}: {B_scores[i]:.3f}')\n",
        "  \n",
        "  best_B_index = np.argmin(B_scores)\n",
        "\n",
        "  return B_range[best_B_index], B_scores, B_scores_wide"
      ]
    },
    {
      "cell_type": "code",
      "execution_count": 77,
      "metadata": {},
      "outputs": [
        {
          "name": "stdout",
          "output_type": "stream",
          "text": [
            "Loss@B=1: 10326.407\n",
            "Loss@B=10: 3737.147\n",
            "Loss@B=20: 4043.816\n",
            "Loss@B=30: 3904.991\n",
            "Loss@B=40: 4006.782\n",
            "Loss@B=50: 4060.517\n",
            "Loss@B=60: 3757.283\n",
            "Loss@B=70: 3818.586\n",
            "Loss@B=80: 3422.072\n",
            "Loss@B=90: 3628.504\n",
            "Loss@B=100: 3686.233\n",
            "Loss@B=70: 3995.910\n",
            "Loss@B=71: 3745.538\n",
            "Loss@B=72: 3760.494\n",
            "Loss@B=73: 3922.754\n",
            "Loss@B=74: 3833.622\n",
            "Loss@B=75: 3972.103\n",
            "Loss@B=76: 3614.372\n",
            "Loss@B=77: 3659.930\n",
            "Loss@B=78: 3933.700\n",
            "Loss@B=79: 3855.504\n",
            "Loss@B=80: 3791.956\n",
            "Loss@B=81: 3793.070\n",
            "Loss@B=82: 3775.853\n",
            "Loss@B=83: 3846.360\n",
            "Loss@B=84: 3669.030\n",
            "Loss@B=85: 3687.087\n",
            "Loss@B=86: 3881.294\n",
            "Loss@B=87: 3874.290\n",
            "Loss@B=88: 3797.071\n",
            "Loss@B=89: 3617.469\n"
          ]
        }
      ],
      "source": [
        "b_hat, scores_reduced, scores_range = choose_best_B(X_train, y_train, 5, 101)"
      ]
    },
    {
      "cell_type": "code",
      "execution_count": 78,
      "metadata": {},
      "outputs": [
        {
          "data": {
            "text/plain": [
              "[<matplotlib.lines.Line2D at 0x11f0ca0d0>]"
            ]
          },
          "execution_count": 78,
          "metadata": {},
          "output_type": "execute_result"
        },
        {
          "data": {
            "image/png": "[encoded data removed]",
            "text/plain": [
              "<Figure size 640x480 with 1 Axes>"
            ]
          },
          "metadata": {},
          "output_type": "display_data"
        }
      ],
      "source": [
        "plt.plot(range(len(scores_range)), scores_range)"
      ]
    },
    {
      "cell_type": "code",
      "execution_count": 80,
      "metadata": {},
      "outputs": [
        {
          "name": "stdout",
          "output_type": "stream",
          "text": [
            "(1212.5579209940215, 0.8170350825171817)\n",
            "(3149.32638071081, 0.5229808244195386)\n"
          ]
        }
      ],
      "source": [
        "rf_hat = train_rf(b_hat, n_features, X_train, y_train)\n",
        "rf_train_results = rf_results(rf_hat, X_train.to_numpy(), y_train.to_numpy())\n",
        "rf_test_results = rf_results(rf_hat, X_test.to_numpy(), y_test.to_numpy())\n",
        "print(rf_train_results)\n",
        "print(rf_test_results)"
      ]
    },
    {
      "cell_type": "code",
      "execution_count": 58,
      "metadata": {},
      "outputs": [],
      "source": [
        "def importance(rf, X):\n",
        "    \"\"\"\n",
        "    Calculate the importance of each feature in the random forest.\n",
        "    Args:\n",
        "        rf: A trained random forest through train_rf function.\n",
        "        X: (pd.Dataframe) testing sample features, of shape (N, p).\n",
        "    Returns:\n",
        "        (np.array): the importance of each feature, of shape (p,).\n",
        "    \"\"\"\n",
        "    return np.array([np.mean([tree['feature_index'] for tree in rf]) for x in X])"
      ]
    },
    {
      "cell_type": "code",
      "execution_count": 62,
      "metadata": {},
      "outputs": [],
      "source": [
        "def loss_split_bag(X, y):\n",
        "    \"\"\"\n",
        "    Choose the best feature to split according to criterion.\n",
        "    Args:\n",
        "        X: training features, of shape (N, p).\n",
        "        y: vector of training labels, of shape (N,).\n",
        "    Returns:\n",
        "        (float, int, float): the minimized loss value.\n",
        "    \"\"\"\n",
        "    min_loss_val, split_column, split_val = np.inf, 0, 0\n",
        "\n",
        "    for column in range(12):\n",
        "        # skip column if samples are not seperable by that column.\n",
        "        if len(np.unique(X[:, column])) < 2:\n",
        "            continue\n",
        "\n",
        "        # search for the best splitting value for the given column.\n",
        "        loss_val, val = loss_split_value(X, y, column)\n",
        "        if loss_val < min_loss_val:\n",
        "            min_loss_val, split_column, split_val = loss_val, column, val\n",
        "\n",
        "    return min_loss_val, split_column, split_val"
      ]
    },
    {
      "cell_type": "code",
      "execution_count": 63,
      "metadata": {},
      "outputs": [],
      "source": [
        "def build_tree_bag(X, y, feature_names, depth,  max_depth=10, min_samples_leaf=10):\n",
        "    \"\"\"Build the decision tree according to the data.\n",
        "    Args:\n",
        "        X: (np.array) training features, of shape (N, p).\n",
        "        y: (np.array) vector of training labels, of shape (N,).\n",
        "        feature_names (list): record the name of features in X in the original dataset.\n",
        "        depth (int): current depth for this node.\n",
        "    Returns:\n",
        "        (dict): a dict denoting the decision tree (binary-tree). Each node has seven attributes:\n",
        "          1. 'feature_name': The column name of the split.\n",
        "          2. 'feature_index': The column index of the split.\n",
        "          3. 'value': The value used for the split.\n",
        "          4. 'categorical': indicator for categorical/numerical variables.\n",
        "          5. 'majority_label': For leaf nodes, this stores the dominant label. Otherwise, it is None.\n",
        "          6. 'left': The left sub-tree with the same structure.\n",
        "          7. 'right' The right sub-tree with the same structure.\n",
        "    \"\"\"\n",
        "    # include a clause for the cases where (i) all lables are the same, (ii) depth exceed (iii) X is too small\n",
        "    if len(np.unique(y)) == 1 or depth>=max_depth or len(X)<=min_samples_leaf:\n",
        "        return {'mean_value': np.mean(y)}\n",
        "\n",
        "    else:\n",
        "        loss, split_column, split_val = loss_split_bag(X, y)\n",
        "\n",
        "        # If loss is infinity, it means that samples are not seperable by the sampled features.\n",
        "        if loss == np.inf:\n",
        "            return {'mean_value': np.mean(y)}\n",
        "        (X_l, y_l), (X_r, y_r) = split_samples(X, y, split_column, split_val)\n",
        "        return {\n",
        "            'feature_name': feature_names[split_column],\n",
        "            'feature_index': split_column,\n",
        "            'value': split_val,\n",
        "            'mean_value': None,\n",
        "            'left': build_tree_bag(X_l, y_l, feature_names, depth + 1, max_depth, min_samples_leaf),\n",
        "            'right': build_tree_bag(X_r, y_r, feature_names, depth + 1, max_depth, min_samples_leaf)\n",
        "        }"
      ]
    },
    {
      "cell_type": "code",
      "execution_count": 64,
      "metadata": {},
      "outputs": [],
      "source": [
        "def train_bag(B, X, y):\n",
        "    \"\"\"\n",
        "    Build the decision tree according to the training data.\n",
        "    Args:\n",
        "        B: number of decision trees.\n",
        "        X: (pd.Dataframe) training features, of shape (N, p). Each X[i] is a training sample.\n",
        "        y: (pd.Series) vector of training labels, of shape (N,). y[i] is the label for X[i], and each y[i] is\n",
        "        an integer in the range 0 <= y[i] <= C. Here C = 1.\n",
        "    \"\"\"\n",
        "    feature_names = X.columns.tolist()\n",
        "    X = X.to_numpy()\n",
        "    y = y.to_numpy()\n",
        "    N = X.shape[0]\n",
        "    training_indices = np.arange(N)\n",
        "    trees = []\n",
        "\n",
        "    for _ in range(B):\n",
        "        # Sample the training_indices (with replacement)\n",
        "        sample = np.random.choice(training_indices, N, replace=True) \n",
        "\n",
        "        X_sample = X[sample, :]\n",
        "        y_sample = y[sample]\n",
        "        tree = build_tree_bag(X_sample, y_sample, feature_names, depth=1)\n",
        "        trees.append(tree)\n",
        "\n",
        "    return trees"
      ]
    },
    {
      "cell_type": "code",
      "execution_count": 73,
      "metadata": {},
      "outputs": [],
      "source": [
        "def predict_bag(rf, X):\n",
        "    \"\"\"\n",
        "    Predict classification results for X.\n",
        "    Args:\n",
        "        rf: A trained random forest through train_rf function.\n",
        "        X: (pd.Dataframe) testing sample features, of shape (N, p).\n",
        "    Returns:\n",
        "        (np.array): predicted testing sample labels, of shape (N,).\n",
        "    \"\"\"\n",
        "\n",
        "    if len(X.shape) == 1:\n",
        "        # if we have one sample\n",
        "        return np.mean([find(tree, X) for tree in rf])\n",
        "    else:\n",
        "        # if we have multiple samples\n",
        "        return np.array([np.mean([find(tree, x) for tree in rf]) for x in X])"
      ]
    },
    {
      "cell_type": "code",
      "execution_count": 74,
      "metadata": {},
      "outputs": [],
      "source": [
        "def bag_results(rf, X, y):\n",
        "    \"\"\"\n",
        "    Return the R^2 and MSE score of the random forest on the data.\n",
        "    Args:\n",
        "        rf: (list) the random forest.\n",
        "        X: (pd.Dataframe) testing sample features, of shape (N, p).\n",
        "        y: (pd.Series) vector of testing labels, of shape (N,).\n",
        "    Returns:\n",
        "        (float): R^2 score of the rf on the data.\n",
        "        (float): MSE score of the rf on the data.\n",
        "    \"\"\"\n",
        "    y_pred = predict_bag(rf, X)\n",
        "    return mse(y, y_pred), rsq(y, y_pred)"
      ]
    },
    {
      "cell_type": "code",
      "execution_count": 75,
      "metadata": {},
      "outputs": [],
      "source": [
        "rf_bag = train_bag(b_hat, X_train, y_train)"
      ]
    },
    {
      "cell_type": "code",
      "execution_count": 81,
      "metadata": {},
      "outputs": [
        {
          "name": "stdout",
          "output_type": "stream",
          "text": [
            "(1042.4951083022663, 0.8426961482298492)\n",
            "(2739.0939060083565, 0.5851175270736249)\n"
          ]
        }
      ],
      "source": [
        "bag_train_results = bag_results(rf_bag, X_train.to_numpy(), y_train.to_numpy())\n",
        "bag_test_results = bag_results(rf_bag, X_test.to_numpy(), y_test.to_numpy())\n",
        "print(bag_train_results)\n",
        "print(bag_test_results)"
      ]
    },
    {
      "cell_type": "code",
      "execution_count": 93,
      "metadata": {},
      "outputs": [
        {
          "data": {
            "text/plain": [
              "Text(0.5, 1.0, '$R^2$ for each method')"
            ]
          },
          "execution_count": 93,
          "metadata": {},
          "output_type": "execute_result"
        },
        {
          "data": {
            "image/png": "[encoded data removed]",
            "text/plain": [
              "<Figure size 1400x500 with 2 Axes>"
            ]
          },
          "metadata": {},
          "output_type": "display_data"
        }
      ],
      "source": [
        "fig, ax = plt.subplots(1, 2, figsize = (14, 5))\n",
        "\n",
        "labels = ('Decision Tree', 'Random Forest', 'Bagging')\n",
        "\n",
        "MSE_vals = [tree_test_results[0], rf_test_results[0], bag_test_results[0]]\n",
        "rsq_vals = [tree_test_results[1], rf_test_results[1], bag_test_results[1]]\n",
        "\n",
        "ax[0].bar(labels, MSE_vals, color = 'blue')\n",
        "ax[0].set_ylabel('MSE')\n",
        "ax[0].set_title('MSE for each method')\n",
        "\n",
        "ax[1].bar(labels, rsq_vals, color = 'green')\n",
        "ax[1].set_ylabel(r'$R^2$')\n",
        "ax[1].set_title(r'$R^2$ for each method')"
      ]
    },
    {
      "cell_type": "markdown",
      "metadata": {
        "id": "lEwNJHHTMgNG"
      },
      "source": [
        "<a name=\"task-113\"></a>\n",
        "\n",
        "### (1.1.3) [(index)](#index-task-113)"
      ]
    },
    {
      "cell_type": "code",
      "execution_count": null,
      "metadata": {},
      "outputs": [],
      "source": []
    },
    {
      "cell_type": "markdown",
      "metadata": {
        "id": "GqN02H_YPwr0"
      },
      "source": [
        "\n",
        "\n",
        "---\n",
        "\n"
      ]
    },
    {
      "cell_type": "markdown",
      "metadata": {
        "id": "In8XkuW_MgVV"
      },
      "source": [
        "<a name=\"task-12\"></a>\n",
        "\n",
        "## (1.2) Multi-layer Perceptron [(index)](#index-task-12)"
      ]
    },
    {
      "cell_type": "markdown",
      "metadata": {
        "id": "R1aYyFt7MgeQ"
      },
      "source": [
        "<a name=\"task-121\"></a>\n",
        "\n",
        "### (1.2.1) [(index)](#index-task-121)"
      ]
    },
    {
      "cell_type": "code",
      "execution_count": 94,
      "metadata": {},
      "outputs": [],
      "source": [
        "def standardise(X, X_train_=None):\n",
        "    \"\"\"Standardise features.\n",
        "\n",
        "    Parameters:\n",
        "        X (np.array): Feature matrix.\n",
        "        X_train_ (np.array): An optional feature matrix to compute the statistics\n",
        "            from before applying it to X. If None, just use X to compute the statistics.\n",
        "\n",
        "    Returns:\n",
        "        X_std (np.array): Standardised feature matrix\n",
        "    \"\"\"\n",
        "    if X_train_ is None:\n",
        "        X_train_ = X\n",
        "\n",
        "    mu = np.mean(X_train_, axis=0, keepdims=True) \n",
        "    sigma = np.std(X_train_, axis=0, keepdims=True) \n",
        "    X_std = (X - mu) / sigma \n",
        "    return X_std"
      ]
    },
    {
      "cell_type": "code",
      "execution_count": 98,
      "metadata": {},
      "outputs": [],
      "source": [
        "X_train = standardise(X_train)\n",
        "X_test = standardise(X_test, X_train_=X_train)"
      ]
    },
    {
      "cell_type": "code",
      "execution_count": null,
      "metadata": {},
      "outputs": [],
      "source": [
        "def dense(X, W, b):\n",
        "    \"\"\"Full-connected MLP layer.\n",
        "\n",
        "    Parameters:\n",
        "        X (np.ndarray): K x h_in array of inputs, where K is the batch size and h_in if the input features dimension.\n",
        "        W (np.ndarray): h_out x h_in array for kernel matrix parametersm, where h_out is the output dimension.\n",
        "        b (np.ndarray): Length h_out 1-D array for bias parameters\n",
        "\n",
        "    Returns:\n",
        "        a (np.ndarray): K x h_out array of pre-activations\n",
        "    \"\"\"\n",
        "    a = np.vstack([W @ x + b for x in X])\n",
        "    return a"
      ]
    },
    {
      "cell_type": "code",
      "execution_count": 99,
      "metadata": {},
      "outputs": [],
      "source": [
        "def activation(a):\n",
        "    \"\"\"activation function.\n",
        "\n",
        "    Parameters:\n",
        "        a: K x h_out array of pre-activations\n",
        "\n",
        "    Returns:\n",
        "        h: K x h_out array of post-activations\n",
        "    \"\"\"\n",
        "    # compute post-activations\n",
        "    h = np.arctan(a) * np.log(np.abs(a) + 1)\n",
        "    return h\n",
        "\n",
        "## EDIT THIS FUNCTION\n",
        "def grad_activation(a):\n",
        "    \"\"\"Gradient of activation function.\n",
        "\n",
        "    Parameters:\n",
        "        a: K x h_out array of pre-activations\n",
        "\n",
        "    Returns:\n",
        "        grad: K x h_out gradient array of post-activations\n",
        "    \"\"\"\n",
        "    # compute gradient\n",
        "    grad = np.log(np.abs(a) + 1) / (1 + a ** 2) + (np.arctan(a) * np.sign(a)) / (np.abs(a) + 1)\n",
        "    return grad"
      ]
    },
    {
      "cell_type": "markdown",
      "metadata": {},
      "source": [
        "Our MLP will need the following parameters:\n",
        "\n",
        "Input layer -> first hidden layer:\n",
        "* Kernel $\\boldsymbol{W}^{(0)} \\in\\mathbb{R}^{50 \\times 12}$\n",
        "* Bias $\\boldsymbol{b}^{(0)} \\in\\mathbb{R}^{50}$\n",
        "\n",
        "Hidden layer -> hidden layer:\n",
        "* Kernel $\\boldsymbol{W}^{(k)} \\in\\mathbb{R}^{50\\times 50}$, $k=1, 2$\n",
        "* Bias $\\boldsymbol{b}^{(k)} \\in\\mathbb{R}^{50}$, $k=1, 2$\n",
        "\n",
        "Hidden layer -> output layer:\n",
        "* Kernel $\\boldsymbol{W}^{(3)} \\in\\mathbb{R}^{1 \\times 50}$\n",
        "* Bias $\\boldsymbol{b}^{(3)} \\in\\mathbb{R}^{1}$\n",
        "\n",
        "We will create these parameters as numpy arrays, and initialise the kernel values with samples from a zero-mean Gaussian distribution with variance $2 / (n_{in} + n_{out})$, where $n_{in}$ and $n_{out}$ are the number of neurons going in and out of the dense layer respectively. This initialisation strategy is known as [Glorot initialisation](http://proceedings.mlr.press/v9/glorot10a.html). The bias parameters will be initialised to zeros."
      ]
    },
    {
      "cell_type": "code",
      "execution_count": null,
      "metadata": {},
      "outputs": [],
      "source": []
    },
    {
      "cell_type": "markdown",
      "metadata": {
        "id": "5j1--gzeMgk9"
      },
      "source": [
        "<a name=\"task-122\"></a>\n",
        "\n",
        "### (1.2.2) [(index)](#index-task-122)"
      ]
    },
    {
      "cell_type": "markdown",
      "metadata": {
        "id": "2MccP5-sMgqU"
      },
      "source": [
        "<a name=\"task-123\"></a>\n",
        "\n",
        "### (1.2.3) [(index)](#index-task-123)"
      ]
    },
    {
      "cell_type": "markdown",
      "metadata": {
        "id": "vzPd5qZZPzpM"
      },
      "source": [
        "\n",
        "\n",
        "---\n",
        "\n"
      ]
    },
    {
      "cell_type": "markdown",
      "metadata": {
        "id": "yJ1n70CNMguM"
      },
      "source": [
        "<a name=\"task-2\"></a>\n",
        "\n",
        "# (2) Task 2: Classification [(index)](#index-task-2)"
      ]
    },
    {
      "cell_type": "markdown",
      "metadata": {
        "id": "snlMZuPqMgxd"
      },
      "source": [
        "<a name=\"task-21\"></a>\n",
        "\n",
        "## (2.1) k-Nearest Neighbours [(index)](#index-task-21)"
      ]
    },
    {
      "cell_type": "markdown",
      "metadata": {
        "id": "qVwRifs5Mg0s"
      },
      "source": [
        "<a name=\"task-211\"></a>\n",
        "\n",
        "### (2.1.1) [(index)](#index-task-211)"
      ]
    },
    {
      "cell_type": "markdown",
      "metadata": {
        "id": "hrF3U23EMg3k"
      },
      "source": [
        "<a name=\"task-212\"></a>\n",
        "\n",
        "### (2.1.2) [(index)](#index-task-212)"
      ]
    },
    {
      "cell_type": "markdown",
      "metadata": {
        "id": "sIUs15tlMg9c"
      },
      "source": [
        "<a name=\"task-213\"></a>\n",
        "\n",
        "### (2.1.3) [(index)](#index-task-213)"
      ]
    },
    {
      "cell_type": "markdown",
      "metadata": {
        "id": "aQ3fJoMCPpgE"
      },
      "source": [
        "<a name=\"task-214\"></a>\n",
        "\n",
        "### (2.1.4) [(index)](#index-task-214)"
      ]
    },
    {
      "cell_type": "markdown",
      "metadata": {
        "id": "X6Zz2bcMP6Wk"
      },
      "source": [
        "\n",
        "\n",
        "---\n",
        "\n"
      ]
    },
    {
      "cell_type": "markdown",
      "metadata": {
        "id": "J0K6bbpHPUYE"
      },
      "source": [
        "<a name=\"task-22\"></a>\n",
        "\n",
        "## (2.2) Logistic regression vs kernel logistic regression [(index)](#index-task-22)"
      ]
    },
    {
      "cell_type": "markdown",
      "metadata": {
        "id": "4pVdpUHZP-oE"
      },
      "source": [
        "<a name=\"task-221\"></a>\n",
        "\n",
        "### (2.2.1) [(index)](#index-task-221)"
      ]
    },
    {
      "cell_type": "markdown",
      "metadata": {
        "id": "e_MkiUD4QB0k"
      },
      "source": [
        "<a name=\"task-222\"></a>\n",
        "\n",
        "### (2.2.2) [(index)](#index-task-222)"
      ]
    },
    {
      "cell_type": "markdown",
      "metadata": {
        "id": "DzUYT08xQDV9"
      },
      "source": [
        "<a name=\"task-223\"></a>\n",
        "\n",
        "### (2.2.3) [(index)](#index-task-223)"
      ]
    },
    {
      "cell_type": "code",
      "execution_count": null,
      "metadata": {
        "id": "QrhLFEMnPTy9"
      },
      "outputs": [],
      "source": []
    },
    {
      "cell_type": "code",
      "execution_count": null,
      "metadata": {
        "id": "SYSz-NFcEoFA"
      },
      "outputs": [],
      "source": []
    }
  ],
  "metadata": {
    "colab": {
      "provenance": [],
      "toc_visible": true
    },
    "kernelspec": {
      "display_name": "Python 3",
      "name": "python3"
    },
    "language_info": {
      "codemirror_mode": {
        "name": "ipython",
        "version": 3
      },
      "file_extension": ".py",
      "mimetype": "text/x-python",
      "name": "python",
      "nbconvert_exporter": "python",
      "pygments_lexer": "ipython3",
      "version": "3.11.1"
    }
  },
  "nbformat": 4,
  "nbformat_minor": 0
}
