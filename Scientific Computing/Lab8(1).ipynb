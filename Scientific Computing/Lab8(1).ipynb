{
 "cells": [
  {
   "cell_type": "markdown",
   "metadata": {},
   "source": [
    "If you haven't done so already, please fill out the anonymous 1-question Project 2 survey here: https://forms.office.com/e/CCd2PcCXZT The average completion time is 90 seconds."
   ]
  },
  {
   "cell_type": "markdown",
   "metadata": {},
   "source": [
    "\n",
    "# Scientific Computation Lab 8\n",
    "\n",
    "\n",
    "\n",
    "\n",
    "\n"
   ]
  },
  {
   "cell_type": "markdown",
   "metadata": {},
   "source": [
    "In lecture, we saw that FFTs could be used to analyze the frequency content of time series. In this lab, you will learn how to use them to differentiate periodic functions."
   ]
  },
  {
   "cell_type": "markdown",
   "metadata": {},
   "source": [
    "We will work with a Gaussian function, $f(x) = exp(-\\beta x^2)$\n",
    "with $-5 \\le x \\le 5$. We will choose $\\beta$ so that the Gaussian is sufficiently narrow for $f$ and several of its derivatives to be near zero at the boundaries (why?). The function below will generate this Gaussian with $x$ and $\\beta$ provided as input."
   ]
  },
  {
   "cell_type": "code",
   "execution_count": null,
   "metadata": {},
   "outputs": [],
   "source": [
    "import numpy as np\n",
    "def gauss(x,beta):\n",
    "    return np.exp(-beta*x**2)"
   ]
  },
  {
   "cell_type": "markdown",
   "metadata": {},
   "source": [
    "### Part 1: Fourier coefficients"
   ]
  },
  {
   "cell_type": "markdown",
   "metadata": {},
   "source": [
    "1) Complete the cell below so that it generates a grid, $x$, with $N=100$ points in the interval [-5, 5).\n",
    "One approach is to first generate $N+1$ points from -5 to 5, and then remove the $N+1$th point."
   ]
  },
  {
   "cell_type": "code",
   "execution_count": null,
   "metadata": {},
   "outputs": [],
   "source": [
    "import numpy as np\n",
    "N=100\n",
    "beta = 4\n",
    "#Add code here\n"
   ]
  },
  {
   "cell_type": "markdown",
   "metadata": {},
   "source": [
    "2) Now generate a Guassian with $\\beta=4$ and plot $f(x)$. Is $\\beta$ sufficiently large?"
   ]
  },
  {
   "cell_type": "code",
   "execution_count": 2,
   "metadata": {},
   "outputs": [],
   "source": [
    "import matplotlib.pyplot as plt\n",
    "#add code here\n"
   ]
  },
  {
   "cell_type": "markdown",
   "metadata": {},
   "source": [
    "2) Now, compute the Gaussian's Fourier coefficients ($c_k$) and plot $|c_k|$ on a semilog plot. Compute a new Gaussian, $g$  with $\\beta=1$. \n",
    "Compute its Fourier coefficients and add them to your plot. Why are the two curves different?"
   ]
  },
  {
   "cell_type": "code",
   "execution_count": 3,
   "metadata": {},
   "outputs": [],
   "source": [
    "#add code here\n"
   ]
  },
  {
   "cell_type": "markdown",
   "metadata": {},
   "source": [
    "*Add answer here*"
   ]
  },
  {
   "cell_type": "markdown",
   "metadata": {},
   "source": [
    "### Part 2: Differentiation"
   ]
  },
  {
   "cell_type": "markdown",
   "metadata": {},
   "source": [
    "For time series, the *kth* Fourier coefficient corresponds to a frequency, $\\phi_k= k/\\tau$ where $\\tau$ is related to the timespan of the signal. For a spatially varying function, the *kth* coefficient corresponds to a wavenumber, $\\alpha_k=2 \\pi k/l$ where for our example above, $l=10$. The wavenumber plays a key role in Fourier differentiation. If the Fourier coefficients of $f(x)$ are $c_k$, then the Fourier coefficients of $df/dx$ are $i \\alpha_k c_k$."
   ]
  },
  {
   "cell_type": "markdown",
   "metadata": {},
   "source": [
    "The basic steps then are, i) construct $\\alpha_k$, ii) compute $c_k$, iii) compute the inverse Fourier transform of $i \\alpha_k c_k$. "
   ]
  },
  {
   "cell_type": "markdown",
   "metadata": {},
   "source": [
    "1) Construct $\\alpha_k$ for $f(x)$ from our example above. Now, $k$ and $\\alpha$ will have to be in \"fft order\", $k=0,1,...,N/2-1,-N/2,-N/2+1,...,-1$"
   ]
  },
  {
   "cell_type": "code",
   "execution_count": null,
   "metadata": {},
   "outputs": [],
   "source": [
    "k = np.fft.fftshift(k)\n",
    "#add code here\n"
   ]
  },
  {
   "cell_type": "markdown",
   "metadata": {},
   "source": [
    "2) Now, compute $df$, an arrray which is $N$ times the inverse FFT of $i\\alpha c$. Here $\\alpha$ is an array of wavenumbers, and $c$ is an array of Fourier coefficients."
   ]
  },
  {
   "cell_type": "code",
   "execution_count": null,
   "metadata": {},
   "outputs": [],
   "source": [
    "#add code here\n"
   ]
  },
  {
   "cell_type": "markdown",
   "metadata": {},
   "source": [
    "The code below will plot $df$ and the exact derivative of the Gaussian. If $df$ has been constructed correctly, the two should be extremely close."
   ]
  },
  {
   "cell_type": "code",
   "execution_count": null,
   "metadata": {},
   "outputs": [],
   "source": [
    "import matplotlib.pyplot as plt\n",
    "plt.figure()\n",
    "plt.plot(x,df,'x--')\n",
    "plt.plot(x,-2*beta*x*f)\n",
    "plt.xlabel('x')\n",
    "plt.ylabel('df/dx')\n",
    "plt.legend(('computed','exact'))"
   ]
  },
  {
   "cell_type": "markdown",
   "metadata": {},
   "source": [
    "3) Repeat the steps above with *N=25* and *N=50*. Compute the error, $\\epsilon(x) = |df_{computed}-df_{exact}|$ for all three values of *N* and plot them on a figure."
   ]
  },
  {
   "cell_type": "code",
   "execution_count": null,
   "metadata": {},
   "outputs": [],
   "source": [
    "#add code here\n",
    "\n",
    "\n",
    "\n"
   ]
  },
  {
   "cell_type": "markdown",
   "metadata": {},
   "source": [
    "4) A critically important idea is \"grid convergence\" which is connected to the rate at which the error decreases as $\\Delta x$ decreases (or as $N$ increases). For a well-posed method, for sufficiently small $\\Delta x$, the solution should be *grid independent* -- further reductions in the grid spacing will not meaningfully reduce the error any further. This typically occurs when the error is close to ~$1e-15$. At (approximately) what value of $N$ does the differentiation of the Gaussian (with $\\beta=4$) become grid independent? And at what rate does the error decrease?"
   ]
  },
  {
   "cell_type": "code",
   "execution_count": 4,
   "metadata": {},
   "outputs": [],
   "source": [
    "#Compute error for a few values of N and display results\n",
    "\n",
    "    "
   ]
  },
  {
   "cell_type": "markdown",
   "metadata": {},
   "source": [
    "*Add answer here*"
   ]
  }
 ],
 "metadata": {
  "kernelspec": {
   "display_name": "Python 3 (ipykernel)",
   "language": "python",
   "name": "python3"
  },
  "language_info": {
   "codemirror_mode": {
    "name": "ipython",
    "version": 3
   },
   "file_extension": ".py",
   "mimetype": "text/x-python",
   "name": "python",
   "nbconvert_exporter": "python",
   "pygments_lexer": "ipython3",
   "version": "3.9.16"
  }
 },
 "nbformat": 4,
 "nbformat_minor": 1
}
