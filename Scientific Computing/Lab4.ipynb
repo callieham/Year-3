{
 "cells": [
  {
   "cell_type": "markdown",
   "metadata": {},
   "source": [
    "## Scientific Computation Lab 4"
   ]
  },
  {
   "cell_type": "markdown",
   "metadata": {},
   "source": [
    "In this lab, you will modify graph search functions so that they find shortest paths and identify connected components in graphs provided as input. You will also be asked to analyze the theoretical cost of the resulting codes."
   ]
  },
  {
   "cell_type": "markdown",
   "metadata": {},
   "source": [
    "### Task 1: Shortest paths from BFS"
   ]
  },
  {
   "cell_type": "markdown",
   "metadata": {},
   "source": [
    "The BFS code developed in lecture finds all reachable nodes from a source and computes the distance of the shortest path from the source to each reachable node:"
   ]
  },
  {
   "cell_type": "code",
<<<<<<< HEAD
   "execution_count": null,
=======
   "execution_count": 1,
>>>>>>> 6810be2dfbda976cb2aafd7cc2cf238beb14ec70
   "metadata": {},
   "outputs": [],
   "source": [
    "import networkx as nx\n",
    "\n",
    "def bfs(G,s):\n",
    "    \"\"\"\n",
    "    Input:\n",
    "    G: networkx graph\n",
    "    x: source node\n",
    "\n",
    "    Output:\n",
    "    L2: Labels for all nodes in graph, 0=unreachable from source, 1=reachable\n",
    "    L3: Shortest distance from source to nodes in graph\n",
    "    \"\"\"\n",
    "\n",
    "    L1 = list(G.nodes) #Assumes nodes are numbered from 0 to N-1\n",
    "    L2 = [0 for l in L1] #Labels\n",
    "    L3 = [-1000 for l in L1] #Distances\n",
    "    L4 = [[] for l in L1] #Paths \n",
    "    Q=[]\n",
    "    Q.append(s)\n",
    "    L2[s]=1\n",
    "    L3[s]=0\n",
    "    L4[s] = [s]\n",
    "    while len(Q)>0:\n",
    "        x = Q.pop(0) #remove node from front of queue\n",
    "        print(\"***x=\",x,' ***')\n",
    "        for v in G.adj[x].keys():\n",
    "            if L2[v]==0:\n",
    "                Q.append(v) #add unexplored neighbors to back of queue\n",
    "                L2[v]=1\n",
    "                L3[v]=1+L3[x]\n",
    "                #add code here\n",
    "            \n",
    "            print(\"v=\",v)\n",
    "            print(\"Q=\",Q)\n",
    "    return L2,L3"
   ]
  },
  {
   "cell_type": "markdown",
   "metadata": {},
   "source": [
    "1. Modify the function above so that it returns a list, *L4*, whose *i+1th* element, *L4[i]* contains a list of nodes for the shortest path between the source and node *i*. For example, L4=[[0],[0,2,3,1],[0,2],[0,3]] would indicate that the shortest path between nodes 0 and 1 is 0->2->3->1. "
   ]
  },
  {
   "cell_type": "code",
<<<<<<< HEAD
   "execution_count": null,
   "metadata": {},
   "outputs": [],
   "source": [
    "#New function here\n"
=======
   "execution_count": 7,
   "metadata": {},
   "outputs": [],
   "source": [
    "#New function here\n",
    "def bfs2(G,s):\n",
    "    \"\"\"\n",
    "    Input:\n",
    "    G: networkx graph\n",
    "    x: source node\n",
    "\n",
    "    Output:\n",
    "    L2: Labels for all nodes in graph, 0=unreachable from source, 1=reachable\n",
    "    L3: Shortest distance from source to nodes in graph\n",
    "    \"\"\"\n",
    "\n",
    "    L1 = list(G.nodes) #Assumes nodes are numbered from 0 to N-1\n",
    "    L2 = [0 for l in L1] #Labels\n",
    "    L3 = [-1000 for l in L1] #Distances\n",
    "    L4 = [[] for l in L1] #Paths \n",
    "    Q=[]\n",
    "    Q.append(s)\n",
    "    L2[s]=1\n",
    "    L3[s]=0\n",
    "    L4[s] = [s]\n",
    "    while len(Q)>0:\n",
    "        x = Q.pop(0) #remove node from front of queue\n",
    "        print(\"***x=\",x,' ***')\n",
    "        for v in G.adj[x].keys():\n",
    "            if L2[v]==0:\n",
    "                Q.append(v) #add unexplored neighbors to back of queue\n",
    "                L2[v]=1\n",
    "                L3[v]=1+L3[x]\n",
    "                #add code here\n",
    "                L4[v]=L4[x]+[v]\n",
    "            print(\"v=\",v)\n",
    "            print(\"Q=\",Q)\n",
    "    return L2,L3,L4"
>>>>>>> 6810be2dfbda976cb2aafd7cc2cf238beb14ec70
   ]
  },
  {
   "cell_type": "markdown",
   "metadata": {},
   "source": [
    "2. Test your function with the Barabasi-Albert graph generated below and verify (using networkx) that it computes shortest-paths correctly:"
   ]
  },
  {
   "cell_type": "code",
<<<<<<< HEAD
   "execution_count": null,
   "metadata": {},
   "outputs": [],
   "source": [
    "G = nx.barabasi_albert_graph(10,3)\n",
    "#Add code here\n",
    "\n"
=======
   "execution_count": 9,
   "metadata": {},
   "outputs": [
    {
     "name": "stdout",
     "output_type": "stream",
     "text": [
      "***x= 2  ***\n",
      "v= 0\n",
      "Q= [0]\n",
      "v= 4\n",
      "Q= [0, 4]\n",
      "v= 5\n",
      "Q= [0, 4, 5]\n",
      "v= 7\n",
      "Q= [0, 4, 5, 7]\n",
      "***x= 0  ***\n",
      "v= 1\n",
      "Q= [4, 5, 7, 1]\n",
      "v= 2\n",
      "Q= [4, 5, 7, 1]\n",
      "v= 3\n",
      "Q= [4, 5, 7, 1, 3]\n",
      "v= 5\n",
      "Q= [4, 5, 7, 1, 3]\n",
      "v= 6\n",
      "Q= [4, 5, 7, 1, 3, 6]\n",
      "v= 7\n",
      "Q= [4, 5, 7, 1, 3, 6]\n",
      "v= 8\n",
      "Q= [4, 5, 7, 1, 3, 6, 8]\n",
      "v= 9\n",
      "Q= [4, 5, 7, 1, 3, 6, 8, 9]\n",
      "***x= 4  ***\n",
      "v= 1\n",
      "Q= [5, 7, 1, 3, 6, 8, 9]\n",
      "v= 2\n",
      "Q= [5, 7, 1, 3, 6, 8, 9]\n",
      "v= 3\n",
      "Q= [5, 7, 1, 3, 6, 8, 9]\n",
      "v= 5\n",
      "Q= [5, 7, 1, 3, 6, 8, 9]\n",
      "v= 6\n",
      "Q= [5, 7, 1, 3, 6, 8, 9]\n",
      "v= 7\n",
      "Q= [5, 7, 1, 3, 6, 8, 9]\n",
      "v= 8\n",
      "Q= [5, 7, 1, 3, 6, 8, 9]\n",
      "***x= 5  ***\n",
      "v= 0\n",
      "Q= [7, 1, 3, 6, 8, 9]\n",
      "v= 2\n",
      "Q= [7, 1, 3, 6, 8, 9]\n",
      "v= 4\n",
      "Q= [7, 1, 3, 6, 8, 9]\n",
      "v= 8\n",
      "Q= [7, 1, 3, 6, 8, 9]\n",
      "v= 9\n",
      "Q= [7, 1, 3, 6, 8, 9]\n",
      "***x= 7  ***\n",
      "v= 0\n",
      "Q= [1, 3, 6, 8, 9]\n",
      "v= 2\n",
      "Q= [1, 3, 6, 8, 9]\n",
      "v= 4\n",
      "Q= [1, 3, 6, 8, 9]\n",
      "***x= 1  ***\n",
      "v= 0\n",
      "Q= [3, 6, 8, 9]\n",
      "v= 4\n",
      "Q= [3, 6, 8, 9]\n",
      "***x= 3  ***\n",
      "v= 0\n",
      "Q= [6, 8, 9]\n",
      "v= 4\n",
      "Q= [6, 8, 9]\n",
      "v= 6\n",
      "Q= [6, 8, 9]\n",
      "***x= 6  ***\n",
      "v= 0\n",
      "Q= [8, 9]\n",
      "v= 3\n",
      "Q= [8, 9]\n",
      "v= 4\n",
      "Q= [8, 9]\n",
      "v= 9\n",
      "Q= [8, 9]\n",
      "***x= 8  ***\n",
      "v= 0\n",
      "Q= [9]\n",
      "v= 4\n",
      "Q= [9]\n",
      "v= 5\n",
      "Q= [9]\n",
      "***x= 9  ***\n",
      "v= 0\n",
      "Q= []\n",
      "v= 5\n",
      "Q= []\n",
      "v= 6\n",
      "Q= []\n"
     ]
    },
    {
     "data": {
      "text/plain": [
       "True"
      ]
     },
     "execution_count": 9,
     "metadata": {},
     "output_type": "execute_result"
    }
   ],
   "source": [
    "G = nx.barabasi_albert_graph(10,3)\n",
    "#Add code here\n",
    "L2, L3, L4 = bfs2(G, 2)\n",
    "L4[5] == nx.dijkstra_path(G, 2, 5)"
>>>>>>> 6810be2dfbda976cb2aafd7cc2cf238beb14ec70
   ]
  },
  {
   "cell_type": "markdown",
   "metadata": {},
   "source": [
    "3. Say that the maximum distance in the graph is $d_{max}$. Use $d_{max}$ to construct an estimate the big-O cost of computing the paths. "
   ]
  },
  {
   "cell_type": "markdown",
   "metadata": {},
<<<<<<< HEAD
   "source": [
    "Add answer here"
   ]
=======
   "source": []
>>>>>>> 6810be2dfbda976cb2aafd7cc2cf238beb14ec70
  },
  {
   "cell_type": "markdown",
   "metadata": {},
   "source": [
    "### Task 2: Connected components"
   ]
  },
  {
   "cell_type": "markdown",
   "metadata": {},
   "source": [
    "A connected component of a graph is a set of nodes where there is at least one path between any pair of nodes in the set. A graph may contain several connected components, and the aim of this task is to assign a distinct numerical label to all nodes belonging to the same component. So, if a graph with 5 nodes has links: 0-1, 1-2, 3-4, then nodes 0,1,2 would be labeled belonging to component \"0\" and nodes 3,4 would be assigned to component \"1\". \n",
    "\n",
    "The basic algorithm is as follows:\n",
    "\n",
    "* Initialize numerical label to 0\n",
    "* Loop through all nodes in graph\n",
    "    * if current node has not been explored\n",
    "        * Assign numerical label to current node and label it as explored\n",
    "        * Find all nodes reachable from current node, label them as explored and assign numerical label to them\n",
    "        * Increment numerical label\n",
    "\n"
   ]
  },
  {
   "cell_type": "markdown",
   "metadata": {},
   "source": [
    "1. Implement this algorithm in the cell below so that it takes a networkx graph as input and creates a list, Lconnect, where Lconnect[i] is the label for the connected component that node i belongs to. You may assume that nodes have \n",
    "been numbered from 0 to N-1. You have been provided with a function that implements depth-first search."
   ]
  },
  {
   "cell_type": "code",
<<<<<<< HEAD
   "execution_count": 1,
=======
   "execution_count": 10,
>>>>>>> 6810be2dfbda976cb2aafd7cc2cf238beb14ec70
   "metadata": {},
   "outputs": [],
   "source": [
    "import networkx as nx\n",
    "\n",
    "def dfs(G,s,L2,label):\n",
    "    \"\"\"\n",
    "    Input:\n",
    "    G: networkx graph\n",
    "    s: source node\n",
    "    L2: labels for reachable nodes, used in conjunction with connect below\n",
    "    label: label of \"current\" component as set by connect\n",
    "    Find reachable nodes using DFS\n",
    "    Output:\n",
    "    L2: Labels for all nodes in graph, -1=unreachable from source, label=reachable\n",
    "    \"\"\"\n",
    "\n",
    "    Q=[]\n",
    "    Q.append(s)\n",
    "    L2[s]=label\n",
    "\n",
    "    while len(Q)>0:\n",
    "        x = Q.pop()\n",
    "        for v in G.adj[x].keys():\n",
    "            if L2[v]==-1:\n",
    "                Q.append(v)\n",
    "                L2[v]=label\n",
    "            #print(\"v=\",v)\n",
    "            #print(\"Q=\",Q)\n",
    "    return L2\n",
    "\n",
    "def connect(G):\n",
    "    \"\"\"Find connected components of G and label nodes appropriately\n",
    "    in list, Lconnect.\n",
    "    \"\"\"\n",
    "    Lconnect = [-1 for n in G.nodes()]\n",
    "    label=0\n",
    "    #Add code here\n",
<<<<<<< HEAD
    " \n",
=======
    "    for n in G.nodes():\n",
    "        Lconnect = dfs(G, n, Lconnect, Lconnect[n])\n",
    "    \n",
>>>>>>> 6810be2dfbda976cb2aafd7cc2cf238beb14ec70
    "\n",
    "    return Lconnect"
   ]
  },
  {
   "cell_type": "markdown",
   "metadata": {},
   "source": [
    "2. Use the random graph generated below to verify that your code is correct. What is the asymptotic time complexity of your routine? "
   ]
  },
  {
   "cell_type": "code",
<<<<<<< HEAD
   "execution_count": null,
   "metadata": {},
   "outputs": [],
   "source": [
    "G = nx.erdos_renyi_graph(10,0.1)\n",
    "#Add code here"
=======
   "execution_count": 11,
   "metadata": {},
   "outputs": [
    {
     "ename": "KeyboardInterrupt",
     "evalue": "",
     "output_type": "error",
     "traceback": [
      "\u001b[0;31m---------------------------------------------------------------------------\u001b[0m",
      "\u001b[0;31mKeyboardInterrupt\u001b[0m                         Traceback (most recent call last)",
      "\u001b[0;32m/var/folders/vg/6675r30x0zd96_fc4pksb0j00000gq/T/ipykernel_5223/682626491.py\u001b[0m in \u001b[0;36m<module>\u001b[0;34m\u001b[0m\n\u001b[1;32m      1\u001b[0m \u001b[0mG\u001b[0m \u001b[0;34m=\u001b[0m \u001b[0mnx\u001b[0m\u001b[0;34m.\u001b[0m\u001b[0merdos_renyi_graph\u001b[0m\u001b[0;34m(\u001b[0m\u001b[0;36m10\u001b[0m\u001b[0;34m,\u001b[0m\u001b[0;36m0.1\u001b[0m\u001b[0;34m)\u001b[0m\u001b[0;34m\u001b[0m\u001b[0;34m\u001b[0m\u001b[0m\n\u001b[1;32m      2\u001b[0m \u001b[0;31m#Add code here\u001b[0m\u001b[0;34m\u001b[0m\u001b[0;34m\u001b[0m\u001b[0;34m\u001b[0m\u001b[0m\n\u001b[0;32m----> 3\u001b[0;31m \u001b[0mconnect\u001b[0m\u001b[0;34m(\u001b[0m\u001b[0mG\u001b[0m\u001b[0;34m)\u001b[0m\u001b[0;34m\u001b[0m\u001b[0;34m\u001b[0m\u001b[0m\n\u001b[0m",
      "\u001b[0;32m/var/folders/vg/6675r30x0zd96_fc4pksb0j00000gq/T/ipykernel_5223/2729553959.py\u001b[0m in \u001b[0;36mconnect\u001b[0;34m(G)\u001b[0m\n\u001b[1;32m     35\u001b[0m     \u001b[0;31m#Add code here\u001b[0m\u001b[0;34m\u001b[0m\u001b[0;34m\u001b[0m\u001b[0;34m\u001b[0m\u001b[0m\n\u001b[1;32m     36\u001b[0m     \u001b[0;32mfor\u001b[0m \u001b[0mn\u001b[0m \u001b[0;32min\u001b[0m \u001b[0mG\u001b[0m\u001b[0;34m.\u001b[0m\u001b[0mnodes\u001b[0m\u001b[0;34m(\u001b[0m\u001b[0;34m)\u001b[0m\u001b[0;34m:\u001b[0m\u001b[0;34m\u001b[0m\u001b[0;34m\u001b[0m\u001b[0m\n\u001b[0;32m---> 37\u001b[0;31m         \u001b[0mLconnect\u001b[0m \u001b[0;34m=\u001b[0m \u001b[0mdfs\u001b[0m\u001b[0;34m(\u001b[0m\u001b[0mG\u001b[0m\u001b[0;34m,\u001b[0m \u001b[0mn\u001b[0m\u001b[0;34m,\u001b[0m \u001b[0mLconnect\u001b[0m\u001b[0;34m,\u001b[0m \u001b[0mLconnect\u001b[0m\u001b[0;34m[\u001b[0m\u001b[0mn\u001b[0m\u001b[0;34m]\u001b[0m\u001b[0;34m)\u001b[0m\u001b[0;34m\u001b[0m\u001b[0;34m\u001b[0m\u001b[0m\n\u001b[0m\u001b[1;32m     38\u001b[0m \u001b[0;34m\u001b[0m\u001b[0m\n\u001b[1;32m     39\u001b[0m \u001b[0;34m\u001b[0m\u001b[0m\n",
      "\u001b[0;32m/var/folders/vg/6675r30x0zd96_fc4pksb0j00000gq/T/ipykernel_5223/2729553959.py\u001b[0m in \u001b[0;36mdfs\u001b[0;34m(G, s, L2, label)\u001b[0m\n\u001b[1;32m     19\u001b[0m     \u001b[0;32mwhile\u001b[0m \u001b[0mlen\u001b[0m\u001b[0;34m(\u001b[0m\u001b[0mQ\u001b[0m\u001b[0;34m)\u001b[0m\u001b[0;34m>\u001b[0m\u001b[0;36m0\u001b[0m\u001b[0;34m:\u001b[0m\u001b[0;34m\u001b[0m\u001b[0;34m\u001b[0m\u001b[0m\n\u001b[1;32m     20\u001b[0m         \u001b[0mx\u001b[0m \u001b[0;34m=\u001b[0m \u001b[0mQ\u001b[0m\u001b[0;34m.\u001b[0m\u001b[0mpop\u001b[0m\u001b[0;34m(\u001b[0m\u001b[0;34m)\u001b[0m\u001b[0;34m\u001b[0m\u001b[0;34m\u001b[0m\u001b[0m\n\u001b[0;32m---> 21\u001b[0;31m         \u001b[0;32mfor\u001b[0m \u001b[0mv\u001b[0m \u001b[0;32min\u001b[0m \u001b[0mG\u001b[0m\u001b[0;34m.\u001b[0m\u001b[0madj\u001b[0m\u001b[0;34m[\u001b[0m\u001b[0mx\u001b[0m\u001b[0;34m]\u001b[0m\u001b[0;34m.\u001b[0m\u001b[0mkeys\u001b[0m\u001b[0;34m(\u001b[0m\u001b[0;34m)\u001b[0m\u001b[0;34m:\u001b[0m\u001b[0;34m\u001b[0m\u001b[0;34m\u001b[0m\u001b[0m\n\u001b[0m\u001b[1;32m     22\u001b[0m             \u001b[0;32mif\u001b[0m \u001b[0mL2\u001b[0m\u001b[0;34m[\u001b[0m\u001b[0mv\u001b[0m\u001b[0;34m]\u001b[0m\u001b[0;34m==\u001b[0m\u001b[0;34m-\u001b[0m\u001b[0;36m1\u001b[0m\u001b[0;34m:\u001b[0m\u001b[0;34m\u001b[0m\u001b[0;34m\u001b[0m\u001b[0m\n\u001b[1;32m     23\u001b[0m                 \u001b[0mQ\u001b[0m\u001b[0;34m.\u001b[0m\u001b[0mappend\u001b[0m\u001b[0;34m(\u001b[0m\u001b[0mv\u001b[0m\u001b[0;34m)\u001b[0m\u001b[0;34m\u001b[0m\u001b[0;34m\u001b[0m\u001b[0m\n",
      "\u001b[0;32m~/opt/anaconda3/lib/python3.8/_collections_abc.py\u001b[0m in \u001b[0;36m__iter__\u001b[0;34m(self)\u001b[0m\n\u001b[1;32m    718\u001b[0m \u001b[0;34m\u001b[0m\u001b[0m\n\u001b[1;32m    719\u001b[0m     \u001b[0;32mdef\u001b[0m \u001b[0m__iter__\u001b[0m\u001b[0;34m(\u001b[0m\u001b[0mself\u001b[0m\u001b[0;34m)\u001b[0m\u001b[0;34m:\u001b[0m\u001b[0;34m\u001b[0m\u001b[0;34m\u001b[0m\u001b[0m\n\u001b[0;32m--> 720\u001b[0;31m         \u001b[0;32myield\u001b[0m \u001b[0;32mfrom\u001b[0m \u001b[0mself\u001b[0m\u001b[0;34m.\u001b[0m\u001b[0m_mapping\u001b[0m\u001b[0;34m\u001b[0m\u001b[0;34m\u001b[0m\u001b[0m\n\u001b[0m\u001b[1;32m    721\u001b[0m \u001b[0;34m\u001b[0m\u001b[0m\n\u001b[1;32m    722\u001b[0m \u001b[0mKeysView\u001b[0m\u001b[0;34m.\u001b[0m\u001b[0mregister\u001b[0m\u001b[0;34m(\u001b[0m\u001b[0mdict_keys\u001b[0m\u001b[0;34m)\u001b[0m\u001b[0;34m\u001b[0m\u001b[0;34m\u001b[0m\u001b[0m\n",
      "\u001b[0;32m~/opt/anaconda3/lib/python3.8/site-packages/networkx/classes/coreviews.py\u001b[0m in \u001b[0;36m__iter__\u001b[0;34m(self)\u001b[0m\n\u001b[1;32m     49\u001b[0m \u001b[0;34m\u001b[0m\u001b[0m\n\u001b[1;32m     50\u001b[0m     \u001b[0;32mdef\u001b[0m \u001b[0m__iter__\u001b[0m\u001b[0;34m(\u001b[0m\u001b[0mself\u001b[0m\u001b[0;34m)\u001b[0m\u001b[0;34m:\u001b[0m\u001b[0;34m\u001b[0m\u001b[0;34m\u001b[0m\u001b[0m\n\u001b[0;32m---> 51\u001b[0;31m         \u001b[0;32mreturn\u001b[0m \u001b[0miter\u001b[0m\u001b[0;34m(\u001b[0m\u001b[0mself\u001b[0m\u001b[0;34m.\u001b[0m\u001b[0m_atlas\u001b[0m\u001b[0;34m)\u001b[0m\u001b[0;34m\u001b[0m\u001b[0;34m\u001b[0m\u001b[0m\n\u001b[0m\u001b[1;32m     52\u001b[0m \u001b[0;34m\u001b[0m\u001b[0m\n\u001b[1;32m     53\u001b[0m     \u001b[0;32mdef\u001b[0m \u001b[0m__getitem__\u001b[0m\u001b[0;34m(\u001b[0m\u001b[0mself\u001b[0m\u001b[0;34m,\u001b[0m \u001b[0mkey\u001b[0m\u001b[0;34m)\u001b[0m\u001b[0;34m:\u001b[0m\u001b[0;34m\u001b[0m\u001b[0;34m\u001b[0m\u001b[0m\n",
      "\u001b[0;31mKeyboardInterrupt\u001b[0m: "
     ]
    }
   ],
   "source": [
    "G = nx.erdos_renyi_graph(10,0.1)\n",
    "#Add code here\n",
    "connect(G)"
>>>>>>> 6810be2dfbda976cb2aafd7cc2cf238beb14ec70
   ]
  },
  {
   "cell_type": "markdown",
   "metadata": {},
   "source": [
    "Add answer here"
   ]
  }
 ],
 "metadata": {
  "kernelspec": {
   "display_name": "Python 3 (ipykernel)",
   "language": "python",
   "name": "python3"
  },
  "language_info": {
   "codemirror_mode": {
    "name": "ipython",
    "version": 3
   },
   "file_extension": ".py",
   "mimetype": "text/x-python",
   "name": "python",
   "nbconvert_exporter": "python",
   "pygments_lexer": "ipython3",
<<<<<<< HEAD
   "version": "3.9.16"
=======
   "version": "3.8.13"
>>>>>>> 6810be2dfbda976cb2aafd7cc2cf238beb14ec70
  }
 },
 "nbformat": 4,
 "nbformat_minor": 1
}
