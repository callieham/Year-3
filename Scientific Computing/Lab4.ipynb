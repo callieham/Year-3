{
 "cells": [
  {
   "cell_type": "markdown",
   "metadata": {},
   "source": [
    "## Scientific Computation Lab 4"
   ]
  },
  {
   "cell_type": "markdown",
   "metadata": {},
   "source": [
    "In this lab, you will modify graph search functions so that they find shortest paths and identify connected components in graphs provided as input. You will also be asked to analyze the theoretical cost of the resulting codes."
   ]
  },
  {
   "cell_type": "markdown",
   "metadata": {},
   "source": [
    "### Task 1: Shortest paths from BFS"
   ]
  },
  {
   "cell_type": "markdown",
   "metadata": {},
   "source": [
    "The BFS code developed in lecture finds all reachable nodes from a source and computes the distance of the shortest path from the source to each reachable node:"
   ]
  },
  {
   "cell_type": "code",
   "execution_count": null,
   "metadata": {},
   "outputs": [],
   "source": [
    "import networkx as nx\n",
    "\n",
    "def bfs(G,s):\n",
    "    \"\"\"\n",
    "    Input:\n",
    "    G: networkx graph\n",
    "    x: source node\n",
    "\n",
    "    Output:\n",
    "    L2: Labels for all nodes in graph, 0=unreachable from source, 1=reachable\n",
    "    L3: Shortest distance from source to nodes in graph\n",
    "    \"\"\"\n",
    "\n",
    "    L1 = list(G.nodes) #Assumes nodes are numbered from 0 to N-1\n",
    "    L2 = [0 for l in L1] #Labels\n",
    "    L3 = [-1000 for l in L1] #Distances\n",
    "    L4 = [[] for l in L1] #Paths \n",
    "    Q=[]\n",
    "    Q.append(s)\n",
    "    L2[s]=1\n",
    "    L3[s]=0\n",
    "    L4[s] = [s]\n",
    "    while len(Q)>0:\n",
    "        x = Q.pop(0) #remove node from front of queue\n",
    "        print(\"***x=\",x,' ***')\n",
    "        for v in G.adj[x].keys():\n",
    "            if L2[v]==0:\n",
    "                Q.append(v) #add unexplored neighbors to back of queue\n",
    "                L2[v]=1\n",
    "                L3[v]=1+L3[x]\n",
    "                #add code here\n",
    "            \n",
    "            print(\"v=\",v)\n",
    "            print(\"Q=\",Q)\n",
    "    return L2,L3"
   ]
  },
  {
   "cell_type": "markdown",
   "metadata": {},
   "source": [
    "1. Modify the function above so that it returns a list, *L4*, whose *i+1th* element, *L4[i]* contains a list of nodes for the shortest path between the source and node *i*. For example, L4=[[0],[0,2,3,1],[0,2],[0,3]] would indicate that the shortest path between nodes 0 and 1 is 0->2->3->1. "
   ]
  },
  {
   "cell_type": "code",
   "execution_count": null,
   "metadata": {},
   "outputs": [],
   "source": [
    "#New function here\n"
   ]
  },
  {
   "cell_type": "markdown",
   "metadata": {},
   "source": [
    "2. Test your function with the Barabasi-Albert graph generated below and verify (using networkx) that it computes shortest-paths correctly:"
   ]
  },
  {
   "cell_type": "code",
   "execution_count": null,
   "metadata": {},
   "outputs": [],
   "source": [
    "G = nx.barabasi_albert_graph(10,3)\n",
    "#Add code here\n",
    "\n"
   ]
  },
  {
   "cell_type": "markdown",
   "metadata": {},
   "source": [
    "3. Say that the maximum distance in the graph is $d_{max}$. Use $d_{max}$ to construct an estimate the big-O cost of computing the paths. "
   ]
  },
  {
   "cell_type": "markdown",
   "metadata": {},
   "source": [
    "Add answer here"
   ]
  },
  {
   "cell_type": "markdown",
   "metadata": {},
   "source": [
    "### Task 2: Connected components"
   ]
  },
  {
   "cell_type": "markdown",
   "metadata": {},
   "source": [
    "A connected component of a graph is a set of nodes where there is at least one path between any pair of nodes in the set. A graph may contain several connected components, and the aim of this task is to assign a distinct numerical label to all nodes belonging to the same component. So, if a graph with 5 nodes has links: 0-1, 1-2, 3-4, then nodes 0,1,2 would be labeled belonging to component \"0\" and nodes 3,4 would be assigned to component \"1\". \n",
    "\n",
    "The basic algorithm is as follows:\n",
    "\n",
    "* Initialize numerical label to 0\n",
    "* Loop through all nodes in graph\n",
    "    * if current node has not been explored\n",
    "        * Assign numerical label to current node and label it as explored\n",
    "        * Find all nodes reachable from current node, label them as explored and assign numerical label to them\n",
    "        * Increment numerical label\n",
    "\n"
   ]
  },
  {
   "cell_type": "markdown",
   "metadata": {},
   "source": [
    "1. Implement this algorithm in the cell below so that it takes a networkx graph as input and creates a list, Lconnect, where Lconnect[i] is the label for the connected component that node i belongs to. You may assume that nodes have \n",
    "been numbered from 0 to N-1. You have been provided with a function that implements depth-first search."
   ]
  },
  {
   "cell_type": "code",
   "execution_count": 1,
   "metadata": {},
   "outputs": [],
   "source": [
    "import networkx as nx\n",
    "\n",
    "def dfs(G,s,L2,label):\n",
    "    \"\"\"\n",
    "    Input:\n",
    "    G: networkx graph\n",
    "    s: source node\n",
    "    L2: labels for reachable nodes, used in conjunction with connect below\n",
    "    label: label of \"current\" component as set by connect\n",
    "    Find reachable nodes using DFS\n",
    "    Output:\n",
    "    L2: Labels for all nodes in graph, -1=unreachable from source, label=reachable\n",
    "    \"\"\"\n",
    "\n",
    "    Q=[]\n",
    "    Q.append(s)\n",
    "    L2[s]=label\n",
    "\n",
    "    while len(Q)>0:\n",
    "        x = Q.pop()\n",
    "        for v in G.adj[x].keys():\n",
    "            if L2[v]==-1:\n",
    "                Q.append(v)\n",
    "                L2[v]=label\n",
    "            #print(\"v=\",v)\n",
    "            #print(\"Q=\",Q)\n",
    "    return L2\n",
    "\n",
    "def connect(G):\n",
    "    \"\"\"Find connected components of G and label nodes appropriately\n",
    "    in list, Lconnect.\n",
    "    \"\"\"\n",
    "    Lconnect = [-1 for n in G.nodes()]\n",
    "    label=0\n",
    "    #Add code here\n",
    " \n",
    "\n",
    "    return Lconnect"
   ]
  },
  {
   "cell_type": "markdown",
   "metadata": {},
   "source": [
    "2. Use the random graph generated below to verify that your code is correct. What is the asymptotic time complexity of your routine? "
   ]
  },
  {
   "cell_type": "code",
   "execution_count": null,
   "metadata": {},
   "outputs": [],
   "source": [
    "G = nx.erdos_renyi_graph(10,0.1)\n",
    "#Add code here"
   ]
  },
  {
   "cell_type": "markdown",
   "metadata": {},
   "source": [
    "Add answer here"
   ]
  }
 ],
 "metadata": {
  "kernelspec": {
   "display_name": "Python 3 (ipykernel)",
   "language": "python",
   "name": "python3"
  },
  "language_info": {
   "codemirror_mode": {
    "name": "ipython",
    "version": 3
   },
   "file_extension": ".py",
   "mimetype": "text/x-python",
   "name": "python",
   "nbconvert_exporter": "python",
   "pygments_lexer": "ipython3",
   "version": "3.9.16"
  }
 },
 "nbformat": 4,
 "nbformat_minor": 1
}
