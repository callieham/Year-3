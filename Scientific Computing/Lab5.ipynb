{
 "cells": [
  {
   "cell_type": "markdown",
   "metadata": {},
   "source": [
    "## Scientific Computation Lab 5\n",
    "\n",
    "Please find a few minutes to complete the very short anonymous feedback form here: https://forms.office.com/e/P4KD3PQi2B"
   ]
  },
  {
   "cell_type": "markdown",
   "metadata": {},
   "source": [
    "### Task 1: Creating a heap (to be completed after watching video on binary heaps)"
   ]
  },
  {
   "cell_type": "markdown",
   "metadata": {},
   "source": [
    "heapq.heapify will re-order the elements in a list so that it can be interpreted as a binary heap. First, draw (by hand) a binary heap whose keys are the elements in the list below. Then, apply the heapify function to the list, and check that you understand how the elements have been ordered. What are the children of the element with key=2?"
   ]
  },
  {
   "cell_type": "code",
   "execution_count": null,
   "metadata": {},
   "outputs": [],
   "source": [
    "import heapq\n",
    "L = [3,5,8,9,3,2,1]\n",
    "#add code here\n",
    "heapq.heapify(L)\n",
    "print(\"heapified L:\", L)"
   ]
  },
  {
   "cell_type": "markdown",
   "metadata": {},
   "source": [
    "Add answer here:"
   ]
  },
  {
   "cell_type": "markdown",
   "metadata": {},
   "source": [
    "### Task 2: Simulating random walks"
   ]
  },
  {
   "cell_type": "markdown",
   "metadata": {},
   "source": [
    "Here, you will work with simulations of 1-D random walks: $$X_{i+1} = X_i + R_i$$\n",
    "\n",
    "where $R_i$ is a random number which is either +1 or -1 with equal probability (i.e. it represents a coin flip). \n",
    "Code similar to that developed in lecture is provided below. Browse through the code; check that you understand how it works."
   ]
  },
  {
   "cell_type": "markdown",
   "metadata": {},
   "source": [
    "1. We discussed in lecture that increasing $M$ improves the agreement between the computed statistics and the analytical expected values. Investigate the rate of convergence of $\\epsilon_i = |Xstd[i]-\\sqrt{i}|$ as $M$ increases for $i=100$. Assume that $\\epsilon_i \\sim M^{-\\gamma}$ and construct an estimate of $\\gamma$ (Note: this estimate can fluctuate substantially from one run to the next). "
   ]
  },
  {
   "cell_type": "code",
   "execution_count": null,
   "metadata": {},
   "outputs": [],
   "source": [
    "import numpy as np\n",
    "import matplotlib.pyplot as plt\n",
    "def rwalk(Nt=400,M=500,display=False):\n",
    "    \"\"\"Compute M Nt-step 1-D random walks\n",
    "    \"\"\"\n",
    "    X = np.zeros((Nt+1,M))\n",
    "    R = np.random.choice((-1,1),(Nt,M))\n",
    "    \n",
    "    #M Nt-step random walks\n",
    "    for i in range(Nt):\n",
    "        X[i+1,:] = X[i,:] + R[i,:]\n",
    "        \n",
    "    Xave = X.mean(axis=1)\n",
    "    Xstd = X.std(axis=1)\n",
    "     \n",
    "        \n",
    "    #display results\n",
    "    if display:\n",
    "        plt.figure()\n",
    "        plt.plot(X[:,::60])\n",
    "        plt.plot(Xave,label='average')\n",
    "        plt.plot(Xstd,label='standard dev.')\n",
    "        plt.plot(np.sqrt(np.arange(Nt+1)),'r--')\n",
    "        plt.grid()\n",
    "        plt.legend()\n",
    "        plt.xlabel('i')\n",
    "        plt.title('1-D random walk results, Nt=%d, M=%d' %(Nt,M))\n",
    "    return X,Xave,Xstd\n",
    "out = rwalk(display=True)"
   ]
  },
  {
   "cell_type": "code",
   "execution_count": null,
   "metadata": {},
   "outputs": [],
   "source": [
    "#Add code here\n",
    "\n"
   ]
  },
  {
   "cell_type": "markdown",
   "metadata": {},
   "source": [
    "2. You will now examine similarities between diffusion (as modeled by the 1-D diffusion equation) and random walks. \n",
    "Solving the diffusion equation, $\\frac{\\partial \\rho}{\\partial t} = \\alpha \\frac{\\partial ^2\\rho}{\\partial x^2}$ on the real line with initial condition, $\\rho (x,t=0) = \\delta(x)$, has solution, $\\rho(x,t) = \\sqrt{1/(4\\pi \\mathcal{\\alpha} t)} exp(-x^2/(4\\mathcal{\\alpha} t))$. You have been provided a function below which computes this solution provided $x$, $t$, and $\\alpha$. Here, $\\rho(x,t)$ is the probability distribution for walker location at time $t$ when $\\Delta t \\to 0$ and $\\Delta x \\to 0$  Is there a correspondence between this density and the fraction of $M$ walkers at a given location at a certain time? Compute this \"walker fraction\" at $t=200$, and visually compare it to the diffusion equation solution (we are just looking for qualitative similarities). Assume that a random walk step corresponds to $\\Delta x= \\pm 1$ and $\\Delta t = 1$, and set the diffusivity to $\\alpha = \\Delta x^2/2\\Delta t=1/2$. (Hint: np.unique may be helpful)"
   ]
  },
  {
   "cell_type": "code",
   "execution_count": null,
   "metadata": {},
   "outputs": [],
   "source": [
    "import numpy as np\n",
    "def diffusion(x,t,alpha):\n",
    "    \"\"\"Return solution of 1-D diffusion equation with initial condition n(x,t=0) = delta(x). \n",
    "    Note that x can be an array.\n",
    "    \"\"\"\n",
    "    rho = np.sqrt(1/(4*np.pi*alpha*t))*np.exp(-x**2/(4*alpha*t))\n",
    "    return rho\n",
    "\n",
    "#Add code here\n",
    "\n",
    "    \n",
    "    "
   ]
  },
  {
   "cell_type": "markdown",
   "metadata": {},
   "source": [
    "Add answer here:"
   ]
  },
  {
   "cell_type": "markdown",
   "metadata": {},
   "source": [
    "### Task 3: Numerical solution of predator-prey dynamics using explicit Euler method (relevant material in lecture 10 slides and pre-recorded video online)"
   ]
  },
  {
   "cell_type": "markdown",
   "metadata": {},
   "source": [
    "You will now use the explicit Euler method to solve the following IVP:\n",
    "\n",
    "$\\frac{dx}{dt} =  x - x y $\n",
    "\n",
    "$\\frac{dy}{dt} =  x y - y$\n",
    "\n",
    "$x(0)=1 + \\delta, ~ y(0)=1+\\delta$\n",
    "\n",
    "and $\\delta$ is a parameter that you will set and vary.\n",
    "\n",
    "The explicit Euler method advances the generic ODE, $\\frac{du}{dt} = f(u,t)$, using the update equation, $u(t_0+\\Delta t) = u(t_0) + \\Delta t ~u(z,t_0)$ where $t_0$ is some arbitrary time."
   ]
  },
  {
   "cell_type": "markdown",
   "metadata": {},
   "source": [
    "1) You will compute a numerical solution to this problem at times $t_i=i \\Delta t, ~ i=1,2,3,..., Nt$ where $\\Delta t$ is the time step that you will set. The solution should be stored in an $Nt+1$ x $2$ Numpy array, z, where the first column contains $x$, the second column contains $y$, and the first row contains the initial conditions. \n",
    "Add code to the cell below to compute this solution using the explicit Euler method. Initially set $\\Delta t=0.01$, $\\delta = 0.05$, and $Nt=2000$. Make a plot that displays both $x(t)$ and $y(t)$. The solutions should be oscillatory -- does the frequency of oscillation match what you expect based on analytical results for small perturbations?"
   ]
  },
  {
   "cell_type": "code",
   "execution_count": 3,
   "metadata": {},
   "outputs": [],
   "source": [
    "import numpy as np\n",
    "import matplotlib.pyplot as plt\n",
    "delta = 0.05\n",
    "Dt = 0.01\n",
    "Nt = 2000\n",
    "t = np.linspace(0,Nt*Dt,Nt+1)\n",
    "z = np.zeros((Nt+1,2))\n",
    "z[0,:] = 1 + delta\n",
    "#Add code here\n"
   ]
  },
  {
   "cell_type": "markdown",
   "metadata": {},
   "source": [
    "Add answer here"
   ]
  },
  {
   "cell_type": "markdown",
   "metadata": {},
   "source": [
    "2) Now compute solutions over the same timespan with $\\Delta t=0.1$ and $\\Delta t=0.001$. Create a plot of $x$ vs. $t$ for all three values of $\\Delta t$ used. Can you explain the results shown in the plot?"
   ]
  },
  {
   "cell_type": "code",
   "execution_count": null,
   "metadata": {},
   "outputs": [],
   "source": [
    "import numpy as np\n",
    "import matplotlib.pyplot as plt\n",
    "#Add code here\n",
    "    "
   ]
  },
  {
   "cell_type": "markdown",
   "metadata": {},
   "source": [
    "Add answer here"
   ]
  },
  {
   "cell_type": "markdown",
   "metadata": {},
   "source": [
    "### Task 4 (optional): Practice with arrays, eigenvalues and eigenvectors\n",
    "These are a few exercises to give you practice with numerical linear algebra and numpy "
   ]
  },
  {
   "cell_type": "markdown",
   "metadata": {
    "collapsed": true
   },
   "source": [
    "1) Use the *np.random.rand* function to generate a 3 x 3 matrix, N "
   ]
  },
  {
   "cell_type": "code",
   "execution_count": null,
   "metadata": {},
   "outputs": [],
   "source": [
    "import numpy as np\n",
    "#Add code here\n"
   ]
  },
  {
   "cell_type": "markdown",
   "metadata": {},
   "source": [
    "2) Compute the eigenvalues and eigenvectors of N:"
   ]
  },
  {
   "cell_type": "code",
   "execution_count": null,
   "metadata": {},
   "outputs": [],
   "source": [
    "#Add code here\n"
   ]
  },
  {
   "cell_type": "markdown",
   "metadata": {},
   "source": [
    "3) Verify that $\\textrm{det}(N-\\lambda_1 I)=0$ where $\\lambda_1$ is the first eigenvalue of N:"
   ]
  },
  {
   "cell_type": "code",
   "execution_count": null,
   "metadata": {},
   "outputs": [],
   "source": [
    "#Add code here\n"
   ]
  },
  {
   "cell_type": "markdown",
   "metadata": {},
   "source": [
    "4) Verify that $N v_1 = \\lambda_1 v_1$ where $v_1$ is the first eigenvector of N:"
   ]
  },
  {
   "cell_type": "code",
   "execution_count": null,
   "metadata": {},
   "outputs": [],
   "source": [
    "#Add code here\n"
   ]
  },
  {
   "cell_type": "markdown",
   "metadata": {},
   "source": [
    "**Note:** Python uses double precision arithmetic when working with floats, so we expect about 16 digits on precision for a numerical calculation. Consequently, a float with a magnitude that is $\\approx 1e-15$ or smaller can be interpreted as zero."
   ]
  }
 ],
 "metadata": {
  "kernelspec": {
   "display_name": "Python 3 (ipykernel)",
   "language": "python",
   "name": "python3"
  },
  "language_info": {
   "codemirror_mode": {
    "name": "ipython",
    "version": 3
   },
   "file_extension": ".py",
   "mimetype": "text/x-python",
   "name": "python",
   "nbconvert_exporter": "python",
   "pygments_lexer": "ipython3",
   "version": "3.9.16"
  }
 },
 "nbformat": 4,
 "nbformat_minor": 1
}
