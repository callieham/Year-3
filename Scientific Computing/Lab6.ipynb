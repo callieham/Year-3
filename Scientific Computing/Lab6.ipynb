{
 "cells": [
  {
   "cell_type": "markdown",
   "metadata": {},
   "source": [
    "## Scientific Computation Lab 6"
   ]
  },
  {
   "cell_type": "markdown",
   "metadata": {},
   "source": [
    "### Numerical solution of linearized predator-prey dynamics"
   ]
  },
  {
   "cell_type": "markdown",
   "metadata": {},
   "source": [
    "You will first compute numerical solutions to the following (familiar) IVP:\n",
    "\n",
    "$\\frac{dx}{dt} =  - y $\n",
    "\n",
    "$\\frac{dy}{dt} =  a x$\n",
    "\n",
    "$x(0)=\\delta, ~ y(0)=\\delta$\n",
    "\n",
    "and $a$ and $\\delta$ are parameters that you will set."
   ]
  },
  {
   "cell_type": "markdown",
   "metadata": {},
   "source": [
    "1) Use solve_ivp with the 'BDF' method to compute a numerical solution to this problem at times $t_i=i \\Delta t, ~ i=1,2,3,..., Nt$ where $\\Delta t$ is the time step that you will set. The solution should be stored in an $Nt+1$ x $2$ Numpy array, z, where the first column contains $x$, the second column contains $y$, and the first row contains the initial conditions. \n",
    "Complete the code in the cell below to compute this solution. Initially set $\\Delta t=0.05$, $\\delta = 1$, $a=4$, and $Nt=200$. Make a plot that displays both $x(t)$ and $y(t)$. It may be helpful to read through one or two examples at the bottom of the documentation page: https://docs.scipy.org/doc/scipy/reference/generated/scipy.integrate.solve_ivp.html"
   ]
  },
  {
   "cell_type": "code",
   "execution_count": null,
   "metadata": {},
   "outputs": [],
   "source": [
    "import numpy as np\n",
    "import matplotlib.pyplot as plt\n",
    "from scipy.integrate import solve_ivp\n",
    "from time import time\n",
    "\n",
    "a = 4\n",
    "delta = 1\n",
    "Dt = 0.05\n",
    "Nt = 200\n",
    "t = np.linspace(0,Nt*Dt,Nt+1)\n",
    "z0 = np.array([delta,delta])\n",
    "\n",
    "def RHS(t,z,a):\n",
    "    \"\"\"\n",
    "    This function has been written in a slightly inefficient way to enhance clarity\n",
    "    \"\"\"\n",
    "    x,y = z[0],z[1]\n",
    "    #Add code here to compute and return [dx/dt,dydt]\n",
    "\n",
    "    return None #modify this return\n",
    "    \n",
    "    \n",
    "sol = solve_ivp(RHS, [t[0],t[-1]], z0, args=(a,),method='BDF',t_eval=t) \n",
    "\n",
    "#Add code to obtain and display solution\n",
    "\n"
   ]
  },
  {
   "cell_type": "markdown",
   "metadata": {},
   "source": [
    "2) Now, you will investigate the accuracy of your solution. You have been provided with a function which computes the exact solution, $x(t)$ with the model parameter values used above. Compute and display the error, $\\epsilon(t)=|x_{exact}(t)-x_{comp}(t)|$. Then recompute the numerical solution using $t2$ below (notice that the time step will now be 10 times smaller). Compute the error and add it to your plot. Is the result what you expect?\n",
    "Finally, compute the numerical solution using $t$ from above, but with $atol$ and $rtol$ reduced substantially from their default values. Compute the error for this solution and add it to your plot. Has the error been reduced?\n"
   ]
  },
  {
   "cell_type": "code",
   "execution_count": null,
   "metadata": {},
   "outputs": [],
   "source": [
    "def x_exact(t):\n",
    "    \"\"\"\n",
    "    Compute exact solution for x(t) corresponding to ODEs above with a=4, x(0)=1, and y(0)=1\n",
    "    \"\"\"\n",
    "    l1,l2 = 1j*2,-1j*2\n",
    "    x = 2*np.real((0.5+0.25j)*np.exp(l1*t))\n",
    "    return x\n",
    "\n",
    "xe = x_exact(t)"
   ]
  },
  {
   "cell_type": "code",
   "execution_count": null,
   "metadata": {},
   "outputs": [],
   "source": [
    "t2 = np.linspace(0,Nt*Dt,10*Nt+1)\n",
    "#Add code here\n"
   ]
  },
  {
   "cell_type": "markdown",
   "metadata": {},
   "source": [
    "3) The function *eEuler* below applies the explicit Euler method to the ODEs above. Examine how the error at $t=10$ varies with the time step, $\\Delta t$. How small does $\\Delta t$ need to be to match the error produced by the initial solve_ivp calculation at $t=10$?"
   ]
  },
  {
   "cell_type": "code",
   "execution_count": null,
   "metadata": {},
   "outputs": [],
   "source": [
    "def eEuler(t,z0,a):\n",
    "    \"\"\"\n",
    "    Use explicit Euler method to solve IVP above\n",
    "    input:\n",
    "    t: times at which to return the solution, initial condition is enforced at t[0]\n",
    "    z0: initial condition\n",
    "    a: model parameter\n",
    "    output:\n",
    "    z: Nt x 2 array containing solution (including initial condition)\n",
    "    \"\"\"\n",
    "    Nt = t.size\n",
    "    Dt = t[1]-t[0]\n",
    "    aDt = a*Dt\n",
    "    z = np.zeros((Nt,2))\n",
    "    z[0,:] = z0\n",
    "    for i in range(1,Nt):\n",
    "        z[i,0] = z[i-1,0]-Dt*z[i-1,1]\n",
    "        z[i,1] = z[i-1,1]+aDt*z[i-1,0]\n",
    "    return z\n",
    "\n"
   ]
  },
  {
   "cell_type": "markdown",
   "metadata": {},
   "source": [
    "4) We can control the error for both the explict Euler and BDF methods. How would you decide which method is better?"
   ]
  },
  {
   "cell_type": "markdown",
   "metadata": {},
   "source": [
    "5) You will now consider the following stochastic version of the linear predator-prey model:\n",
    "\n",
    "$dx =  - y dt + \\mu dW(t) $\n",
    "\n",
    "$dy =  (a x) dt$\n",
    "\n",
    "$x(0)=\\delta, ~ y(0)=\\delta$\n",
    "\n",
    "You have been provided code below which applies the E-M method to the example SDE from lecture. Note that it has been modified to work for the specific case where $\\delta t = \\Delta t$. Modify the code to solve the model equations above. Compute and display your computed approximation for $\\left<x(t)\\right>$ with $\\mu=1$,$\\delta=1$, and $a=4$."
   ]
  },
  {
   "cell_type": "code",
   "execution_count": null,
   "metadata": {},
   "outputs": [],
   "source": [
    "\"\"\"\n",
    "E-M method applied to example ODE from lecture to compute X(t=T) M times. Note that Dt=dt here.\n",
    "\"\"\"\n",
    "import numpy as np\n",
    "import matplotlib.pyplot as plt\n",
    "\n",
    "#set model parameters\n",
    "T = 1\n",
    "l = 2\n",
    "mu = 1\n",
    "X0 = 1\n",
    "\n",
    "#set numerical parameters\n",
    "M = 1000\n",
    "nt = 2**9\n",
    "dt = T/nt\n",
    "\n",
    "Nt = nt\n",
    "Dt = T/Nt\n",
    "\n",
    "fac = (1+l*Dt)\n",
    "tb = np.linspace(0,T,nt+1)\n",
    "t = np.linspace(0,T,Nt+1)\n",
    "\n",
    "#initialize arrays\n",
    "dW = np.sqrt(dt)*np.random.normal(size=(nt,M))\n",
    "\n",
    "X = np.zeros((nt+1,M))\n",
    "X[0,:] = X0\n",
    "#Iterate over Nt time steps\n",
    "for j in range(Nt):\n",
    "    #Update X using ODE\n",
    "    X[j+1,:] = (fac+mu*dW[j,:])*X[j,:]\n",
    "\n"
   ]
  },
  {
   "cell_type": "code",
   "execution_count": 2,
   "metadata": {},
   "outputs": [],
   "source": [
    "\"\"\"\n",
    "E-M method applied to lab SDE to compute X(t=T) M times.\n",
    "\"\"\"\n",
    "\n",
    "import numpy as np\n",
    "import matplotlib.pyplot as plt\n",
    "\n",
    "#set model parameters\n",
    "T = 5\n",
    "a = 4\n",
    "muvals = 1,2\n",
    "delta = 1\n",
    "\n",
    "#set numerical parameters\n",
    "M = 1000\n",
    "nt = 2**9\n",
    "dt = T/nt\n",
    "\n",
    "Nt = nt\n",
    "Dt = T/Nt\n",
    "\n",
    "fac = a*Dt\n",
    "t = np.linspace(0,T,Nt+1)\n",
    "\n",
    "#initialize arrays\n",
    "dW= np.sqrt(dt)*np.random.normal(size=(nt,M))\n",
    "\n",
    "X = np.zeros((nt+1,M,2))\n",
    "Y = X.copy()\n",
    "\n",
    "X[0,:,:] = delta \n",
    "Y[0,:,:] = delta\n",
    "\n",
    "#Add code here"
   ]
  }
 ],
 "metadata": {
  "kernelspec": {
   "display_name": "Python 3 (ipykernel)",
   "language": "python",
   "name": "python3"
  },
  "language_info": {
   "codemirror_mode": {
    "name": "ipython",
    "version": 3
   },
   "file_extension": ".py",
   "mimetype": "text/x-python",
   "name": "python",
   "nbconvert_exporter": "python",
   "pygments_lexer": "ipython3",
   "version": "3.9.16"
  }
 },
 "nbformat": 4,
 "nbformat_minor": 4
}
