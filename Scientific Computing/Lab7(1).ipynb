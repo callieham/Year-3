{
 "cells": [
  {
   "cell_type": "markdown",
   "metadata": {},
   "source": [
    "\n",
    "# Scientific Computation Lab 7\n",
    "\n",
    "\n",
    "\n",
    "\n",
    "\n"
   ]
  },
  {
   "cell_type": "code",
   "execution_count": null,
   "metadata": {},
   "outputs": [],
   "source": [
    "%matplotlib inline"
   ]
  },
  {
   "cell_type": "markdown",
   "metadata": {
    "collapsed": true
   },
   "source": [
    "## Task 1: Numerical solution of an initial value problem (again)"
   ]
  },
  {
   "cell_type": "markdown",
   "metadata": {},
   "source": [
    "In Lab 6, you used *solve_ivp* from scipy.integrate to solve an IVP. Now, you will use an alternate approach to solve the following problem:\n",
    "\n",
    "$\\frac{dy_1}{dt} =   y_2 $\n",
    "\n",
    "$\\frac{dy_2}{dt} =  -y_1 $\n",
    "\n",
    "$y_1(0)=1, ~ y_2(0)=0$\n"
   ]
  },
  {
   "cell_type": "markdown",
   "metadata": {},
   "source": [
    "1) We can rewrite these equations in matrix form: $\\frac{d \\mathbf{y}}{dt} = A \\mathbf{y}$ and solve the problem above using the *matrix exponential*: $\\mathbf{y}(t) = exp(At)\\mathbf{y}_0$. Use this method below, and compare your solution to the analytical result at $t=1$. (The matrix exponential is distinct from element-by-element exponentiation using np.exp)"
   ]
  },
  {
   "cell_type": "code",
   "execution_count": null,
   "metadata": {},
   "outputs": [],
   "source": [
    "#add code here\n"
   ]
  },
  {
   "cell_type": "markdown",
   "metadata": {},
   "source": [
    "2) Investigate how the cost of the matrix exponential depends on the matrix size using timing tests with random matrices"
   ]
  },
  {
   "cell_type": "code",
   "execution_count": null,
   "metadata": {},
   "outputs": [],
   "source": [
    "#Add code here\n"
   ]
  },
  {
   "cell_type": "markdown",
   "metadata": {
    "collapsed": true
   },
   "source": [
    "## Task 2: Dimension reduction with PCA"
   ]
  },
  {
   "cell_type": "markdown",
   "metadata": {},
   "source": [
    "In this task, you will use PCA to analyze the well-known Iris dataset: *The dataset consists of 50 samples from each of three species of Iris (Iris setosa, Iris virginica and Iris versicolor). Four features were measured from each sample: the length and the width of the sepals and petals, in centimeters.*\n",
    "\n",
    "We will use PCA to reduce the dimension of the dataset to three variables which should \"separate\" the three species."
   ]
  },
  {
   "cell_type": "markdown",
   "metadata": {},
   "source": [
    "Running the code below will import necessary libraries and read in the data set."
   ]
  },
  {
   "cell_type": "code",
   "execution_count": null,
   "metadata": {},
   "outputs": [],
   "source": [
    "import numpy as np\n",
    "import matplotlib.pyplot as plt\n",
    "from mpl_toolkits.mplot3d import Axes3D\n",
    "from sklearn import datasets\n",
    "\n",
    "iris = datasets.load_iris()\n",
    "X = iris.data.T\n",
    "y = iris.target"
   ]
  },
  {
   "cell_type": "markdown",
   "metadata": {},
   "source": [
    "1) What are the shapes of X and y? How does y assign labels to the 3 species?"
   ]
  },
  {
   "cell_type": "code",
   "execution_count": null,
   "metadata": {},
   "outputs": [],
   "source": []
  },
  {
   "cell_type": "markdown",
   "metadata": {},
   "source": [
    "2) Now, create a new matrix $A$ which corresponds to $X$ with the mean of each row removed "
   ]
  },
  {
   "cell_type": "code",
   "execution_count": null,
   "metadata": {},
   "outputs": [],
   "source": []
  },
  {
   "cell_type": "markdown",
   "metadata": {},
   "source": [
    "3) Compute the SVD of $A$. What is its rank?"
   ]
  },
  {
   "cell_type": "code",
   "execution_count": null,
   "metadata": {},
   "outputs": [],
   "source": []
  },
  {
   "cell_type": "markdown",
   "metadata": {},
   "source": [
    "4) Now, apply PCA to $A$ and create the transformed data matrix $\\tilde A=U^TA$"
   ]
  },
  {
   "cell_type": "code",
   "execution_count": null,
   "metadata": {},
   "outputs": [],
   "source": []
  },
  {
   "cell_type": "markdown",
   "metadata": {},
   "source": [
    "5) The four rows of $\\tilde A$ are the data represented in terms of four \"new\" variables which are linear combinations of the orginal four features. Verify that (a) there is zero covariance for each pair of the new variables, and that (b) the total variance of the transformed data matches the total variance of the initial data "
   ]
  },
  {
   "cell_type": "code",
   "execution_count": null,
   "metadata": {},
   "outputs": [],
   "source": []
  },
  {
   "cell_type": "markdown",
   "metadata": {},
   "source": [
    "6) We will now discard the fourth new variable. Is this justified?"
   ]
  },
  {
   "cell_type": "markdown",
   "metadata": {},
   "source": [
    "*Add explanation here*"
   ]
  },
  {
   "cell_type": "markdown",
   "metadata": {},
   "source": [
    "7) Does the first new variable distinguish between the three species? Make a plot visualizing the values of this variable for each species. "
   ]
  },
  {
   "cell_type": "code",
   "execution_count": null,
   "metadata": {},
   "outputs": [],
   "source": []
  },
  {
   "cell_type": "markdown",
   "metadata": {},
   "source": [
    "8) The first 3 rows of $\\tilde A$ are our reduced-dimension representation of the data (in terms of the new variables). The cell below will plot these rows on a 3d plot (each column of $\\tilde A$ contains the coordinate for an individual plant) with the point colors corresponding to plant species. You should be able to see a clear \"separation\" of the three Iris species. This reduced data could then be provided to a clustering algorithm which would assign labels (0,1, or 2) to each of the 150 plants."
   ]
  },
  {
   "cell_type": "code",
   "execution_count": null,
   "metadata": {},
   "outputs": [],
   "source": [
    "fig = plt.figure()\n",
    "ax = Axes3D(fig, elev=70, azim=135, auto_add_to_figure=False)\n",
    "fig.add_axes(ax)\n",
    "for i in [0,50,100]:\n",
    "    ax.scatter(Atilde[0,i:i+50],Atilde[1,i:i+50],Atilde[2,i:i+50])\n",
    "plt.show()"
   ]
  }
 ],
 "metadata": {
  "kernelspec": {
   "display_name": "Python 3 (ipykernel)",
   "language": "python",
   "name": "python3"
  },
  "language_info": {
   "codemirror_mode": {
    "name": "ipython",
    "version": 3
   },
   "file_extension": ".py",
   "mimetype": "text/x-python",
   "name": "python",
   "nbconvert_exporter": "python",
   "pygments_lexer": "ipython3",
   "version": "3.9.16"
  }
 },
 "nbformat": 4,
 "nbformat_minor": 1
}
