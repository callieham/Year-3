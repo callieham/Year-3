{
 "cells": [
  {
   "cell_type": "markdown",
   "metadata": {},
   "source": [
    "## Scientific Computation Lab 3"
   ]
  },
  {
   "cell_type": "markdown",
   "metadata": {},
   "source": [
    "In the first two tasks of this lab, we will continue using timing tests to build our understanding of the cost of different operations in Python. Keep in mind that timing results can be unreliable for operations that are very fast. In such cases, it can be helpful to repeat the operation several times and to then compute the average time taken per repetition. It can also be helpful to experiment with different timers, particularly if you are using Windows (e.g. see the documentation here: https://docs.python.org/3/library/time.html)\n",
    "\n",
    "We typically aim to compare timing results with estimates of the time complexity. The following reference contains useful information about the expected cost of various operations with a few Python containers: https://wiki.python.org/moin/TimeComplexity\n",
    "\n",
    "\n"
   ]
  },
  {
   "cell_type": "markdown",
   "metadata": {},
   "source": [
    "### Task 1: Analyzing the cost of the Python hash function"
   ]
  },
  {
   "cell_type": "markdown",
   "metadata": {},
   "source": [
    "1) We have stated that the cost of lookup in a Python dictionary is independent of the size of the dictionary, but what about the length of the key? Analyze the time required to compute the hash of strings with a range of lengths using the Python built-in hash function. The range of lengths should span several orders of magnitude and initially, you can try a maximum length of $10^5$. Depending on your computer, you may be able to consider longer lengths. You should make a log-log plot of the wall time vs. string length.\n",
    "\n",
    "**Notes:**\n",
    "1. np.logspace can be used to generate the string lengths if dtype=int is used \n",
    "2. A simple way to construct a string with length N is: 'a' * N\n",
    "3. Python stores the hash of a string once it is computed, so timeit will give misleading results as the hash will only be computed during the first iteration of the loop used by timeit."
   ]
  },
  {
   "cell_type": "code",
   "execution_count": 49,
   "metadata": {},
   "outputs": [],
   "source": [
    "#Add code here\n",
    "import time\n",
    "import numpy as np\n",
    "times = np.array([])\n",
    "for N in np.logspace(1, 5, num = 200):\n",
    "    str = 'a' * int(N)\n",
    "    t1 = time.time()\n",
    "    x = hash(str)\n",
    "    t2 = time.time()\n",
    "    times = np.append(times, t2 - t1)"
   ]
  },
  {
   "cell_type": "code",
   "execution_count": 81,
   "metadata": {},
   "outputs": [],
   "source": [
    "lengths = np.logspace(1, 5, num = 200)\n",
    "import matplotlib.pyplot as plt"
   ]
  },
  {
   "cell_type": "markdown",
   "metadata": {},
   "source": [
    "2) Assume that for sufficiently large string lengths that $t \\sim N^a$ where $t$ is the wall time and $N$ is the string length. Estimate $a$ by computing a linear least-squares fir to, $log(t) = a log(N) + b$. The coefficients $a$ and $b$ can be computed with *np.polyfit* or something similar.\n"
   ]
  },
  {
   "cell_type": "code",
   "execution_count": 85,
   "metadata": {},
   "outputs": [
    {
     "data": {
      "text/plain": [
       "0.8736402036150119"
      ]
     },
     "execution_count": 85,
     "metadata": {},
     "output_type": "execute_result"
    }
   ],
   "source": [
    "#Add code here\n",
    "parameters = np.polyfit(np.log(lengths[len(lengths)//2:]), np.log(times[len(times)//2:]), 1)\n",
    "parameters[0]"
   ]
  },
  {
   "cell_type": "markdown",
   "metadata": {},
   "source": [
    "An important general point to keep in mind is that strings are containers (like lists and dictionaries), and when carrying out tasks with containers, it is important to carefully consider if/how the cost of the task depends on the size of the container."
   ]
  },
  {
   "cell_type": "markdown",
   "metadata": {},
   "source": [
    "### Task 2: String matching efficiency"
   ]
  },
  {
   "cell_type": "markdown",
   "metadata": {},
   "source": [
    "Our simple pattern-search algorithm utilizes a character-by-character comparison of the pattern with sub-strings in the larger genetic sequence:"
   ]
  },
  {
   "cell_type": "code",
   "execution_count": 86,
   "metadata": {},
   "outputs": [
    {
     "name": "stdout",
     "output_type": "stream",
     "text": [
      "ind= 0\n",
      "ind= 1000000\n",
      "ind= 2000000\n",
      "ind= 3000000\n",
      "match found!, ind= 3268774\n",
      "ind= 4000000\n"
     ]
    }
   ],
   "source": [
    "infile = open('test_sequence.txt','r') #file should be in same folder as this notebook\n",
    "S = infile.read() #(long) gene sequence\n",
    "infile.close()\n",
    "P = 'TCGATCGGAAGT' #example pattern\n",
    "\n",
    "imatch=[] #list of match locations\n",
    "n,m=len(S),len(P)\n",
    "\n",
    "#Iterate through data\n",
    "for ind in range(0,n-m+1):\n",
    "    if ind%1000000==0: print(\"ind=\",ind)\n",
    "    match=True\n",
    "    for j in range(m): #character-by-character comparison\n",
    "        if P[j] != S[ind+j]:\n",
    "            match=False\n",
    "            break\n",
    "    if match:\n",
    "        print(\"match found!, ind=\",ind)\n",
    "        imatch.append(ind)\n",
    "            "
   ]
  },
  {
   "cell_type": "markdown",
   "metadata": {},
   "source": [
    "In Python, it is possible to directly compare strings. For example, given two strings, S1 and S2, we can simply check if S1==S2. We don't know (without doing a little research) the algorithm Python uses for this comparison or if it will be better than the approach used in our pattern search code."
   ]
  },
  {
   "cell_type": "markdown",
   "metadata": {},
   "source": [
    "1) How does the use of direct string comparison affect the speed of the pattern search code? Create a new function which replaces the character-by-character comparison with a direct comparison. Compare the time required by each function."
   ]
  },
  {
   "cell_type": "code",
   "execution_count": 90,
   "metadata": {},
   "outputs": [
    {
     "name": "stdout",
     "output_type": "stream",
     "text": [
      "1.6383538246154785 0.6931400299072266\n"
     ]
    }
   ],
   "source": [
    "from time import time\n",
    "\n",
    "def psearch1(S,P):\n",
    "    imatch=[] #list of match locations\n",
    "    n,m=len(S),len(P)\n",
    "\n",
    "    #Iterate through data\n",
    "    for ind in range(0,n-m+1):\n",
    "        match=True\n",
    "        for j in range(m): #character-by-character comparison\n",
    "            if P[j] != S[ind+j]:\n",
    "                match=False\n",
    "                break\n",
    "        if match:\n",
    "            #print(\"match found!, ind=\",ind)\n",
    "            imatch.append(ind)\n",
    "    return imatch\n",
    "\n",
    "def psearch2(S,P):\n",
    "     #Add code here\n",
    "    imatch = []\n",
    "    n, m = len(S), len(P)\n",
    "\n",
    "    for ind in range(0, n - m + 1):\n",
    "        if S[ind:ind + m] == P:\n",
    "            imatch.append(ind)\n",
    "    return imatch\n",
    "        \n",
    "#Add more code here\n",
    "\n",
    "t1 = time()\n",
    "x1 = psearch1(S, P)\n",
    "t2 = time()\n",
    "x2 = psearch2(S, P)\n",
    "t3 = time()\n",
    "print(t2 - t1, t3 - t2)"
   ]
  },
  {
   "cell_type": "markdown",
   "metadata": {},
   "source": [
    "2) Use numerical tests to construct an estimate of the asymptotic time complexity of direct string comparison. How does it compare to character-by-character comparison? What happens if the two strings match or \"nearly\" match?"
   ]
  },
  {
   "cell_type": "code",
   "execution_count": 96,
   "metadata": {},
   "outputs": [
    {
     "ename": "KeyboardInterrupt",
     "evalue": "",
     "output_type": "error",
     "traceback": [
      "\u001b[0;31m---------------------------------------------------------------------------\u001b[0m",
      "\u001b[0;31mKeyboardInterrupt\u001b[0m                         Traceback (most recent call last)",
      "\u001b[0;32m/var/folders/vg/6675r30x0zd96_fc4pksb0j00000gq/T/ipykernel_92371/4164134474.py\u001b[0m in \u001b[0;36m<module>\u001b[0;34m\u001b[0m\n\u001b[1;32m      6\u001b[0m \u001b[0;32mfor\u001b[0m \u001b[0mi\u001b[0m \u001b[0;32min\u001b[0m \u001b[0mrange\u001b[0m\u001b[0;34m(\u001b[0m\u001b[0;36m0\u001b[0m\u001b[0;34m,\u001b[0m \u001b[0mlen\u001b[0m\u001b[0;34m(\u001b[0m\u001b[0mS\u001b[0m\u001b[0;34m)\u001b[0m\u001b[0;34m,\u001b[0m \u001b[0mn\u001b[0m\u001b[0;34m)\u001b[0m\u001b[0;34m:\u001b[0m\u001b[0;34m\u001b[0m\u001b[0;34m\u001b[0m\u001b[0m\n\u001b[1;32m      7\u001b[0m     \u001b[0mt_1\u001b[0m \u001b[0;34m=\u001b[0m \u001b[0mtime\u001b[0m\u001b[0;34m(\u001b[0m\u001b[0;34m)\u001b[0m\u001b[0;34m\u001b[0m\u001b[0;34m\u001b[0m\u001b[0m\n\u001b[0;32m----> 8\u001b[0;31m     \u001b[0mx_1\u001b[0m \u001b[0;34m=\u001b[0m \u001b[0mpsearch1\u001b[0m\u001b[0;34m(\u001b[0m\u001b[0mS\u001b[0m\u001b[0;34m[\u001b[0m\u001b[0;36m0\u001b[0m\u001b[0;34m:\u001b[0m\u001b[0mi\u001b[0m\u001b[0;34m*\u001b[0m\u001b[0mlen\u001b[0m\u001b[0;34m(\u001b[0m\u001b[0mS\u001b[0m\u001b[0;34m)\u001b[0m\u001b[0;34m//\u001b[0m\u001b[0mn\u001b[0m\u001b[0;34m]\u001b[0m\u001b[0;34m,\u001b[0m \u001b[0mP\u001b[0m\u001b[0;34m)\u001b[0m\u001b[0;34m\u001b[0m\u001b[0;34m\u001b[0m\u001b[0m\n\u001b[0m\u001b[1;32m      9\u001b[0m     \u001b[0mt_2\u001b[0m \u001b[0;34m=\u001b[0m \u001b[0mtime\u001b[0m\u001b[0;34m(\u001b[0m\u001b[0;34m)\u001b[0m\u001b[0;34m\u001b[0m\u001b[0;34m\u001b[0m\u001b[0m\n\u001b[1;32m     10\u001b[0m     \u001b[0mx_2\u001b[0m \u001b[0;34m=\u001b[0m \u001b[0mpsearch2\u001b[0m\u001b[0;34m(\u001b[0m\u001b[0mS\u001b[0m\u001b[0;34m[\u001b[0m\u001b[0;36m0\u001b[0m\u001b[0;34m:\u001b[0m\u001b[0mi\u001b[0m\u001b[0;34m*\u001b[0m\u001b[0mlen\u001b[0m\u001b[0;34m(\u001b[0m\u001b[0mS\u001b[0m\u001b[0;34m)\u001b[0m\u001b[0;34m//\u001b[0m\u001b[0mn\u001b[0m\u001b[0;34m]\u001b[0m\u001b[0;34m,\u001b[0m \u001b[0mP\u001b[0m\u001b[0;34m)\u001b[0m\u001b[0;34m\u001b[0m\u001b[0;34m\u001b[0m\u001b[0m\n",
      "\u001b[0;32m/var/folders/vg/6675r30x0zd96_fc4pksb0j00000gq/T/ipykernel_92371/914276227.py\u001b[0m in \u001b[0;36mpsearch1\u001b[0;34m(S, P)\u001b[0m\n\u001b[1;32m      8\u001b[0m     \u001b[0;32mfor\u001b[0m \u001b[0mind\u001b[0m \u001b[0;32min\u001b[0m \u001b[0mrange\u001b[0m\u001b[0;34m(\u001b[0m\u001b[0;36m0\u001b[0m\u001b[0;34m,\u001b[0m\u001b[0mn\u001b[0m\u001b[0;34m-\u001b[0m\u001b[0mm\u001b[0m\u001b[0;34m+\u001b[0m\u001b[0;36m1\u001b[0m\u001b[0;34m)\u001b[0m\u001b[0;34m:\u001b[0m\u001b[0;34m\u001b[0m\u001b[0;34m\u001b[0m\u001b[0m\n\u001b[1;32m      9\u001b[0m         \u001b[0mmatch\u001b[0m\u001b[0;34m=\u001b[0m\u001b[0;32mTrue\u001b[0m\u001b[0;34m\u001b[0m\u001b[0;34m\u001b[0m\u001b[0m\n\u001b[0;32m---> 10\u001b[0;31m         \u001b[0;32mfor\u001b[0m \u001b[0mj\u001b[0m \u001b[0;32min\u001b[0m \u001b[0mrange\u001b[0m\u001b[0;34m(\u001b[0m\u001b[0mm\u001b[0m\u001b[0;34m)\u001b[0m\u001b[0;34m:\u001b[0m \u001b[0;31m#character-by-character comparison\u001b[0m\u001b[0;34m\u001b[0m\u001b[0;34m\u001b[0m\u001b[0m\n\u001b[0m\u001b[1;32m     11\u001b[0m             \u001b[0;32mif\u001b[0m \u001b[0mP\u001b[0m\u001b[0;34m[\u001b[0m\u001b[0mj\u001b[0m\u001b[0;34m]\u001b[0m \u001b[0;34m!=\u001b[0m \u001b[0mS\u001b[0m\u001b[0;34m[\u001b[0m\u001b[0mind\u001b[0m\u001b[0;34m+\u001b[0m\u001b[0mj\u001b[0m\u001b[0;34m]\u001b[0m\u001b[0;34m:\u001b[0m\u001b[0;34m\u001b[0m\u001b[0;34m\u001b[0m\u001b[0m\n\u001b[1;32m     12\u001b[0m                 \u001b[0mmatch\u001b[0m\u001b[0;34m=\u001b[0m\u001b[0;32mFalse\u001b[0m\u001b[0;34m\u001b[0m\u001b[0;34m\u001b[0m\u001b[0m\n",
      "\u001b[0;31mKeyboardInterrupt\u001b[0m: "
     ]
    }
   ],
   "source": [
    "#add code here\n",
    "x = np.linspace(0, 10, 100)\n",
    "n = 100000\n",
    "times1 = []\n",
    "times2 = []\n",
    "for i in range(0, len(S), n):\n",
    "    t_1 = time()\n",
    "    x_1 = psearch1(S[0:i*len(S)//n], P)\n",
    "    t_2 = time()\n",
    "    x_2 = psearch2(S[0:i*len(S)//n], P)\n",
    "    t_3 = time()\n",
    "    times1.append(t2 - t1)\n",
    "    times2.append(t3 - t2)\n",
    "plt.plot(x, times1)\n",
    "plt.plot(x, times2)"
   ]
  },
  {
   "cell_type": "markdown",
   "metadata": {},
   "source": [
    "### Task 3: Building a simple graph in NetworkX"
   ]
  },
  {
   "cell_type": "markdown",
   "metadata": {},
   "source": [
    "1. Create an edge list for the graph shown below and then use the edge list to create and display a NetworkX graph. Number the nodes from $1$ to $8$ with node $1$ corresponding to the central high-degree node.\n",
    "<img src=\"https://upload.wikimedia.org/wikipedia/commons/thumb/4/49/Star_network_7.svg/180px-Star_network_7.svg.png\">"
   ]
  },
  {
   "cell_type": "code",
   "execution_count": 103,
   "metadata": {},
   "outputs": [
    {
     "data": {
      "image/png": "[encoded data removed]",
      "text/plain": [
       "<Figure size 640x480 with 1 Axes>"
      ]
     },
     "metadata": {},
     "output_type": "display_data"
    }
   ],
   "source": [
    "import networkx as nx\n",
    "#Add code here\n",
    "G = nx.Graph()\n",
    "G.add_nodes_from([1, 2, 3, 4, 5, 6, 7, 8])\n",
    "G.add_edges_from([(1, 2), (1, 3), (1, 4), (1, 5), (1, 6), (1, 7), (1, 8)])\n",
    "nx.draw(G)"
   ]
  },
  {
   "cell_type": "markdown",
   "metadata": {},
   "source": [
    "2) Create a list of the degrees in the graph using the *degree* method"
   ]
  },
  {
   "cell_type": "code",
   "execution_count": 104,
   "metadata": {},
   "outputs": [
    {
     "data": {
      "text/plain": [
       "DegreeView({1: 7, 2: 1, 3: 1, 4: 1, 5: 1, 6: 1, 7: 1, 8: 1})"
      ]
     },
     "execution_count": 104,
     "metadata": {},
     "output_type": "execute_result"
    }
   ],
   "source": [
    "#Add code here\n",
    "nx.degree(G)"
   ]
  },
  {
   "cell_type": "code",
   "execution_count": null,
   "metadata": {},
   "outputs": [],
   "source": []
  }
 ],
 "metadata": {
  "kernelspec": {
   "display_name": "Python 3 (ipykernel)",
   "language": "python",
   "name": "python3"
  },
  "language_info": {
   "codemirror_mode": {
    "name": "ipython",
    "version": 3
   },
   "file_extension": ".py",
   "mimetype": "text/x-python",
   "name": "python",
   "nbconvert_exporter": "python",
   "pygments_lexer": "ipython3",
   "version": "3.8.13"
  }
 },
 "nbformat": 4,
 "nbformat_minor": 1
}
