{
 "cells": [
  {
   "cell_type": "markdown",
   "metadata": {},
   "source": [
    "## Scientific Computation Lab 3"
   ]
  },
  {
   "cell_type": "markdown",
   "metadata": {},
   "source": [
    "In the first two tasks of this lab, we will continue using timing tests to build our understanding of the cost of different operations in Python. Keep in mind that timing results can be unreliable for operations that are very fast. In such cases, it can be helpful to repeat the operation several times and to then compute the average time taken per repetition. It can also be helpful to experiment with different timers, particularly if you are using Windows (e.g. see the documentation here: https://docs.python.org/3/library/time.html)\n",
    "\n",
    "We typically aim to compare timing results with estimates of the time complexity. The following reference contains useful information about the expected cost of various operations with a few Python containers: https://wiki.python.org/moin/TimeComplexity\n",
    "\n",
    "\n"
   ]
  },
  {
   "cell_type": "markdown",
   "metadata": {},
   "source": [
    "### Task 1: Analyzing the cost of the Python hash function"
   ]
  },
  {
   "cell_type": "markdown",
   "metadata": {},
   "source": [
    "1) We have stated that the cost of lookup in a Python dictionary is independent of the size of the dictionary, but what about the length of the key? Analyze the time required to compute the hash of strings with a range of lengths using the Python built-in hash function. The range of lengths should span several orders of magnitude and initially, you can try a maximum length of $10^5$. Depending on your computer, you may be able to consider longer lengths. You should make a log-log plot of the wall time vs. string length.\n",
    "\n",
    "**Notes:**\n",
    "1. np.logspace can be used to generate the string lengths if dtype=int is used \n",
    "2. A simple way to construct a string with length N is: 'a' * N\n",
    "3. Python stores the hash of a string once it is computed, so timeit will give misleading results as the hash will only be computed during the first iteration of the loop used by timeit."
   ]
  },
  {
   "cell_type": "code",
   "execution_count": null,
   "metadata": {},
   "outputs": [],
   "source": [
    "#Add code here\n"
   ]
  },
  {
   "cell_type": "markdown",
   "metadata": {},
   "source": [
    "2) Assume that for sufficiently large string lengths that $t \\sim N^a$ where $t$ is the wall time and $N$ is the string length. Estimate $a$ by computing a linear least-squares fir to, $log(t) = a log(N) + b$. The coefficients $a$ and $b$ can be computed with *np.polyfit* or something similar.\n"
   ]
  },
  {
   "cell_type": "code",
   "execution_count": null,
   "metadata": {},
   "outputs": [],
   "source": [
    "#Add code here\n"
   ]
  },
  {
   "cell_type": "markdown",
   "metadata": {},
   "source": [
    "An important general point to keep in mind is that strings are containers (like lists and dictionaries), and when carrying out tasks with containers, it is important to carefully consider if/how the cost of the task depends on the size of the container."
   ]
  },
  {
   "cell_type": "markdown",
   "metadata": {},
   "source": [
    "### Task 2: String matching efficiency"
   ]
  },
  {
   "cell_type": "markdown",
   "metadata": {},
   "source": [
    "Our simple pattern-search algorithm utilizes a character-by-character comparison of the pattern with sub-strings in the larger genetic sequence:"
   ]
  },
  {
   "cell_type": "code",
   "execution_count": null,
   "metadata": {},
   "outputs": [],
   "source": [
    "infile = open('test_sequence.txt','r') #file should be in same folder as this notebook\n",
    "S = infile.read() #(long) gene sequence\n",
    "infile.close()\n",
    "P = 'TCGATCGGAAGT' #example pattern\n",
    "\n",
    "imatch=[] #list of match locations\n",
    "n,m=len(S),len(P)\n",
    "\n",
    "#Iterate through data\n",
    "for ind in range(0,n-m+1):\n",
    "    if ind%1000000==0: print(\"ind=\",ind)\n",
    "    match=True\n",
    "    for j in range(m): #character-by-character comparison\n",
    "        if P[j] != S[ind+j]:\n",
    "            match=False\n",
    "            break\n",
    "    if match:\n",
    "        print(\"match found!, ind=\",ind)\n",
    "        imatch.append(ind)\n",
    "            "
   ]
  },
  {
   "cell_type": "markdown",
   "metadata": {},
   "source": [
    "In Python, it is possible to directly compare strings. For example, given two strings, S1 and S2, we can simply check if S1==S2. We don't know (without doing a little research) the algorithm Python uses for this comparison or if it will be better than the approach used in our pattern search code."
   ]
  },
  {
   "cell_type": "markdown",
   "metadata": {},
   "source": [
    "1) How does the use of direct string comparison affect the speed of the pattern search code? Create a new function which replaces the character-by-character comparison with a direct comparison. Compare the time required by each function."
   ]
  },
  {
   "cell_type": "code",
   "execution_count": null,
   "metadata": {},
   "outputs": [],
   "source": [
    "from time import time\n",
    "\n",
    "def psearch1(S,P):\n",
    "    imatch=[] #list of match locations\n",
    "    n,m=len(S),len(P)\n",
    "\n",
    "    #Iterate through data\n",
    "    for ind in range(0,n-m+1):\n",
    "        match=True\n",
    "        for j in range(m): #character-by-character comparison\n",
    "            if P[j] != S[ind+j]:\n",
    "                match=False\n",
    "                break\n",
    "        if match:\n",
    "            print(\"match found!, ind=\",ind)\n",
    "            imatch.append(ind)\n",
    "    return imatch\n",
    "\n",
    "def psearch2(S,P):\n",
    "     #Add code here\n",
    "\n",
    "\n",
    "        \n",
    "#Add more code here"
   ]
  },
  {
   "cell_type": "markdown",
   "metadata": {},
   "source": [
    "2) Use numerical tests to construct an estimate of the asymptotic time complexity of direct string comparison. How does it compare to character-by-character comparison? What happens if the two strings match or \"nearly\" match?"
   ]
  },
  {
   "cell_type": "code",
   "execution_count": null,
   "metadata": {},
   "outputs": [],
   "source": [
    "#add code here\n",
    "\n"
   ]
  },
  {
   "cell_type": "markdown",
   "metadata": {},
   "source": [
    "### Task 3: Building a simple graph in NetworkX"
   ]
  },
  {
   "cell_type": "markdown",
   "metadata": {},
   "source": [
    "1. Create an edge list for the graph shown below and then use the edge list to create and display a NetworkX graph. Number the nodes from $1$ to $8$ with node $1$ corresponding to the central high-degree node.\n",
    "<img src=\"https://upload.wikimedia.org/wikipedia/commons/thumb/4/49/Star_network_7.svg/180px-Star_network_7.svg.png\">"
   ]
  },
  {
   "cell_type": "code",
   "execution_count": null,
   "metadata": {},
   "outputs": [],
   "source": [
    "import networkx as nx\n",
    "#Add code here"
   ]
  },
  {
   "cell_type": "markdown",
   "metadata": {},
   "source": [
    "2) Create a list of the degrees in the graph using the *degree* method"
   ]
  },
  {
   "cell_type": "code",
   "execution_count": null,
   "metadata": {},
   "outputs": [],
   "source": [
    "#Add code here"
   ]
  }
 ],
 "metadata": {
  "kernelspec": {
   "display_name": "Python 3 (ipykernel)",
   "language": "python",
   "name": "python3"
  },
  "language_info": {
   "codemirror_mode": {
    "name": "ipython",
    "version": 3
   },
   "file_extension": ".py",
   "mimetype": "text/x-python",
   "name": "python",
   "nbconvert_exporter": "python",
   "pygments_lexer": "ipython3",
   "version": "3.9.16"
  }
 },
 "nbformat": 4,
 "nbformat_minor": 1
}
